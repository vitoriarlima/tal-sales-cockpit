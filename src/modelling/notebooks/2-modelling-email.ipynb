{
 "cells": [
  {
   "cell_type": "markdown",
   "metadata": {},
   "source": [
    "# TAL Research\n",
    "## **Modelling: Part 2 of 4** - Feature Selection and Modelling for Email data with Accounts Data\n",
    "\n",
    "\n",
    "**Objective**: Develop a small scale model based on the data provided to appropriately help the team prioritize accounts for our sales reps to target.\n",
    "\n",
    "**What we know**:\n",
    "- **unique ID** is the id_number, i.e. every id number belongs to a unique company. This is important because it determines how we will consider (concatenate) the different datasets (excel files) with each other.\n",
    "\n",
    "**Datasets**:\n",
    "- **Train**: 565 accounts that have been reached out to, with 225 successful sales\n",
    "- **Test**: 340 target accounts, which have had **no** interacitons yet\n",
    "\n"
   ]
  },
  {
   "cell_type": "markdown",
   "metadata": {},
   "source": [
    "## Imports"
   ]
  },
  {
   "cell_type": "code",
   "execution_count": 8,
   "metadata": {},
   "outputs": [],
   "source": [
    "import pandas as pd\n",
    "import matplotlib.pyplot as plt\n",
    "import seaborn as sns\n",
    "import numpy as np"
   ]
  },
  {
   "cell_type": "code",
   "execution_count": 9,
   "metadata": {},
   "outputs": [],
   "source": [
    "\n",
    "import pandas as pd\n",
    "from sklearn.preprocessing import OneHotEncoder\n",
    "from sklearn.compose import ColumnTransformer\n",
    "from sklearn.pipeline import Pipeline\n",
    "from sklearn.ensemble import RandomForestClassifier\n",
    "from sklearn.linear_model import LogisticRegression\n",
    "from sklearn.model_selection import train_test_split\n",
    "from sklearn.preprocessing import StandardScaler\n",
    "from sklearn.metrics import roc_auc_score\n"
   ]
  },
  {
   "cell_type": "code",
   "execution_count": 10,
   "metadata": {},
   "outputs": [
    {
     "name": "stdout",
     "output_type": "stream",
     "text": [
      "Train Data Imputed:\n",
      "(565, 36)\n",
      "225\n",
      "Test Data Imputed:\n",
      "(340, 35)\n"
     ]
    }
   ],
   "source": [
    "import pandas as pd\n",
    "\n",
    "# Define the paths to the imputed datasets\n",
    "train_data_path = '../../../data_processed/email/train.csv'\n",
    "test_data_path = '../../../data_processed/email/test.csv'\n",
    "\n",
    "# Load the imputed datasets\n",
    "train = pd.read_csv(train_data_path)\n",
    "test = pd.read_csv(test_data_path)\n",
    "train.set_index('id_number', inplace=True)\n",
    "test.set_index('id_number', inplace=True)\n",
    "\n",
    "# Display the first few rows to verify the data\n",
    "print(\"Train Data Imputed:\")\n",
    "print(train.shape)\n",
    "print(train['target_met'].sum())\n",
    "\n",
    "print(\"Test Data Imputed:\")\n",
    "print(test.shape)\n"
   ]
  },
  {
   "cell_type": "markdown",
   "metadata": {},
   "source": [
    "### Loading data, creating one hot encoded variables for categorical variables"
   ]
  },
  {
   "cell_type": "code",
   "execution_count": 11,
   "metadata": {},
   "outputs": [
    {
     "name": "stdout",
     "output_type": "stream",
     "text": [
      "\n",
      "Train DataFrame after preprocessing:\n",
      "           org_size_1_99  org_size_100_499  org_size_500_999  \\\n",
      "id_number                                                      \n",
      "76                     0                 1                 0   \n",
      "120                    0                 0                 1   \n",
      "127                    1                 0                 0   \n",
      "156                    0                 1                 0   \n",
      "188                    1                 0                 0   \n",
      "\n",
      "           org_size_1000_4999  org_size_greaterthan_5000  Has_Website  \\\n",
      "id_number                                                               \n",
      "76                          0                          0            1   \n",
      "120                         0                          0            1   \n",
      "127                         0                          0            1   \n",
      "156                         0                          0            1   \n",
      "188                         0                          0            0   \n",
      "\n",
      "           Number_of_Vehicles__c  Segment_E  SegmentE3  SegmentA1  ...  \\\n",
      "id_number                                                          ...   \n",
      "76                          17.0          0          0          0  ...   \n",
      "120                         50.0          0          1          0  ...   \n",
      "127                         50.0          0          0          0  ...   \n",
      "156                       2200.0          1          0          0  ...   \n",
      "188                         23.0          0          1          0  ...   \n",
      "\n",
      "           billingstatecode_VA  billingstatecode_VI  billingstatecode_VT  \\\n",
      "id_number                                                                  \n",
      "76                         0.0                  0.0                  0.0   \n",
      "120                        0.0                  0.0                  0.0   \n",
      "127                        0.0                  0.0                  0.0   \n",
      "156                        1.0                  0.0                  0.0   \n",
      "188                        0.0                  0.0                  0.0   \n",
      "\n",
      "           billingstatecode_WA  billingstatecode_WI  billingstatecode_WV  \\\n",
      "id_number                                                                  \n",
      "76                         0.0                  0.0                  0.0   \n",
      "120                        0.0                  0.0                  0.0   \n",
      "127                        0.0                  0.0                  0.0   \n",
      "156                        0.0                  0.0                  0.0   \n",
      "188                        0.0                  0.0                  0.0   \n",
      "\n",
      "           billingstatecode_WY  D&B_Score_HIGH  D&B_Score_LOW  \\\n",
      "id_number                                                       \n",
      "76                         0.0             1.0            0.0   \n",
      "120                        0.0             1.0            0.0   \n",
      "127                        0.0             1.0            0.0   \n",
      "156                        0.0             1.0            0.0   \n",
      "188                        0.0             1.0            0.0   \n",
      "\n",
      "           D&B_Score_MEDIUM  \n",
      "id_number                    \n",
      "76                      0.0  \n",
      "120                     0.0  \n",
      "127                     0.0  \n",
      "156                     0.0  \n",
      "188                     0.0  \n",
      "\n",
      "[5 rows x 111 columns]\n",
      "(565, 111)\n",
      "\n",
      "Test DataFrame after preprocessing:\n",
      "           org_size_1_99  org_size_100_499  org_size_500_999  \\\n",
      "id_number                                                      \n",
      "423                    1                 0                 0   \n",
      "718                    1                 0                 0   \n",
      "759                    1                 0                 0   \n",
      "808                    1                 0                 0   \n",
      "855                    0                 1                 0   \n",
      "\n",
      "           org_size_1000_4999  org_size_greaterthan_5000  Has_Website  \\\n",
      "id_number                                                               \n",
      "423                         0                          0            1   \n",
      "718                         0                          0            1   \n",
      "759                         0                          0            1   \n",
      "808                         0                          0            1   \n",
      "855                         0                          0            1   \n",
      "\n",
      "           Number_of_Vehicles__c  Segment_E  SegmentE3  SegmentA1  ...  \\\n",
      "id_number                                                          ...   \n",
      "423                          3.0          0          0          0  ...   \n",
      "718                         10.0          0          0          0  ...   \n",
      "759                         15.0          0          0          0  ...   \n",
      "808                         31.0          0          0          0  ...   \n",
      "855                         33.0          0          0          0  ...   \n",
      "\n",
      "           billingstatecode_VA  billingstatecode_VI  billingstatecode_VT  \\\n",
      "id_number                                                                  \n",
      "423                        0.0                  0.0                  0.0   \n",
      "718                        0.0                  0.0                  0.0   \n",
      "759                        0.0                  0.0                  0.0   \n",
      "808                        0.0                  0.0                  0.0   \n",
      "855                        0.0                  0.0                  0.0   \n",
      "\n",
      "           billingstatecode_WA  billingstatecode_WI  billingstatecode_WV  \\\n",
      "id_number                                                                  \n",
      "423                        0.0                  0.0                  0.0   \n",
      "718                        0.0                  0.0                  0.0   \n",
      "759                        0.0                  0.0                  0.0   \n",
      "808                        0.0                  0.0                  0.0   \n",
      "855                        0.0                  0.0                  0.0   \n",
      "\n",
      "           billingstatecode_WY  D&B_Score_HIGH  D&B_Score_LOW  \\\n",
      "id_number                                                       \n",
      "423                        0.0             1.0            0.0   \n",
      "718                        0.0             1.0            0.0   \n",
      "759                        0.0             1.0            0.0   \n",
      "808                        0.0             1.0            0.0   \n",
      "855                        0.0             1.0            0.0   \n",
      "\n",
      "           D&B_Score_MEDIUM  \n",
      "id_number                    \n",
      "423                     0.0  \n",
      "718                     0.0  \n",
      "759                     0.0  \n",
      "808                     0.0  \n",
      "855                     0.0  \n",
      "\n",
      "[5 rows x 111 columns]\n",
      "(340, 111)\n",
      "\n",
      "Train index name:\n",
      "id_number\n",
      "\n",
      "Test index name:\n",
      "id_number\n"
     ]
    }
   ],
   "source": [
    "import pandas as pd\n",
    "from sklearn.preprocessing import OneHotEncoder\n",
    "\n",
    "\n",
    "\n",
    "# Define the categories to check for the condition\n",
    "categories = ['org_size_1_99', 'org_size_500_999', 'org_size_1000_4999', 'org_size_greaterthan_5000']\n",
    "\n",
    "# Condition to filter data where all categories are 0\n",
    "condition_train = (train[categories] == 0).all(axis=1)\n",
    "condition_test = (test[categories] == 0).all(axis=1)\n",
    "\n",
    "# Set the 'org_size_100_499' column to 1 where the condition is met\n",
    "train.loc[condition_train, 'org_size_100_499'] = 1\n",
    "test.loc[condition_test, 'org_size_100_499'] = 1\n",
    "\n",
    "# Define the date columns\n",
    "date_cols = ['first_action_date', 'last_action_date']\n",
    "\n",
    "# Extract month from the date columns\n",
    "for col in date_cols:\n",
    "    train[col] = pd.to_datetime(train[col])\n",
    "    train[f\"{col}_month\"] = train[col].dt.month\n",
    "\n",
    "    test[col] = pd.to_datetime(test[col])\n",
    "    test[f\"{col}_month\"] = test[col].dt.month\n",
    "\n",
    "# Drop the original date columns\n",
    "train = train.drop(columns=date_cols)\n",
    "test = test.drop(columns=date_cols)\n",
    "\n",
    "# Define features and target\n",
    "X_train = train.drop(columns=['target_met'])\n",
    "y_train = train['target_met']\n",
    "\n",
    "X_test = test\n",
    "# y_test = test['target_met']\n",
    "\n",
    "# Define categorical and numerical columns\n",
    "categorical_cols = ['Industry', 'billingstatecode', 'D&B_Score']\n",
    "numerical_cols = X_train.select_dtypes(include=['int64', 'float64']).columns.tolist()\n",
    "\n",
    "# One-hot encode categorical variables for train\n",
    "onehotencoder = OneHotEncoder(sparse_output=False)\n",
    "X_train_encoded = pd.DataFrame(onehotencoder.fit_transform(X_train[categorical_cols]), index=X_train.index)\n",
    "X_train_encoded.columns = onehotencoder.get_feature_names_out(categorical_cols)\n",
    "\n",
    "# One-hot encode categorical variables for test\n",
    "X_test_encoded = pd.DataFrame(onehotencoder.transform(X_test[categorical_cols]), index=X_test.index)\n",
    "X_test_encoded.columns = onehotencoder.get_feature_names_out(categorical_cols)\n",
    "\n",
    "# Drop original categorical columns and add one-hot encoded columns for train\n",
    "X_train = X_train.drop(columns=categorical_cols)\n",
    "X_train = pd.concat([X_train, X_train_encoded], axis=1)\n",
    "\n",
    "# Drop original categorical columns and add one-hot encoded columns for test\n",
    "X_test = X_test.drop(columns=categorical_cols)\n",
    "X_test = pd.concat([X_test, X_test_encoded], axis=1)\n",
    "\n",
    "# Print the final DataFrames to verify\n",
    "print(\"\\nTrain DataFrame after preprocessing:\")\n",
    "print(X_train.head())\n",
    "print(X_train.shape)\n",
    "\n",
    "print(\"\\nTest DataFrame after preprocessing:\")\n",
    "print(X_test.head())\n",
    "print(X_test.shape)\n",
    "\n",
    "# Verify 'id_number' is still the index\n",
    "print(\"\\nTrain index name:\")\n",
    "print(X_train.index.name)\n",
    "\n",
    "print(\"\\nTest index name:\")\n",
    "print(X_test.index.name)\n",
    "\n",
    "# Ensure the shapes are correct\n",
    "assert X_train.shape[0] == 565, \"Train dataset row count changed!\"\n",
    "assert X_test.shape[0] == test.shape[0], \"Test dataset row count changed!\"\n"
   ]
  },
  {
   "cell_type": "markdown",
   "metadata": {},
   "source": [
    "### Feature Selection with Random Forest"
   ]
  },
  {
   "cell_type": "code",
   "execution_count": 12,
   "metadata": {},
   "outputs": [],
   "source": [
    "import pandas as pd\n",
    "import numpy as np\n",
    "import plotly.graph_objects as go\n",
    "from sklearn.model_selection import train_test_split\n",
    "from sklearn.ensemble import RandomForestClassifier\n",
    "from sklearn.linear_model import LogisticRegression\n",
    "from sklearn.metrics import roc_auc_score\n",
    "\n",
    "# Assuming X and y are already defined\n",
    "# If X and y are not defined, you need to load and preprocess your data accordingly\n",
    "\n",
    "# Function to streamline the process for the entire dataset\n",
    "def model_for_entire_dataset(X, y, num_features):\n",
    "    results = {}\n",
    "    \n",
    "    # Train-test split\n",
    "    X_train, X_val, y_train, y_val = train_test_split(X, y, test_size=0.2, random_state=42)\n",
    "    \n",
    "    # Train RandomForestClassifier\n",
    "    clf = RandomForestClassifier(random_state=0)\n",
    "    clf = clf.fit(X_train, y_train)\n",
    "    \n",
    "    # Calculate AUC score on validation set\n",
    "    rf_auc_val = roc_auc_score(y_val, clf.predict_proba(X_val)[:, 1])\n",
    "    \n",
    "    # Get feature importances\n",
    "    feature_importances = pd.Series(clf.feature_importances_, index=X_train.columns)\n",
    "    feature_importances_sorted = feature_importances.sort_values(ascending=False)\n",
    "    \n",
    "    # Initialize lists\n",
    "    base_clf_list = []\n",
    "    train_auc_list = []\n",
    "    test_auc_list = []\n",
    "    \n",
    "    for i in range(num_features):  # Limiting to the first num_features most important features\n",
    "        feature_names = list(feature_importances_sorted.index[:i+1])\n",
    "        \n",
    "        base_clf = LogisticRegression(random_state=0, solver='newton-cg', penalty='l2', C=1.0)\n",
    "        base_clf.fit(X_train[feature_names], y_train)\n",
    "        \n",
    "        # Calculate AUC scores\n",
    "        train_auc = roc_auc_score(y_train, base_clf.predict_proba(X_train[feature_names])[:, 1])\n",
    "        val_auc = roc_auc_score(y_val, base_clf.predict_proba(X_val[feature_names])[:, 1])\n",
    "        \n",
    "        base_clf_list.append(base_clf)\n",
    "        train_auc_list.append(train_auc)\n",
    "        test_auc_list.append(val_auc)\n",
    "    \n",
    "    # Store results\n",
    "    results['feature_importances_sorted'] = feature_importances_sorted\n",
    "    results['base_clf_list'] = base_clf_list\n",
    "    results['train_auc_list'] = train_auc_list\n",
    "    results['test_auc_list'] = test_auc_list\n",
    "    results['rf_auc_val'] = rf_auc_val\n",
    "    \n",
    "    return results\n",
    "\n",
    "def plot_results(X, y, num_features):\n",
    "    # Train models and get results\n",
    "    results = model_for_entire_dataset(X, y, num_features)\n",
    "    \n",
    "    # Plotting the results using Plotly\n",
    "    def plot_auc_scores(results, num_features):\n",
    "        x_axis = list(range(1, num_features+1))\n",
    "        fig_auc = go.Figure()\n",
    "\n",
    "        fig_auc.add_trace(go.Scatter(x=x_axis, y=results['train_auc_list'], mode='lines+markers', name='Train AUC'))\n",
    "        fig_auc.add_trace(go.Scatter(x=x_axis, y=results['test_auc_list'], mode='lines+markers', name='Test AUC'))\n",
    "        fig_auc.add_trace(go.Scatter(x=x_axis, y=[results['rf_auc_val']] * num_features, mode='lines', name='RF AUC', line=dict(dash='dash')))\n",
    "\n",
    "        fig_auc.update_layout(\n",
    "            title=f'AUC Scores for Top {num_features} Features',\n",
    "            xaxis_title='Number of Variables',\n",
    "            yaxis_title='AUC',\n",
    "            legend_title='Legend'\n",
    "        )\n",
    "        return fig_auc\n",
    "\n",
    "    def plot_lr_coefficients(results, num_features):\n",
    "        coef = results['base_clf_list'][num_features-1].coef_[0]\n",
    "        fig_coef = go.Figure()\n",
    "        fig_coef.add_trace(go.Bar(x=list(results['feature_importances_sorted'].index[:num_features]), y=coef))\n",
    "\n",
    "        fig_coef.update_layout(\n",
    "            title=f'LR Coefficients for Top {num_features} Features',\n",
    "            xaxis_title='Feature',\n",
    "            yaxis_title='Coefficient (Log Odds)',\n",
    "            xaxis_tickangle=45\n",
    "        )\n",
    "        return fig_coef\n",
    "\n",
    "    fig_auc = plot_auc_scores(results, num_features)\n",
    "    fig_coef = plot_lr_coefficients(results, num_features)\n",
    "    \n",
    "    fig_auc.show()\n",
    "    fig_coef.show()\n"
   ]
  },
  {
   "cell_type": "code",
   "execution_count": 13,
   "metadata": {},
   "outputs": [
    {
     "name": "stderr",
     "output_type": "stream",
     "text": [
      "c:\\Python311\\Lib\\site-packages\\scipy\\optimize\\_linesearch.py:313: LineSearchWarning:\n",
      "\n",
      "The line search algorithm did not converge\n",
      "\n",
      "c:\\Python311\\Lib\\site-packages\\sklearn\\utils\\optimize.py:74: LineSearchWarning:\n",
      "\n",
      "The line search algorithm did not converge\n",
      "\n",
      "c:\\Python311\\Lib\\site-packages\\scipy\\optimize\\_linesearch.py:313: LineSearchWarning:\n",
      "\n",
      "Rounding errors prevent the line search from converging\n",
      "\n",
      "c:\\Python311\\Lib\\site-packages\\sklearn\\utils\\optimize.py:239: UserWarning:\n",
      "\n",
      "Line Search failed\n",
      "\n",
      "c:\\Python311\\Lib\\site-packages\\scipy\\optimize\\_linesearch.py:313: LineSearchWarning:\n",
      "\n",
      "The line search algorithm did not converge\n",
      "\n",
      "c:\\Python311\\Lib\\site-packages\\sklearn\\utils\\optimize.py:74: LineSearchWarning:\n",
      "\n",
      "The line search algorithm did not converge\n",
      "\n",
      "c:\\Python311\\Lib\\site-packages\\scipy\\optimize\\_linesearch.py:313: LineSearchWarning:\n",
      "\n",
      "Rounding errors prevent the line search from converging\n",
      "\n",
      "c:\\Python311\\Lib\\site-packages\\sklearn\\utils\\optimize.py:239: UserWarning:\n",
      "\n",
      "Line Search failed\n",
      "\n",
      "c:\\Python311\\Lib\\site-packages\\scipy\\optimize\\_linesearch.py:313: LineSearchWarning:\n",
      "\n",
      "The line search algorithm did not converge\n",
      "\n",
      "c:\\Python311\\Lib\\site-packages\\sklearn\\utils\\optimize.py:74: LineSearchWarning:\n",
      "\n",
      "The line search algorithm did not converge\n",
      "\n",
      "c:\\Python311\\Lib\\site-packages\\scipy\\optimize\\_linesearch.py:313: LineSearchWarning:\n",
      "\n",
      "Rounding errors prevent the line search from converging\n",
      "\n",
      "c:\\Python311\\Lib\\site-packages\\sklearn\\utils\\optimize.py:239: UserWarning:\n",
      "\n",
      "Line Search failed\n",
      "\n",
      "c:\\Python311\\Lib\\site-packages\\scipy\\optimize\\_linesearch.py:313: LineSearchWarning:\n",
      "\n",
      "The line search algorithm did not converge\n",
      "\n",
      "c:\\Python311\\Lib\\site-packages\\sklearn\\utils\\optimize.py:74: LineSearchWarning:\n",
      "\n",
      "The line search algorithm did not converge\n",
      "\n",
      "c:\\Python311\\Lib\\site-packages\\scipy\\optimize\\_linesearch.py:313: LineSearchWarning:\n",
      "\n",
      "Rounding errors prevent the line search from converging\n",
      "\n",
      "c:\\Python311\\Lib\\site-packages\\sklearn\\utils\\optimize.py:239: UserWarning:\n",
      "\n",
      "Line Search failed\n",
      "\n"
     ]
    },
    {
     "data": {
      "application/vnd.plotly.v1+json": {
       "config": {
        "plotlyServerURL": "https://plotly.com"
       },
       "data": [
        {
         "mode": "lines+markers",
         "name": "Train AUC",
         "type": "scatter",
         "x": [
          1,
          2,
          3,
          4,
          5
         ],
         "y": [
          0.7521380543197839,
          0.7544944847339874,
          0.7568001300099538,
          0.628059804578788,
          0.6341235500843033
         ]
        },
        {
         "mode": "lines+markers",
         "name": "Test AUC",
         "type": "scatter",
         "x": [
          1,
          2,
          3,
          4,
          5
         ],
         "y": [
          0.7677733065057009,
          0.7422870556673373,
          0.7396042924211939,
          0.6264252179745138,
          0.6193829644533871
         ]
        },
        {
         "line": {
          "dash": "dash"
         },
         "mode": "lines",
         "name": "RF AUC",
         "type": "scatter",
         "x": [
          1,
          2,
          3,
          4,
          5
         ],
         "y": [
          0.7654258886653253,
          0.7654258886653253,
          0.7654258886653253,
          0.7654258886653253,
          0.7654258886653253
         ]
        }
       ],
       "layout": {
        "legend": {
         "title": {
          "text": "Legend"
         }
        },
        "template": {
         "data": {
          "bar": [
           {
            "error_x": {
             "color": "#2a3f5f"
            },
            "error_y": {
             "color": "#2a3f5f"
            },
            "marker": {
             "line": {
              "color": "#E5ECF6",
              "width": 0.5
             },
             "pattern": {
              "fillmode": "overlay",
              "size": 10,
              "solidity": 0.2
             }
            },
            "type": "bar"
           }
          ],
          "barpolar": [
           {
            "marker": {
             "line": {
              "color": "#E5ECF6",
              "width": 0.5
             },
             "pattern": {
              "fillmode": "overlay",
              "size": 10,
              "solidity": 0.2
             }
            },
            "type": "barpolar"
           }
          ],
          "carpet": [
           {
            "aaxis": {
             "endlinecolor": "#2a3f5f",
             "gridcolor": "white",
             "linecolor": "white",
             "minorgridcolor": "white",
             "startlinecolor": "#2a3f5f"
            },
            "baxis": {
             "endlinecolor": "#2a3f5f",
             "gridcolor": "white",
             "linecolor": "white",
             "minorgridcolor": "white",
             "startlinecolor": "#2a3f5f"
            },
            "type": "carpet"
           }
          ],
          "choropleth": [
           {
            "colorbar": {
             "outlinewidth": 0,
             "ticks": ""
            },
            "type": "choropleth"
           }
          ],
          "contour": [
           {
            "colorbar": {
             "outlinewidth": 0,
             "ticks": ""
            },
            "colorscale": [
             [
              0,
              "#0d0887"
             ],
             [
              0.1111111111111111,
              "#46039f"
             ],
             [
              0.2222222222222222,
              "#7201a8"
             ],
             [
              0.3333333333333333,
              "#9c179e"
             ],
             [
              0.4444444444444444,
              "#bd3786"
             ],
             [
              0.5555555555555556,
              "#d8576b"
             ],
             [
              0.6666666666666666,
              "#ed7953"
             ],
             [
              0.7777777777777778,
              "#fb9f3a"
             ],
             [
              0.8888888888888888,
              "#fdca26"
             ],
             [
              1,
              "#f0f921"
             ]
            ],
            "type": "contour"
           }
          ],
          "contourcarpet": [
           {
            "colorbar": {
             "outlinewidth": 0,
             "ticks": ""
            },
            "type": "contourcarpet"
           }
          ],
          "heatmap": [
           {
            "colorbar": {
             "outlinewidth": 0,
             "ticks": ""
            },
            "colorscale": [
             [
              0,
              "#0d0887"
             ],
             [
              0.1111111111111111,
              "#46039f"
             ],
             [
              0.2222222222222222,
              "#7201a8"
             ],
             [
              0.3333333333333333,
              "#9c179e"
             ],
             [
              0.4444444444444444,
              "#bd3786"
             ],
             [
              0.5555555555555556,
              "#d8576b"
             ],
             [
              0.6666666666666666,
              "#ed7953"
             ],
             [
              0.7777777777777778,
              "#fb9f3a"
             ],
             [
              0.8888888888888888,
              "#fdca26"
             ],
             [
              1,
              "#f0f921"
             ]
            ],
            "type": "heatmap"
           }
          ],
          "heatmapgl": [
           {
            "colorbar": {
             "outlinewidth": 0,
             "ticks": ""
            },
            "colorscale": [
             [
              0,
              "#0d0887"
             ],
             [
              0.1111111111111111,
              "#46039f"
             ],
             [
              0.2222222222222222,
              "#7201a8"
             ],
             [
              0.3333333333333333,
              "#9c179e"
             ],
             [
              0.4444444444444444,
              "#bd3786"
             ],
             [
              0.5555555555555556,
              "#d8576b"
             ],
             [
              0.6666666666666666,
              "#ed7953"
             ],
             [
              0.7777777777777778,
              "#fb9f3a"
             ],
             [
              0.8888888888888888,
              "#fdca26"
             ],
             [
              1,
              "#f0f921"
             ]
            ],
            "type": "heatmapgl"
           }
          ],
          "histogram": [
           {
            "marker": {
             "pattern": {
              "fillmode": "overlay",
              "size": 10,
              "solidity": 0.2
             }
            },
            "type": "histogram"
           }
          ],
          "histogram2d": [
           {
            "colorbar": {
             "outlinewidth": 0,
             "ticks": ""
            },
            "colorscale": [
             [
              0,
              "#0d0887"
             ],
             [
              0.1111111111111111,
              "#46039f"
             ],
             [
              0.2222222222222222,
              "#7201a8"
             ],
             [
              0.3333333333333333,
              "#9c179e"
             ],
             [
              0.4444444444444444,
              "#bd3786"
             ],
             [
              0.5555555555555556,
              "#d8576b"
             ],
             [
              0.6666666666666666,
              "#ed7953"
             ],
             [
              0.7777777777777778,
              "#fb9f3a"
             ],
             [
              0.8888888888888888,
              "#fdca26"
             ],
             [
              1,
              "#f0f921"
             ]
            ],
            "type": "histogram2d"
           }
          ],
          "histogram2dcontour": [
           {
            "colorbar": {
             "outlinewidth": 0,
             "ticks": ""
            },
            "colorscale": [
             [
              0,
              "#0d0887"
             ],
             [
              0.1111111111111111,
              "#46039f"
             ],
             [
              0.2222222222222222,
              "#7201a8"
             ],
             [
              0.3333333333333333,
              "#9c179e"
             ],
             [
              0.4444444444444444,
              "#bd3786"
             ],
             [
              0.5555555555555556,
              "#d8576b"
             ],
             [
              0.6666666666666666,
              "#ed7953"
             ],
             [
              0.7777777777777778,
              "#fb9f3a"
             ],
             [
              0.8888888888888888,
              "#fdca26"
             ],
             [
              1,
              "#f0f921"
             ]
            ],
            "type": "histogram2dcontour"
           }
          ],
          "mesh3d": [
           {
            "colorbar": {
             "outlinewidth": 0,
             "ticks": ""
            },
            "type": "mesh3d"
           }
          ],
          "parcoords": [
           {
            "line": {
             "colorbar": {
              "outlinewidth": 0,
              "ticks": ""
             }
            },
            "type": "parcoords"
           }
          ],
          "pie": [
           {
            "automargin": true,
            "type": "pie"
           }
          ],
          "scatter": [
           {
            "fillpattern": {
             "fillmode": "overlay",
             "size": 10,
             "solidity": 0.2
            },
            "type": "scatter"
           }
          ],
          "scatter3d": [
           {
            "line": {
             "colorbar": {
              "outlinewidth": 0,
              "ticks": ""
             }
            },
            "marker": {
             "colorbar": {
              "outlinewidth": 0,
              "ticks": ""
             }
            },
            "type": "scatter3d"
           }
          ],
          "scattercarpet": [
           {
            "marker": {
             "colorbar": {
              "outlinewidth": 0,
              "ticks": ""
             }
            },
            "type": "scattercarpet"
           }
          ],
          "scattergeo": [
           {
            "marker": {
             "colorbar": {
              "outlinewidth": 0,
              "ticks": ""
             }
            },
            "type": "scattergeo"
           }
          ],
          "scattergl": [
           {
            "marker": {
             "colorbar": {
              "outlinewidth": 0,
              "ticks": ""
             }
            },
            "type": "scattergl"
           }
          ],
          "scattermapbox": [
           {
            "marker": {
             "colorbar": {
              "outlinewidth": 0,
              "ticks": ""
             }
            },
            "type": "scattermapbox"
           }
          ],
          "scatterpolar": [
           {
            "marker": {
             "colorbar": {
              "outlinewidth": 0,
              "ticks": ""
             }
            },
            "type": "scatterpolar"
           }
          ],
          "scatterpolargl": [
           {
            "marker": {
             "colorbar": {
              "outlinewidth": 0,
              "ticks": ""
             }
            },
            "type": "scatterpolargl"
           }
          ],
          "scatterternary": [
           {
            "marker": {
             "colorbar": {
              "outlinewidth": 0,
              "ticks": ""
             }
            },
            "type": "scatterternary"
           }
          ],
          "surface": [
           {
            "colorbar": {
             "outlinewidth": 0,
             "ticks": ""
            },
            "colorscale": [
             [
              0,
              "#0d0887"
             ],
             [
              0.1111111111111111,
              "#46039f"
             ],
             [
              0.2222222222222222,
              "#7201a8"
             ],
             [
              0.3333333333333333,
              "#9c179e"
             ],
             [
              0.4444444444444444,
              "#bd3786"
             ],
             [
              0.5555555555555556,
              "#d8576b"
             ],
             [
              0.6666666666666666,
              "#ed7953"
             ],
             [
              0.7777777777777778,
              "#fb9f3a"
             ],
             [
              0.8888888888888888,
              "#fdca26"
             ],
             [
              1,
              "#f0f921"
             ]
            ],
            "type": "surface"
           }
          ],
          "table": [
           {
            "cells": {
             "fill": {
              "color": "#EBF0F8"
             },
             "line": {
              "color": "white"
             }
            },
            "header": {
             "fill": {
              "color": "#C8D4E3"
             },
             "line": {
              "color": "white"
             }
            },
            "type": "table"
           }
          ]
         },
         "layout": {
          "annotationdefaults": {
           "arrowcolor": "#2a3f5f",
           "arrowhead": 0,
           "arrowwidth": 1
          },
          "autotypenumbers": "strict",
          "coloraxis": {
           "colorbar": {
            "outlinewidth": 0,
            "ticks": ""
           }
          },
          "colorscale": {
           "diverging": [
            [
             0,
             "#8e0152"
            ],
            [
             0.1,
             "#c51b7d"
            ],
            [
             0.2,
             "#de77ae"
            ],
            [
             0.3,
             "#f1b6da"
            ],
            [
             0.4,
             "#fde0ef"
            ],
            [
             0.5,
             "#f7f7f7"
            ],
            [
             0.6,
             "#e6f5d0"
            ],
            [
             0.7,
             "#b8e186"
            ],
            [
             0.8,
             "#7fbc41"
            ],
            [
             0.9,
             "#4d9221"
            ],
            [
             1,
             "#276419"
            ]
           ],
           "sequential": [
            [
             0,
             "#0d0887"
            ],
            [
             0.1111111111111111,
             "#46039f"
            ],
            [
             0.2222222222222222,
             "#7201a8"
            ],
            [
             0.3333333333333333,
             "#9c179e"
            ],
            [
             0.4444444444444444,
             "#bd3786"
            ],
            [
             0.5555555555555556,
             "#d8576b"
            ],
            [
             0.6666666666666666,
             "#ed7953"
            ],
            [
             0.7777777777777778,
             "#fb9f3a"
            ],
            [
             0.8888888888888888,
             "#fdca26"
            ],
            [
             1,
             "#f0f921"
            ]
           ],
           "sequentialminus": [
            [
             0,
             "#0d0887"
            ],
            [
             0.1111111111111111,
             "#46039f"
            ],
            [
             0.2222222222222222,
             "#7201a8"
            ],
            [
             0.3333333333333333,
             "#9c179e"
            ],
            [
             0.4444444444444444,
             "#bd3786"
            ],
            [
             0.5555555555555556,
             "#d8576b"
            ],
            [
             0.6666666666666666,
             "#ed7953"
            ],
            [
             0.7777777777777778,
             "#fb9f3a"
            ],
            [
             0.8888888888888888,
             "#fdca26"
            ],
            [
             1,
             "#f0f921"
            ]
           ]
          },
          "colorway": [
           "#636efa",
           "#EF553B",
           "#00cc96",
           "#ab63fa",
           "#FFA15A",
           "#19d3f3",
           "#FF6692",
           "#B6E880",
           "#FF97FF",
           "#FECB52"
          ],
          "font": {
           "color": "#2a3f5f"
          },
          "geo": {
           "bgcolor": "white",
           "lakecolor": "white",
           "landcolor": "#E5ECF6",
           "showlakes": true,
           "showland": true,
           "subunitcolor": "white"
          },
          "hoverlabel": {
           "align": "left"
          },
          "hovermode": "closest",
          "mapbox": {
           "style": "light"
          },
          "paper_bgcolor": "white",
          "plot_bgcolor": "#E5ECF6",
          "polar": {
           "angularaxis": {
            "gridcolor": "white",
            "linecolor": "white",
            "ticks": ""
           },
           "bgcolor": "#E5ECF6",
           "radialaxis": {
            "gridcolor": "white",
            "linecolor": "white",
            "ticks": ""
           }
          },
          "scene": {
           "xaxis": {
            "backgroundcolor": "#E5ECF6",
            "gridcolor": "white",
            "gridwidth": 2,
            "linecolor": "white",
            "showbackground": true,
            "ticks": "",
            "zerolinecolor": "white"
           },
           "yaxis": {
            "backgroundcolor": "#E5ECF6",
            "gridcolor": "white",
            "gridwidth": 2,
            "linecolor": "white",
            "showbackground": true,
            "ticks": "",
            "zerolinecolor": "white"
           },
           "zaxis": {
            "backgroundcolor": "#E5ECF6",
            "gridcolor": "white",
            "gridwidth": 2,
            "linecolor": "white",
            "showbackground": true,
            "ticks": "",
            "zerolinecolor": "white"
           }
          },
          "shapedefaults": {
           "line": {
            "color": "#2a3f5f"
           }
          },
          "ternary": {
           "aaxis": {
            "gridcolor": "white",
            "linecolor": "white",
            "ticks": ""
           },
           "baxis": {
            "gridcolor": "white",
            "linecolor": "white",
            "ticks": ""
           },
           "bgcolor": "#E5ECF6",
           "caxis": {
            "gridcolor": "white",
            "linecolor": "white",
            "ticks": ""
           }
          },
          "title": {
           "x": 0.05
          },
          "xaxis": {
           "automargin": true,
           "gridcolor": "white",
           "linecolor": "white",
           "ticks": "",
           "title": {
            "standoff": 15
           },
           "zerolinecolor": "white",
           "zerolinewidth": 2
          },
          "yaxis": {
           "automargin": true,
           "gridcolor": "white",
           "linecolor": "white",
           "ticks": "",
           "title": {
            "standoff": 15
           },
           "zerolinecolor": "white",
           "zerolinewidth": 2
          }
         }
        },
        "title": {
         "text": "AUC Scores for Top 5 Features"
        },
        "xaxis": {
         "title": {
          "text": "Number of Variables"
         }
        },
        "yaxis": {
         "title": {
          "text": "AUC"
         }
        }
       }
      }
     },
     "metadata": {},
     "output_type": "display_data"
    },
    {
     "data": {
      "application/vnd.plotly.v1+json": {
       "config": {
        "plotlyServerURL": "https://plotly.com"
       },
       "data": [
        {
         "type": "bar",
         "x": [
          "cumulative_reply_count",
          "Number_of_Vehicles__c",
          "reply_count",
          "avg_time_between_interactions",
          "first_action_date_month"
         ],
         "y": [
          0.000014526844104434758,
          -4.683506477607889e-14,
          0.000031409563990725436,
          -0.0006557720900183192,
          -0.00002000542891180957
         ]
        }
       ],
       "layout": {
        "template": {
         "data": {
          "bar": [
           {
            "error_x": {
             "color": "#2a3f5f"
            },
            "error_y": {
             "color": "#2a3f5f"
            },
            "marker": {
             "line": {
              "color": "#E5ECF6",
              "width": 0.5
             },
             "pattern": {
              "fillmode": "overlay",
              "size": 10,
              "solidity": 0.2
             }
            },
            "type": "bar"
           }
          ],
          "barpolar": [
           {
            "marker": {
             "line": {
              "color": "#E5ECF6",
              "width": 0.5
             },
             "pattern": {
              "fillmode": "overlay",
              "size": 10,
              "solidity": 0.2
             }
            },
            "type": "barpolar"
           }
          ],
          "carpet": [
           {
            "aaxis": {
             "endlinecolor": "#2a3f5f",
             "gridcolor": "white",
             "linecolor": "white",
             "minorgridcolor": "white",
             "startlinecolor": "#2a3f5f"
            },
            "baxis": {
             "endlinecolor": "#2a3f5f",
             "gridcolor": "white",
             "linecolor": "white",
             "minorgridcolor": "white",
             "startlinecolor": "#2a3f5f"
            },
            "type": "carpet"
           }
          ],
          "choropleth": [
           {
            "colorbar": {
             "outlinewidth": 0,
             "ticks": ""
            },
            "type": "choropleth"
           }
          ],
          "contour": [
           {
            "colorbar": {
             "outlinewidth": 0,
             "ticks": ""
            },
            "colorscale": [
             [
              0,
              "#0d0887"
             ],
             [
              0.1111111111111111,
              "#46039f"
             ],
             [
              0.2222222222222222,
              "#7201a8"
             ],
             [
              0.3333333333333333,
              "#9c179e"
             ],
             [
              0.4444444444444444,
              "#bd3786"
             ],
             [
              0.5555555555555556,
              "#d8576b"
             ],
             [
              0.6666666666666666,
              "#ed7953"
             ],
             [
              0.7777777777777778,
              "#fb9f3a"
             ],
             [
              0.8888888888888888,
              "#fdca26"
             ],
             [
              1,
              "#f0f921"
             ]
            ],
            "type": "contour"
           }
          ],
          "contourcarpet": [
           {
            "colorbar": {
             "outlinewidth": 0,
             "ticks": ""
            },
            "type": "contourcarpet"
           }
          ],
          "heatmap": [
           {
            "colorbar": {
             "outlinewidth": 0,
             "ticks": ""
            },
            "colorscale": [
             [
              0,
              "#0d0887"
             ],
             [
              0.1111111111111111,
              "#46039f"
             ],
             [
              0.2222222222222222,
              "#7201a8"
             ],
             [
              0.3333333333333333,
              "#9c179e"
             ],
             [
              0.4444444444444444,
              "#bd3786"
             ],
             [
              0.5555555555555556,
              "#d8576b"
             ],
             [
              0.6666666666666666,
              "#ed7953"
             ],
             [
              0.7777777777777778,
              "#fb9f3a"
             ],
             [
              0.8888888888888888,
              "#fdca26"
             ],
             [
              1,
              "#f0f921"
             ]
            ],
            "type": "heatmap"
           }
          ],
          "heatmapgl": [
           {
            "colorbar": {
             "outlinewidth": 0,
             "ticks": ""
            },
            "colorscale": [
             [
              0,
              "#0d0887"
             ],
             [
              0.1111111111111111,
              "#46039f"
             ],
             [
              0.2222222222222222,
              "#7201a8"
             ],
             [
              0.3333333333333333,
              "#9c179e"
             ],
             [
              0.4444444444444444,
              "#bd3786"
             ],
             [
              0.5555555555555556,
              "#d8576b"
             ],
             [
              0.6666666666666666,
              "#ed7953"
             ],
             [
              0.7777777777777778,
              "#fb9f3a"
             ],
             [
              0.8888888888888888,
              "#fdca26"
             ],
             [
              1,
              "#f0f921"
             ]
            ],
            "type": "heatmapgl"
           }
          ],
          "histogram": [
           {
            "marker": {
             "pattern": {
              "fillmode": "overlay",
              "size": 10,
              "solidity": 0.2
             }
            },
            "type": "histogram"
           }
          ],
          "histogram2d": [
           {
            "colorbar": {
             "outlinewidth": 0,
             "ticks": ""
            },
            "colorscale": [
             [
              0,
              "#0d0887"
             ],
             [
              0.1111111111111111,
              "#46039f"
             ],
             [
              0.2222222222222222,
              "#7201a8"
             ],
             [
              0.3333333333333333,
              "#9c179e"
             ],
             [
              0.4444444444444444,
              "#bd3786"
             ],
             [
              0.5555555555555556,
              "#d8576b"
             ],
             [
              0.6666666666666666,
              "#ed7953"
             ],
             [
              0.7777777777777778,
              "#fb9f3a"
             ],
             [
              0.8888888888888888,
              "#fdca26"
             ],
             [
              1,
              "#f0f921"
             ]
            ],
            "type": "histogram2d"
           }
          ],
          "histogram2dcontour": [
           {
            "colorbar": {
             "outlinewidth": 0,
             "ticks": ""
            },
            "colorscale": [
             [
              0,
              "#0d0887"
             ],
             [
              0.1111111111111111,
              "#46039f"
             ],
             [
              0.2222222222222222,
              "#7201a8"
             ],
             [
              0.3333333333333333,
              "#9c179e"
             ],
             [
              0.4444444444444444,
              "#bd3786"
             ],
             [
              0.5555555555555556,
              "#d8576b"
             ],
             [
              0.6666666666666666,
              "#ed7953"
             ],
             [
              0.7777777777777778,
              "#fb9f3a"
             ],
             [
              0.8888888888888888,
              "#fdca26"
             ],
             [
              1,
              "#f0f921"
             ]
            ],
            "type": "histogram2dcontour"
           }
          ],
          "mesh3d": [
           {
            "colorbar": {
             "outlinewidth": 0,
             "ticks": ""
            },
            "type": "mesh3d"
           }
          ],
          "parcoords": [
           {
            "line": {
             "colorbar": {
              "outlinewidth": 0,
              "ticks": ""
             }
            },
            "type": "parcoords"
           }
          ],
          "pie": [
           {
            "automargin": true,
            "type": "pie"
           }
          ],
          "scatter": [
           {
            "fillpattern": {
             "fillmode": "overlay",
             "size": 10,
             "solidity": 0.2
            },
            "type": "scatter"
           }
          ],
          "scatter3d": [
           {
            "line": {
             "colorbar": {
              "outlinewidth": 0,
              "ticks": ""
             }
            },
            "marker": {
             "colorbar": {
              "outlinewidth": 0,
              "ticks": ""
             }
            },
            "type": "scatter3d"
           }
          ],
          "scattercarpet": [
           {
            "marker": {
             "colorbar": {
              "outlinewidth": 0,
              "ticks": ""
             }
            },
            "type": "scattercarpet"
           }
          ],
          "scattergeo": [
           {
            "marker": {
             "colorbar": {
              "outlinewidth": 0,
              "ticks": ""
             }
            },
            "type": "scattergeo"
           }
          ],
          "scattergl": [
           {
            "marker": {
             "colorbar": {
              "outlinewidth": 0,
              "ticks": ""
             }
            },
            "type": "scattergl"
           }
          ],
          "scattermapbox": [
           {
            "marker": {
             "colorbar": {
              "outlinewidth": 0,
              "ticks": ""
             }
            },
            "type": "scattermapbox"
           }
          ],
          "scatterpolar": [
           {
            "marker": {
             "colorbar": {
              "outlinewidth": 0,
              "ticks": ""
             }
            },
            "type": "scatterpolar"
           }
          ],
          "scatterpolargl": [
           {
            "marker": {
             "colorbar": {
              "outlinewidth": 0,
              "ticks": ""
             }
            },
            "type": "scatterpolargl"
           }
          ],
          "scatterternary": [
           {
            "marker": {
             "colorbar": {
              "outlinewidth": 0,
              "ticks": ""
             }
            },
            "type": "scatterternary"
           }
          ],
          "surface": [
           {
            "colorbar": {
             "outlinewidth": 0,
             "ticks": ""
            },
            "colorscale": [
             [
              0,
              "#0d0887"
             ],
             [
              0.1111111111111111,
              "#46039f"
             ],
             [
              0.2222222222222222,
              "#7201a8"
             ],
             [
              0.3333333333333333,
              "#9c179e"
             ],
             [
              0.4444444444444444,
              "#bd3786"
             ],
             [
              0.5555555555555556,
              "#d8576b"
             ],
             [
              0.6666666666666666,
              "#ed7953"
             ],
             [
              0.7777777777777778,
              "#fb9f3a"
             ],
             [
              0.8888888888888888,
              "#fdca26"
             ],
             [
              1,
              "#f0f921"
             ]
            ],
            "type": "surface"
           }
          ],
          "table": [
           {
            "cells": {
             "fill": {
              "color": "#EBF0F8"
             },
             "line": {
              "color": "white"
             }
            },
            "header": {
             "fill": {
              "color": "#C8D4E3"
             },
             "line": {
              "color": "white"
             }
            },
            "type": "table"
           }
          ]
         },
         "layout": {
          "annotationdefaults": {
           "arrowcolor": "#2a3f5f",
           "arrowhead": 0,
           "arrowwidth": 1
          },
          "autotypenumbers": "strict",
          "coloraxis": {
           "colorbar": {
            "outlinewidth": 0,
            "ticks": ""
           }
          },
          "colorscale": {
           "diverging": [
            [
             0,
             "#8e0152"
            ],
            [
             0.1,
             "#c51b7d"
            ],
            [
             0.2,
             "#de77ae"
            ],
            [
             0.3,
             "#f1b6da"
            ],
            [
             0.4,
             "#fde0ef"
            ],
            [
             0.5,
             "#f7f7f7"
            ],
            [
             0.6,
             "#e6f5d0"
            ],
            [
             0.7,
             "#b8e186"
            ],
            [
             0.8,
             "#7fbc41"
            ],
            [
             0.9,
             "#4d9221"
            ],
            [
             1,
             "#276419"
            ]
           ],
           "sequential": [
            [
             0,
             "#0d0887"
            ],
            [
             0.1111111111111111,
             "#46039f"
            ],
            [
             0.2222222222222222,
             "#7201a8"
            ],
            [
             0.3333333333333333,
             "#9c179e"
            ],
            [
             0.4444444444444444,
             "#bd3786"
            ],
            [
             0.5555555555555556,
             "#d8576b"
            ],
            [
             0.6666666666666666,
             "#ed7953"
            ],
            [
             0.7777777777777778,
             "#fb9f3a"
            ],
            [
             0.8888888888888888,
             "#fdca26"
            ],
            [
             1,
             "#f0f921"
            ]
           ],
           "sequentialminus": [
            [
             0,
             "#0d0887"
            ],
            [
             0.1111111111111111,
             "#46039f"
            ],
            [
             0.2222222222222222,
             "#7201a8"
            ],
            [
             0.3333333333333333,
             "#9c179e"
            ],
            [
             0.4444444444444444,
             "#bd3786"
            ],
            [
             0.5555555555555556,
             "#d8576b"
            ],
            [
             0.6666666666666666,
             "#ed7953"
            ],
            [
             0.7777777777777778,
             "#fb9f3a"
            ],
            [
             0.8888888888888888,
             "#fdca26"
            ],
            [
             1,
             "#f0f921"
            ]
           ]
          },
          "colorway": [
           "#636efa",
           "#EF553B",
           "#00cc96",
           "#ab63fa",
           "#FFA15A",
           "#19d3f3",
           "#FF6692",
           "#B6E880",
           "#FF97FF",
           "#FECB52"
          ],
          "font": {
           "color": "#2a3f5f"
          },
          "geo": {
           "bgcolor": "white",
           "lakecolor": "white",
           "landcolor": "#E5ECF6",
           "showlakes": true,
           "showland": true,
           "subunitcolor": "white"
          },
          "hoverlabel": {
           "align": "left"
          },
          "hovermode": "closest",
          "mapbox": {
           "style": "light"
          },
          "paper_bgcolor": "white",
          "plot_bgcolor": "#E5ECF6",
          "polar": {
           "angularaxis": {
            "gridcolor": "white",
            "linecolor": "white",
            "ticks": ""
           },
           "bgcolor": "#E5ECF6",
           "radialaxis": {
            "gridcolor": "white",
            "linecolor": "white",
            "ticks": ""
           }
          },
          "scene": {
           "xaxis": {
            "backgroundcolor": "#E5ECF6",
            "gridcolor": "white",
            "gridwidth": 2,
            "linecolor": "white",
            "showbackground": true,
            "ticks": "",
            "zerolinecolor": "white"
           },
           "yaxis": {
            "backgroundcolor": "#E5ECF6",
            "gridcolor": "white",
            "gridwidth": 2,
            "linecolor": "white",
            "showbackground": true,
            "ticks": "",
            "zerolinecolor": "white"
           },
           "zaxis": {
            "backgroundcolor": "#E5ECF6",
            "gridcolor": "white",
            "gridwidth": 2,
            "linecolor": "white",
            "showbackground": true,
            "ticks": "",
            "zerolinecolor": "white"
           }
          },
          "shapedefaults": {
           "line": {
            "color": "#2a3f5f"
           }
          },
          "ternary": {
           "aaxis": {
            "gridcolor": "white",
            "linecolor": "white",
            "ticks": ""
           },
           "baxis": {
            "gridcolor": "white",
            "linecolor": "white",
            "ticks": ""
           },
           "bgcolor": "#E5ECF6",
           "caxis": {
            "gridcolor": "white",
            "linecolor": "white",
            "ticks": ""
           }
          },
          "title": {
           "x": 0.05
          },
          "xaxis": {
           "automargin": true,
           "gridcolor": "white",
           "linecolor": "white",
           "ticks": "",
           "title": {
            "standoff": 15
           },
           "zerolinecolor": "white",
           "zerolinewidth": 2
          },
          "yaxis": {
           "automargin": true,
           "gridcolor": "white",
           "linecolor": "white",
           "ticks": "",
           "title": {
            "standoff": 15
           },
           "zerolinecolor": "white",
           "zerolinewidth": 2
          }
         }
        },
        "title": {
         "text": "LR Coefficients for Top 5 Features"
        },
        "xaxis": {
         "tickangle": 45,
         "title": {
          "text": "Feature"
         }
        },
        "yaxis": {
         "title": {
          "text": "Coefficient (Log Odds)"
         }
        }
       }
      }
     },
     "metadata": {},
     "output_type": "display_data"
    },
    {
     "name": "stderr",
     "output_type": "stream",
     "text": [
      "c:\\Python311\\Lib\\site-packages\\scipy\\optimize\\_linesearch.py:313: LineSearchWarning:\n",
      "\n",
      "The line search algorithm did not converge\n",
      "\n",
      "c:\\Python311\\Lib\\site-packages\\sklearn\\utils\\optimize.py:74: LineSearchWarning:\n",
      "\n",
      "The line search algorithm did not converge\n",
      "\n",
      "c:\\Python311\\Lib\\site-packages\\scipy\\optimize\\_linesearch.py:313: LineSearchWarning:\n",
      "\n",
      "Rounding errors prevent the line search from converging\n",
      "\n",
      "c:\\Python311\\Lib\\site-packages\\sklearn\\utils\\optimize.py:239: UserWarning:\n",
      "\n",
      "Line Search failed\n",
      "\n",
      "c:\\Python311\\Lib\\site-packages\\scipy\\optimize\\_linesearch.py:313: LineSearchWarning:\n",
      "\n",
      "The line search algorithm did not converge\n",
      "\n",
      "c:\\Python311\\Lib\\site-packages\\sklearn\\utils\\optimize.py:74: LineSearchWarning:\n",
      "\n",
      "The line search algorithm did not converge\n",
      "\n",
      "c:\\Python311\\Lib\\site-packages\\scipy\\optimize\\_linesearch.py:313: LineSearchWarning:\n",
      "\n",
      "Rounding errors prevent the line search from converging\n",
      "\n",
      "c:\\Python311\\Lib\\site-packages\\sklearn\\utils\\optimize.py:239: UserWarning:\n",
      "\n",
      "Line Search failed\n",
      "\n",
      "c:\\Python311\\Lib\\site-packages\\scipy\\optimize\\_linesearch.py:313: LineSearchWarning:\n",
      "\n",
      "The line search algorithm did not converge\n",
      "\n",
      "c:\\Python311\\Lib\\site-packages\\sklearn\\utils\\optimize.py:74: LineSearchWarning:\n",
      "\n",
      "The line search algorithm did not converge\n",
      "\n",
      "c:\\Python311\\Lib\\site-packages\\scipy\\optimize\\_linesearch.py:313: LineSearchWarning:\n",
      "\n",
      "Rounding errors prevent the line search from converging\n",
      "\n",
      "c:\\Python311\\Lib\\site-packages\\sklearn\\utils\\optimize.py:239: UserWarning:\n",
      "\n",
      "Line Search failed\n",
      "\n",
      "c:\\Python311\\Lib\\site-packages\\scipy\\optimize\\_linesearch.py:313: LineSearchWarning:\n",
      "\n",
      "The line search algorithm did not converge\n",
      "\n",
      "c:\\Python311\\Lib\\site-packages\\sklearn\\utils\\optimize.py:74: LineSearchWarning:\n",
      "\n",
      "The line search algorithm did not converge\n",
      "\n",
      "c:\\Python311\\Lib\\site-packages\\scipy\\optimize\\_linesearch.py:313: LineSearchWarning:\n",
      "\n",
      "Rounding errors prevent the line search from converging\n",
      "\n",
      "c:\\Python311\\Lib\\site-packages\\sklearn\\utils\\optimize.py:239: UserWarning:\n",
      "\n",
      "Line Search failed\n",
      "\n",
      "c:\\Python311\\Lib\\site-packages\\scipy\\optimize\\_linesearch.py:313: LineSearchWarning:\n",
      "\n",
      "The line search algorithm did not converge\n",
      "\n",
      "c:\\Python311\\Lib\\site-packages\\sklearn\\utils\\optimize.py:74: LineSearchWarning:\n",
      "\n",
      "The line search algorithm did not converge\n",
      "\n",
      "c:\\Python311\\Lib\\site-packages\\scipy\\optimize\\_linesearch.py:313: LineSearchWarning:\n",
      "\n",
      "Rounding errors prevent the line search from converging\n",
      "\n",
      "c:\\Python311\\Lib\\site-packages\\sklearn\\utils\\optimize.py:239: UserWarning:\n",
      "\n",
      "Line Search failed\n",
      "\n",
      "c:\\Python311\\Lib\\site-packages\\scipy\\optimize\\_linesearch.py:313: LineSearchWarning:\n",
      "\n",
      "The line search algorithm did not converge\n",
      "\n",
      "c:\\Python311\\Lib\\site-packages\\sklearn\\utils\\optimize.py:74: LineSearchWarning:\n",
      "\n",
      "The line search algorithm did not converge\n",
      "\n",
      "c:\\Python311\\Lib\\site-packages\\scipy\\optimize\\_linesearch.py:313: LineSearchWarning:\n",
      "\n",
      "Rounding errors prevent the line search from converging\n",
      "\n",
      "c:\\Python311\\Lib\\site-packages\\sklearn\\utils\\optimize.py:239: UserWarning:\n",
      "\n",
      "Line Search failed\n",
      "\n",
      "c:\\Python311\\Lib\\site-packages\\scipy\\optimize\\_linesearch.py:313: LineSearchWarning:\n",
      "\n",
      "The line search algorithm did not converge\n",
      "\n",
      "c:\\Python311\\Lib\\site-packages\\sklearn\\utils\\optimize.py:74: LineSearchWarning:\n",
      "\n",
      "The line search algorithm did not converge\n",
      "\n",
      "c:\\Python311\\Lib\\site-packages\\scipy\\optimize\\_linesearch.py:313: LineSearchWarning:\n",
      "\n",
      "Rounding errors prevent the line search from converging\n",
      "\n",
      "c:\\Python311\\Lib\\site-packages\\sklearn\\utils\\optimize.py:239: UserWarning:\n",
      "\n",
      "Line Search failed\n",
      "\n",
      "c:\\Python311\\Lib\\site-packages\\scipy\\optimize\\_linesearch.py:313: LineSearchWarning:\n",
      "\n",
      "The line search algorithm did not converge\n",
      "\n",
      "c:\\Python311\\Lib\\site-packages\\sklearn\\utils\\optimize.py:74: LineSearchWarning:\n",
      "\n",
      "The line search algorithm did not converge\n",
      "\n",
      "c:\\Python311\\Lib\\site-packages\\sklearn\\utils\\optimize.py:239: UserWarning:\n",
      "\n",
      "Line Search failed\n",
      "\n",
      "c:\\Python311\\Lib\\site-packages\\scipy\\optimize\\_linesearch.py:313: LineSearchWarning:\n",
      "\n",
      "The line search algorithm did not converge\n",
      "\n",
      "c:\\Python311\\Lib\\site-packages\\sklearn\\utils\\optimize.py:74: LineSearchWarning:\n",
      "\n",
      "The line search algorithm did not converge\n",
      "\n",
      "c:\\Python311\\Lib\\site-packages\\scipy\\optimize\\_linesearch.py:313: LineSearchWarning:\n",
      "\n",
      "Rounding errors prevent the line search from converging\n",
      "\n",
      "c:\\Python311\\Lib\\site-packages\\sklearn\\utils\\optimize.py:239: UserWarning:\n",
      "\n",
      "Line Search failed\n",
      "\n",
      "c:\\Python311\\Lib\\site-packages\\scipy\\optimize\\_linesearch.py:313: LineSearchWarning:\n",
      "\n",
      "The line search algorithm did not converge\n",
      "\n",
      "c:\\Python311\\Lib\\site-packages\\sklearn\\utils\\optimize.py:74: LineSearchWarning:\n",
      "\n",
      "The line search algorithm did not converge\n",
      "\n",
      "c:\\Python311\\Lib\\site-packages\\scipy\\optimize\\_linesearch.py:313: LineSearchWarning:\n",
      "\n",
      "Rounding errors prevent the line search from converging\n",
      "\n",
      "c:\\Python311\\Lib\\site-packages\\sklearn\\utils\\optimize.py:239: UserWarning:\n",
      "\n",
      "Line Search failed\n",
      "\n",
      "c:\\Python311\\Lib\\site-packages\\scipy\\optimize\\_linesearch.py:313: LineSearchWarning:\n",
      "\n",
      "The line search algorithm did not converge\n",
      "\n",
      "c:\\Python311\\Lib\\site-packages\\sklearn\\utils\\optimize.py:74: LineSearchWarning:\n",
      "\n",
      "The line search algorithm did not converge\n",
      "\n",
      "c:\\Python311\\Lib\\site-packages\\scipy\\optimize\\_linesearch.py:313: LineSearchWarning:\n",
      "\n",
      "Rounding errors prevent the line search from converging\n",
      "\n",
      "c:\\Python311\\Lib\\site-packages\\sklearn\\utils\\optimize.py:239: UserWarning:\n",
      "\n",
      "Line Search failed\n",
      "\n",
      "c:\\Python311\\Lib\\site-packages\\scipy\\optimize\\_linesearch.py:313: LineSearchWarning:\n",
      "\n",
      "The line search algorithm did not converge\n",
      "\n",
      "c:\\Python311\\Lib\\site-packages\\sklearn\\utils\\optimize.py:74: LineSearchWarning:\n",
      "\n",
      "The line search algorithm did not converge\n",
      "\n",
      "c:\\Python311\\Lib\\site-packages\\scipy\\optimize\\_linesearch.py:313: LineSearchWarning:\n",
      "\n",
      "Rounding errors prevent the line search from converging\n",
      "\n",
      "c:\\Python311\\Lib\\site-packages\\sklearn\\utils\\optimize.py:239: UserWarning:\n",
      "\n",
      "Line Search failed\n",
      "\n",
      "c:\\Python311\\Lib\\site-packages\\scipy\\optimize\\_linesearch.py:313: LineSearchWarning:\n",
      "\n",
      "The line search algorithm did not converge\n",
      "\n",
      "c:\\Python311\\Lib\\site-packages\\sklearn\\utils\\optimize.py:74: LineSearchWarning:\n",
      "\n",
      "The line search algorithm did not converge\n",
      "\n",
      "c:\\Python311\\Lib\\site-packages\\scipy\\optimize\\_linesearch.py:313: LineSearchWarning:\n",
      "\n",
      "Rounding errors prevent the line search from converging\n",
      "\n",
      "c:\\Python311\\Lib\\site-packages\\sklearn\\utils\\optimize.py:239: UserWarning:\n",
      "\n",
      "Line Search failed\n",
      "\n",
      "c:\\Python311\\Lib\\site-packages\\scipy\\optimize\\_linesearch.py:313: LineSearchWarning:\n",
      "\n",
      "The line search algorithm did not converge\n",
      "\n",
      "c:\\Python311\\Lib\\site-packages\\sklearn\\utils\\optimize.py:74: LineSearchWarning:\n",
      "\n",
      "The line search algorithm did not converge\n",
      "\n",
      "c:\\Python311\\Lib\\site-packages\\scipy\\optimize\\_linesearch.py:313: LineSearchWarning:\n",
      "\n",
      "Rounding errors prevent the line search from converging\n",
      "\n",
      "c:\\Python311\\Lib\\site-packages\\sklearn\\utils\\optimize.py:239: UserWarning:\n",
      "\n",
      "Line Search failed\n",
      "\n",
      "c:\\Python311\\Lib\\site-packages\\scipy\\optimize\\_linesearch.py:313: LineSearchWarning:\n",
      "\n",
      "The line search algorithm did not converge\n",
      "\n",
      "c:\\Python311\\Lib\\site-packages\\sklearn\\utils\\optimize.py:74: LineSearchWarning:\n",
      "\n",
      "The line search algorithm did not converge\n",
      "\n",
      "c:\\Python311\\Lib\\site-packages\\scipy\\optimize\\_linesearch.py:313: LineSearchWarning:\n",
      "\n",
      "Rounding errors prevent the line search from converging\n",
      "\n",
      "c:\\Python311\\Lib\\site-packages\\sklearn\\utils\\optimize.py:239: UserWarning:\n",
      "\n",
      "Line Search failed\n",
      "\n",
      "c:\\Python311\\Lib\\site-packages\\scipy\\optimize\\_linesearch.py:313: LineSearchWarning:\n",
      "\n",
      "The line search algorithm did not converge\n",
      "\n",
      "c:\\Python311\\Lib\\site-packages\\sklearn\\utils\\optimize.py:74: LineSearchWarning:\n",
      "\n",
      "The line search algorithm did not converge\n",
      "\n",
      "c:\\Python311\\Lib\\site-packages\\scipy\\optimize\\_linesearch.py:313: LineSearchWarning:\n",
      "\n",
      "Rounding errors prevent the line search from converging\n",
      "\n",
      "c:\\Python311\\Lib\\site-packages\\sklearn\\utils\\optimize.py:239: UserWarning:\n",
      "\n",
      "Line Search failed\n",
      "\n",
      "c:\\Python311\\Lib\\site-packages\\scipy\\optimize\\_linesearch.py:313: LineSearchWarning:\n",
      "\n",
      "The line search algorithm did not converge\n",
      "\n",
      "c:\\Python311\\Lib\\site-packages\\sklearn\\utils\\optimize.py:74: LineSearchWarning:\n",
      "\n",
      "The line search algorithm did not converge\n",
      "\n",
      "c:\\Python311\\Lib\\site-packages\\scipy\\optimize\\_linesearch.py:313: LineSearchWarning:\n",
      "\n",
      "Rounding errors prevent the line search from converging\n",
      "\n",
      "c:\\Python311\\Lib\\site-packages\\sklearn\\utils\\optimize.py:239: UserWarning:\n",
      "\n",
      "Line Search failed\n",
      "\n",
      "c:\\Python311\\Lib\\site-packages\\scipy\\optimize\\_linesearch.py:313: LineSearchWarning:\n",
      "\n",
      "The line search algorithm did not converge\n",
      "\n",
      "c:\\Python311\\Lib\\site-packages\\sklearn\\utils\\optimize.py:74: LineSearchWarning:\n",
      "\n",
      "The line search algorithm did not converge\n",
      "\n",
      "c:\\Python311\\Lib\\site-packages\\scipy\\optimize\\_linesearch.py:313: LineSearchWarning:\n",
      "\n",
      "Rounding errors prevent the line search from converging\n",
      "\n",
      "c:\\Python311\\Lib\\site-packages\\sklearn\\utils\\optimize.py:239: UserWarning:\n",
      "\n",
      "Line Search failed\n",
      "\n",
      "c:\\Python311\\Lib\\site-packages\\scipy\\optimize\\_linesearch.py:313: LineSearchWarning:\n",
      "\n",
      "The line search algorithm did not converge\n",
      "\n",
      "c:\\Python311\\Lib\\site-packages\\sklearn\\utils\\optimize.py:74: LineSearchWarning:\n",
      "\n",
      "The line search algorithm did not converge\n",
      "\n",
      "c:\\Python311\\Lib\\site-packages\\scipy\\optimize\\_linesearch.py:313: LineSearchWarning:\n",
      "\n",
      "Rounding errors prevent the line search from converging\n",
      "\n",
      "c:\\Python311\\Lib\\site-packages\\sklearn\\utils\\optimize.py:239: UserWarning:\n",
      "\n",
      "Line Search failed\n",
      "\n",
      "c:\\Python311\\Lib\\site-packages\\scipy\\optimize\\_linesearch.py:313: LineSearchWarning:\n",
      "\n",
      "The line search algorithm did not converge\n",
      "\n",
      "c:\\Python311\\Lib\\site-packages\\sklearn\\utils\\optimize.py:74: LineSearchWarning:\n",
      "\n",
      "The line search algorithm did not converge\n",
      "\n",
      "c:\\Python311\\Lib\\site-packages\\scipy\\optimize\\_linesearch.py:313: LineSearchWarning:\n",
      "\n",
      "Rounding errors prevent the line search from converging\n",
      "\n",
      "c:\\Python311\\Lib\\site-packages\\sklearn\\utils\\optimize.py:239: UserWarning:\n",
      "\n",
      "Line Search failed\n",
      "\n",
      "c:\\Python311\\Lib\\site-packages\\scipy\\optimize\\_linesearch.py:313: LineSearchWarning:\n",
      "\n",
      "The line search algorithm did not converge\n",
      "\n",
      "c:\\Python311\\Lib\\site-packages\\sklearn\\utils\\optimize.py:74: LineSearchWarning:\n",
      "\n",
      "The line search algorithm did not converge\n",
      "\n",
      "c:\\Python311\\Lib\\site-packages\\scipy\\optimize\\_linesearch.py:313: LineSearchWarning:\n",
      "\n",
      "Rounding errors prevent the line search from converging\n",
      "\n",
      "c:\\Python311\\Lib\\site-packages\\sklearn\\utils\\optimize.py:239: UserWarning:\n",
      "\n",
      "Line Search failed\n",
      "\n",
      "c:\\Python311\\Lib\\site-packages\\scipy\\optimize\\_linesearch.py:313: LineSearchWarning:\n",
      "\n",
      "The line search algorithm did not converge\n",
      "\n",
      "c:\\Python311\\Lib\\site-packages\\sklearn\\utils\\optimize.py:74: LineSearchWarning:\n",
      "\n",
      "The line search algorithm did not converge\n",
      "\n",
      "c:\\Python311\\Lib\\site-packages\\scipy\\optimize\\_linesearch.py:313: LineSearchWarning:\n",
      "\n",
      "Rounding errors prevent the line search from converging\n",
      "\n",
      "c:\\Python311\\Lib\\site-packages\\sklearn\\utils\\optimize.py:239: UserWarning:\n",
      "\n",
      "Line Search failed\n",
      "\n",
      "c:\\Python311\\Lib\\site-packages\\scipy\\optimize\\_linesearch.py:313: LineSearchWarning:\n",
      "\n",
      "The line search algorithm did not converge\n",
      "\n",
      "c:\\Python311\\Lib\\site-packages\\sklearn\\utils\\optimize.py:74: LineSearchWarning:\n",
      "\n",
      "The line search algorithm did not converge\n",
      "\n",
      "c:\\Python311\\Lib\\site-packages\\scipy\\optimize\\_linesearch.py:313: LineSearchWarning:\n",
      "\n",
      "Rounding errors prevent the line search from converging\n",
      "\n",
      "c:\\Python311\\Lib\\site-packages\\sklearn\\utils\\optimize.py:239: UserWarning:\n",
      "\n",
      "Line Search failed\n",
      "\n",
      "c:\\Python311\\Lib\\site-packages\\scipy\\optimize\\_linesearch.py:313: LineSearchWarning:\n",
      "\n",
      "The line search algorithm did not converge\n",
      "\n",
      "c:\\Python311\\Lib\\site-packages\\sklearn\\utils\\optimize.py:74: LineSearchWarning:\n",
      "\n",
      "The line search algorithm did not converge\n",
      "\n",
      "c:\\Python311\\Lib\\site-packages\\scipy\\optimize\\_linesearch.py:313: LineSearchWarning:\n",
      "\n",
      "Rounding errors prevent the line search from converging\n",
      "\n",
      "c:\\Python311\\Lib\\site-packages\\sklearn\\utils\\optimize.py:239: UserWarning:\n",
      "\n",
      "Line Search failed\n",
      "\n",
      "c:\\Python311\\Lib\\site-packages\\scipy\\optimize\\_linesearch.py:313: LineSearchWarning:\n",
      "\n",
      "The line search algorithm did not converge\n",
      "\n",
      "c:\\Python311\\Lib\\site-packages\\sklearn\\utils\\optimize.py:74: LineSearchWarning:\n",
      "\n",
      "The line search algorithm did not converge\n",
      "\n",
      "c:\\Python311\\Lib\\site-packages\\scipy\\optimize\\_linesearch.py:313: LineSearchWarning:\n",
      "\n",
      "Rounding errors prevent the line search from converging\n",
      "\n",
      "c:\\Python311\\Lib\\site-packages\\sklearn\\utils\\optimize.py:239: UserWarning:\n",
      "\n",
      "Line Search failed\n",
      "\n",
      "c:\\Python311\\Lib\\site-packages\\scipy\\optimize\\_linesearch.py:313: LineSearchWarning:\n",
      "\n",
      "The line search algorithm did not converge\n",
      "\n",
      "c:\\Python311\\Lib\\site-packages\\sklearn\\utils\\optimize.py:74: LineSearchWarning:\n",
      "\n",
      "The line search algorithm did not converge\n",
      "\n",
      "c:\\Python311\\Lib\\site-packages\\scipy\\optimize\\_linesearch.py:313: LineSearchWarning:\n",
      "\n",
      "Rounding errors prevent the line search from converging\n",
      "\n",
      "c:\\Python311\\Lib\\site-packages\\sklearn\\utils\\optimize.py:239: UserWarning:\n",
      "\n",
      "Line Search failed\n",
      "\n",
      "c:\\Python311\\Lib\\site-packages\\scipy\\optimize\\_linesearch.py:313: LineSearchWarning:\n",
      "\n",
      "The line search algorithm did not converge\n",
      "\n",
      "c:\\Python311\\Lib\\site-packages\\sklearn\\utils\\optimize.py:74: LineSearchWarning:\n",
      "\n",
      "The line search algorithm did not converge\n",
      "\n",
      "c:\\Python311\\Lib\\site-packages\\scipy\\optimize\\_linesearch.py:313: LineSearchWarning:\n",
      "\n",
      "Rounding errors prevent the line search from converging\n",
      "\n",
      "c:\\Python311\\Lib\\site-packages\\sklearn\\utils\\optimize.py:239: UserWarning:\n",
      "\n",
      "Line Search failed\n",
      "\n",
      "c:\\Python311\\Lib\\site-packages\\scipy\\optimize\\_linesearch.py:313: LineSearchWarning:\n",
      "\n",
      "The line search algorithm did not converge\n",
      "\n",
      "c:\\Python311\\Lib\\site-packages\\sklearn\\utils\\optimize.py:74: LineSearchWarning:\n",
      "\n",
      "The line search algorithm did not converge\n",
      "\n",
      "c:\\Python311\\Lib\\site-packages\\scipy\\optimize\\_linesearch.py:313: LineSearchWarning:\n",
      "\n",
      "Rounding errors prevent the line search from converging\n",
      "\n",
      "c:\\Python311\\Lib\\site-packages\\sklearn\\utils\\optimize.py:239: UserWarning:\n",
      "\n",
      "Line Search failed\n",
      "\n",
      "c:\\Python311\\Lib\\site-packages\\scipy\\optimize\\_linesearch.py:313: LineSearchWarning:\n",
      "\n",
      "The line search algorithm did not converge\n",
      "\n",
      "c:\\Python311\\Lib\\site-packages\\sklearn\\utils\\optimize.py:74: LineSearchWarning:\n",
      "\n",
      "The line search algorithm did not converge\n",
      "\n",
      "c:\\Python311\\Lib\\site-packages\\scipy\\optimize\\_linesearch.py:313: LineSearchWarning:\n",
      "\n",
      "Rounding errors prevent the line search from converging\n",
      "\n",
      "c:\\Python311\\Lib\\site-packages\\sklearn\\utils\\optimize.py:239: UserWarning:\n",
      "\n",
      "Line Search failed\n",
      "\n",
      "c:\\Python311\\Lib\\site-packages\\scipy\\optimize\\_linesearch.py:313: LineSearchWarning:\n",
      "\n",
      "The line search algorithm did not converge\n",
      "\n",
      "c:\\Python311\\Lib\\site-packages\\sklearn\\utils\\optimize.py:74: LineSearchWarning:\n",
      "\n",
      "The line search algorithm did not converge\n",
      "\n",
      "c:\\Python311\\Lib\\site-packages\\scipy\\optimize\\_linesearch.py:313: LineSearchWarning:\n",
      "\n",
      "Rounding errors prevent the line search from converging\n",
      "\n",
      "c:\\Python311\\Lib\\site-packages\\sklearn\\utils\\optimize.py:239: UserWarning:\n",
      "\n",
      "Line Search failed\n",
      "\n",
      "c:\\Python311\\Lib\\site-packages\\scipy\\optimize\\_linesearch.py:313: LineSearchWarning:\n",
      "\n",
      "The line search algorithm did not converge\n",
      "\n",
      "c:\\Python311\\Lib\\site-packages\\sklearn\\utils\\optimize.py:74: LineSearchWarning:\n",
      "\n",
      "The line search algorithm did not converge\n",
      "\n",
      "c:\\Python311\\Lib\\site-packages\\scipy\\optimize\\_linesearch.py:313: LineSearchWarning:\n",
      "\n",
      "Rounding errors prevent the line search from converging\n",
      "\n",
      "c:\\Python311\\Lib\\site-packages\\sklearn\\utils\\optimize.py:239: UserWarning:\n",
      "\n",
      "Line Search failed\n",
      "\n",
      "c:\\Python311\\Lib\\site-packages\\scipy\\optimize\\_linesearch.py:313: LineSearchWarning:\n",
      "\n",
      "The line search algorithm did not converge\n",
      "\n",
      "c:\\Python311\\Lib\\site-packages\\sklearn\\utils\\optimize.py:74: LineSearchWarning:\n",
      "\n",
      "The line search algorithm did not converge\n",
      "\n",
      "c:\\Python311\\Lib\\site-packages\\scipy\\optimize\\_linesearch.py:313: LineSearchWarning:\n",
      "\n",
      "Rounding errors prevent the line search from converging\n",
      "\n",
      "c:\\Python311\\Lib\\site-packages\\sklearn\\utils\\optimize.py:239: UserWarning:\n",
      "\n",
      "Line Search failed\n",
      "\n",
      "c:\\Python311\\Lib\\site-packages\\scipy\\optimize\\_linesearch.py:313: LineSearchWarning:\n",
      "\n",
      "The line search algorithm did not converge\n",
      "\n",
      "c:\\Python311\\Lib\\site-packages\\sklearn\\utils\\optimize.py:74: LineSearchWarning:\n",
      "\n",
      "The line search algorithm did not converge\n",
      "\n",
      "c:\\Python311\\Lib\\site-packages\\scipy\\optimize\\_linesearch.py:313: LineSearchWarning:\n",
      "\n",
      "Rounding errors prevent the line search from converging\n",
      "\n",
      "c:\\Python311\\Lib\\site-packages\\sklearn\\utils\\optimize.py:239: UserWarning:\n",
      "\n",
      "Line Search failed\n",
      "\n",
      "c:\\Python311\\Lib\\site-packages\\scipy\\optimize\\_linesearch.py:313: LineSearchWarning:\n",
      "\n",
      "The line search algorithm did not converge\n",
      "\n",
      "c:\\Python311\\Lib\\site-packages\\sklearn\\utils\\optimize.py:74: LineSearchWarning:\n",
      "\n",
      "The line search algorithm did not converge\n",
      "\n",
      "c:\\Python311\\Lib\\site-packages\\scipy\\optimize\\_linesearch.py:313: LineSearchWarning:\n",
      "\n",
      "Rounding errors prevent the line search from converging\n",
      "\n",
      "c:\\Python311\\Lib\\site-packages\\sklearn\\utils\\optimize.py:239: UserWarning:\n",
      "\n",
      "Line Search failed\n",
      "\n",
      "c:\\Python311\\Lib\\site-packages\\scipy\\optimize\\_linesearch.py:313: LineSearchWarning:\n",
      "\n",
      "The line search algorithm did not converge\n",
      "\n",
      "c:\\Python311\\Lib\\site-packages\\sklearn\\utils\\optimize.py:74: LineSearchWarning:\n",
      "\n",
      "The line search algorithm did not converge\n",
      "\n",
      "c:\\Python311\\Lib\\site-packages\\scipy\\optimize\\_linesearch.py:313: LineSearchWarning:\n",
      "\n",
      "Rounding errors prevent the line search from converging\n",
      "\n",
      "c:\\Python311\\Lib\\site-packages\\sklearn\\utils\\optimize.py:239: UserWarning:\n",
      "\n",
      "Line Search failed\n",
      "\n",
      "c:\\Python311\\Lib\\site-packages\\scipy\\optimize\\_linesearch.py:313: LineSearchWarning:\n",
      "\n",
      "The line search algorithm did not converge\n",
      "\n",
      "c:\\Python311\\Lib\\site-packages\\sklearn\\utils\\optimize.py:74: LineSearchWarning:\n",
      "\n",
      "The line search algorithm did not converge\n",
      "\n",
      "c:\\Python311\\Lib\\site-packages\\scipy\\optimize\\_linesearch.py:313: LineSearchWarning:\n",
      "\n",
      "Rounding errors prevent the line search from converging\n",
      "\n",
      "c:\\Python311\\Lib\\site-packages\\sklearn\\utils\\optimize.py:239: UserWarning:\n",
      "\n",
      "Line Search failed\n",
      "\n",
      "c:\\Python311\\Lib\\site-packages\\scipy\\optimize\\_linesearch.py:313: LineSearchWarning:\n",
      "\n",
      "The line search algorithm did not converge\n",
      "\n",
      "c:\\Python311\\Lib\\site-packages\\sklearn\\utils\\optimize.py:74: LineSearchWarning:\n",
      "\n",
      "The line search algorithm did not converge\n",
      "\n",
      "c:\\Python311\\Lib\\site-packages\\scipy\\optimize\\_linesearch.py:313: LineSearchWarning:\n",
      "\n",
      "Rounding errors prevent the line search from converging\n",
      "\n",
      "c:\\Python311\\Lib\\site-packages\\sklearn\\utils\\optimize.py:239: UserWarning:\n",
      "\n",
      "Line Search failed\n",
      "\n",
      "c:\\Python311\\Lib\\site-packages\\scipy\\optimize\\_linesearch.py:313: LineSearchWarning:\n",
      "\n",
      "The line search algorithm did not converge\n",
      "\n",
      "c:\\Python311\\Lib\\site-packages\\sklearn\\utils\\optimize.py:74: LineSearchWarning:\n",
      "\n",
      "The line search algorithm did not converge\n",
      "\n",
      "c:\\Python311\\Lib\\site-packages\\scipy\\optimize\\_linesearch.py:313: LineSearchWarning:\n",
      "\n",
      "Rounding errors prevent the line search from converging\n",
      "\n",
      "c:\\Python311\\Lib\\site-packages\\sklearn\\utils\\optimize.py:239: UserWarning:\n",
      "\n",
      "Line Search failed\n",
      "\n",
      "c:\\Python311\\Lib\\site-packages\\scipy\\optimize\\_linesearch.py:313: LineSearchWarning:\n",
      "\n",
      "The line search algorithm did not converge\n",
      "\n",
      "c:\\Python311\\Lib\\site-packages\\sklearn\\utils\\optimize.py:74: LineSearchWarning:\n",
      "\n",
      "The line search algorithm did not converge\n",
      "\n",
      "c:\\Python311\\Lib\\site-packages\\scipy\\optimize\\_linesearch.py:313: LineSearchWarning:\n",
      "\n",
      "Rounding errors prevent the line search from converging\n",
      "\n",
      "c:\\Python311\\Lib\\site-packages\\sklearn\\utils\\optimize.py:239: UserWarning:\n",
      "\n",
      "Line Search failed\n",
      "\n",
      "c:\\Python311\\Lib\\site-packages\\scipy\\optimize\\_linesearch.py:313: LineSearchWarning:\n",
      "\n",
      "The line search algorithm did not converge\n",
      "\n",
      "c:\\Python311\\Lib\\site-packages\\sklearn\\utils\\optimize.py:74: LineSearchWarning:\n",
      "\n",
      "The line search algorithm did not converge\n",
      "\n",
      "c:\\Python311\\Lib\\site-packages\\scipy\\optimize\\_linesearch.py:313: LineSearchWarning:\n",
      "\n",
      "Rounding errors prevent the line search from converging\n",
      "\n",
      "c:\\Python311\\Lib\\site-packages\\sklearn\\utils\\optimize.py:239: UserWarning:\n",
      "\n",
      "Line Search failed\n",
      "\n",
      "c:\\Python311\\Lib\\site-packages\\scipy\\optimize\\_linesearch.py:313: LineSearchWarning:\n",
      "\n",
      "The line search algorithm did not converge\n",
      "\n",
      "c:\\Python311\\Lib\\site-packages\\sklearn\\utils\\optimize.py:74: LineSearchWarning:\n",
      "\n",
      "The line search algorithm did not converge\n",
      "\n",
      "c:\\Python311\\Lib\\site-packages\\scipy\\optimize\\_linesearch.py:313: LineSearchWarning:\n",
      "\n",
      "Rounding errors prevent the line search from converging\n",
      "\n",
      "c:\\Python311\\Lib\\site-packages\\sklearn\\utils\\optimize.py:239: UserWarning:\n",
      "\n",
      "Line Search failed\n",
      "\n",
      "c:\\Python311\\Lib\\site-packages\\scipy\\optimize\\_linesearch.py:313: LineSearchWarning:\n",
      "\n",
      "The line search algorithm did not converge\n",
      "\n",
      "c:\\Python311\\Lib\\site-packages\\sklearn\\utils\\optimize.py:74: LineSearchWarning:\n",
      "\n",
      "The line search algorithm did not converge\n",
      "\n",
      "c:\\Python311\\Lib\\site-packages\\scipy\\optimize\\_linesearch.py:313: LineSearchWarning:\n",
      "\n",
      "Rounding errors prevent the line search from converging\n",
      "\n",
      "c:\\Python311\\Lib\\site-packages\\sklearn\\utils\\optimize.py:239: UserWarning:\n",
      "\n",
      "Line Search failed\n",
      "\n",
      "c:\\Python311\\Lib\\site-packages\\scipy\\optimize\\_linesearch.py:313: LineSearchWarning:\n",
      "\n",
      "The line search algorithm did not converge\n",
      "\n",
      "c:\\Python311\\Lib\\site-packages\\sklearn\\utils\\optimize.py:74: LineSearchWarning:\n",
      "\n",
      "The line search algorithm did not converge\n",
      "\n",
      "c:\\Python311\\Lib\\site-packages\\scipy\\optimize\\_linesearch.py:313: LineSearchWarning:\n",
      "\n",
      "Rounding errors prevent the line search from converging\n",
      "\n",
      "c:\\Python311\\Lib\\site-packages\\sklearn\\utils\\optimize.py:239: UserWarning:\n",
      "\n",
      "Line Search failed\n",
      "\n",
      "c:\\Python311\\Lib\\site-packages\\scipy\\optimize\\_linesearch.py:313: LineSearchWarning:\n",
      "\n",
      "The line search algorithm did not converge\n",
      "\n",
      "c:\\Python311\\Lib\\site-packages\\sklearn\\utils\\optimize.py:74: LineSearchWarning:\n",
      "\n",
      "The line search algorithm did not converge\n",
      "\n",
      "c:\\Python311\\Lib\\site-packages\\scipy\\optimize\\_linesearch.py:313: LineSearchWarning:\n",
      "\n",
      "Rounding errors prevent the line search from converging\n",
      "\n",
      "c:\\Python311\\Lib\\site-packages\\sklearn\\utils\\optimize.py:239: UserWarning:\n",
      "\n",
      "Line Search failed\n",
      "\n",
      "c:\\Python311\\Lib\\site-packages\\scipy\\optimize\\_linesearch.py:313: LineSearchWarning:\n",
      "\n",
      "The line search algorithm did not converge\n",
      "\n",
      "c:\\Python311\\Lib\\site-packages\\sklearn\\utils\\optimize.py:74: LineSearchWarning:\n",
      "\n",
      "The line search algorithm did not converge\n",
      "\n",
      "c:\\Python311\\Lib\\site-packages\\scipy\\optimize\\_linesearch.py:313: LineSearchWarning:\n",
      "\n",
      "Rounding errors prevent the line search from converging\n",
      "\n",
      "c:\\Python311\\Lib\\site-packages\\sklearn\\utils\\optimize.py:239: UserWarning:\n",
      "\n",
      "Line Search failed\n",
      "\n",
      "c:\\Python311\\Lib\\site-packages\\scipy\\optimize\\_linesearch.py:313: LineSearchWarning:\n",
      "\n",
      "The line search algorithm did not converge\n",
      "\n",
      "c:\\Python311\\Lib\\site-packages\\sklearn\\utils\\optimize.py:74: LineSearchWarning:\n",
      "\n",
      "The line search algorithm did not converge\n",
      "\n",
      "c:\\Python311\\Lib\\site-packages\\scipy\\optimize\\_linesearch.py:313: LineSearchWarning:\n",
      "\n",
      "Rounding errors prevent the line search from converging\n",
      "\n",
      "c:\\Python311\\Lib\\site-packages\\sklearn\\utils\\optimize.py:239: UserWarning:\n",
      "\n",
      "Line Search failed\n",
      "\n",
      "c:\\Python311\\Lib\\site-packages\\scipy\\optimize\\_linesearch.py:313: LineSearchWarning:\n",
      "\n",
      "The line search algorithm did not converge\n",
      "\n",
      "c:\\Python311\\Lib\\site-packages\\sklearn\\utils\\optimize.py:74: LineSearchWarning:\n",
      "\n",
      "The line search algorithm did not converge\n",
      "\n",
      "c:\\Python311\\Lib\\site-packages\\scipy\\optimize\\_linesearch.py:313: LineSearchWarning:\n",
      "\n",
      "Rounding errors prevent the line search from converging\n",
      "\n",
      "c:\\Python311\\Lib\\site-packages\\sklearn\\utils\\optimize.py:239: UserWarning:\n",
      "\n",
      "Line Search failed\n",
      "\n",
      "c:\\Python311\\Lib\\site-packages\\scipy\\optimize\\_linesearch.py:313: LineSearchWarning:\n",
      "\n",
      "The line search algorithm did not converge\n",
      "\n",
      "c:\\Python311\\Lib\\site-packages\\sklearn\\utils\\optimize.py:74: LineSearchWarning:\n",
      "\n",
      "The line search algorithm did not converge\n",
      "\n",
      "c:\\Python311\\Lib\\site-packages\\scipy\\optimize\\_linesearch.py:313: LineSearchWarning:\n",
      "\n",
      "Rounding errors prevent the line search from converging\n",
      "\n",
      "c:\\Python311\\Lib\\site-packages\\sklearn\\utils\\optimize.py:239: UserWarning:\n",
      "\n",
      "Line Search failed\n",
      "\n",
      "c:\\Python311\\Lib\\site-packages\\scipy\\optimize\\_linesearch.py:313: LineSearchWarning:\n",
      "\n",
      "The line search algorithm did not converge\n",
      "\n",
      "c:\\Python311\\Lib\\site-packages\\sklearn\\utils\\optimize.py:74: LineSearchWarning:\n",
      "\n",
      "The line search algorithm did not converge\n",
      "\n",
      "c:\\Python311\\Lib\\site-packages\\scipy\\optimize\\_linesearch.py:313: LineSearchWarning:\n",
      "\n",
      "Rounding errors prevent the line search from converging\n",
      "\n",
      "c:\\Python311\\Lib\\site-packages\\sklearn\\utils\\optimize.py:239: UserWarning:\n",
      "\n",
      "Line Search failed\n",
      "\n",
      "c:\\Python311\\Lib\\site-packages\\scipy\\optimize\\_linesearch.py:313: LineSearchWarning:\n",
      "\n",
      "The line search algorithm did not converge\n",
      "\n",
      "c:\\Python311\\Lib\\site-packages\\sklearn\\utils\\optimize.py:74: LineSearchWarning:\n",
      "\n",
      "The line search algorithm did not converge\n",
      "\n",
      "c:\\Python311\\Lib\\site-packages\\scipy\\optimize\\_linesearch.py:313: LineSearchWarning:\n",
      "\n",
      "Rounding errors prevent the line search from converging\n",
      "\n",
      "c:\\Python311\\Lib\\site-packages\\sklearn\\utils\\optimize.py:239: UserWarning:\n",
      "\n",
      "Line Search failed\n",
      "\n",
      "c:\\Python311\\Lib\\site-packages\\scipy\\optimize\\_linesearch.py:313: LineSearchWarning:\n",
      "\n",
      "The line search algorithm did not converge\n",
      "\n",
      "c:\\Python311\\Lib\\site-packages\\sklearn\\utils\\optimize.py:74: LineSearchWarning:\n",
      "\n",
      "The line search algorithm did not converge\n",
      "\n",
      "c:\\Python311\\Lib\\site-packages\\scipy\\optimize\\_linesearch.py:313: LineSearchWarning:\n",
      "\n",
      "Rounding errors prevent the line search from converging\n",
      "\n",
      "c:\\Python311\\Lib\\site-packages\\sklearn\\utils\\optimize.py:239: UserWarning:\n",
      "\n",
      "Line Search failed\n",
      "\n",
      "c:\\Python311\\Lib\\site-packages\\scipy\\optimize\\_linesearch.py:313: LineSearchWarning:\n",
      "\n",
      "The line search algorithm did not converge\n",
      "\n",
      "c:\\Python311\\Lib\\site-packages\\sklearn\\utils\\optimize.py:74: LineSearchWarning:\n",
      "\n",
      "The line search algorithm did not converge\n",
      "\n",
      "c:\\Python311\\Lib\\site-packages\\scipy\\optimize\\_linesearch.py:313: LineSearchWarning:\n",
      "\n",
      "Rounding errors prevent the line search from converging\n",
      "\n",
      "c:\\Python311\\Lib\\site-packages\\sklearn\\utils\\optimize.py:239: UserWarning:\n",
      "\n",
      "Line Search failed\n",
      "\n",
      "c:\\Python311\\Lib\\site-packages\\scipy\\optimize\\_linesearch.py:313: LineSearchWarning:\n",
      "\n",
      "The line search algorithm did not converge\n",
      "\n",
      "c:\\Python311\\Lib\\site-packages\\sklearn\\utils\\optimize.py:74: LineSearchWarning:\n",
      "\n",
      "The line search algorithm did not converge\n",
      "\n",
      "c:\\Python311\\Lib\\site-packages\\scipy\\optimize\\_linesearch.py:313: LineSearchWarning:\n",
      "\n",
      "Rounding errors prevent the line search from converging\n",
      "\n",
      "c:\\Python311\\Lib\\site-packages\\sklearn\\utils\\optimize.py:239: UserWarning:\n",
      "\n",
      "Line Search failed\n",
      "\n",
      "c:\\Python311\\Lib\\site-packages\\scipy\\optimize\\_linesearch.py:313: LineSearchWarning:\n",
      "\n",
      "The line search algorithm did not converge\n",
      "\n",
      "c:\\Python311\\Lib\\site-packages\\sklearn\\utils\\optimize.py:74: LineSearchWarning:\n",
      "\n",
      "The line search algorithm did not converge\n",
      "\n",
      "c:\\Python311\\Lib\\site-packages\\scipy\\optimize\\_linesearch.py:313: LineSearchWarning:\n",
      "\n",
      "Rounding errors prevent the line search from converging\n",
      "\n",
      "c:\\Python311\\Lib\\site-packages\\sklearn\\utils\\optimize.py:239: UserWarning:\n",
      "\n",
      "Line Search failed\n",
      "\n",
      "c:\\Python311\\Lib\\site-packages\\scipy\\optimize\\_linesearch.py:313: LineSearchWarning:\n",
      "\n",
      "The line search algorithm did not converge\n",
      "\n",
      "c:\\Python311\\Lib\\site-packages\\sklearn\\utils\\optimize.py:74: LineSearchWarning:\n",
      "\n",
      "The line search algorithm did not converge\n",
      "\n",
      "c:\\Python311\\Lib\\site-packages\\scipy\\optimize\\_linesearch.py:313: LineSearchWarning:\n",
      "\n",
      "Rounding errors prevent the line search from converging\n",
      "\n",
      "c:\\Python311\\Lib\\site-packages\\sklearn\\utils\\optimize.py:239: UserWarning:\n",
      "\n",
      "Line Search failed\n",
      "\n",
      "c:\\Python311\\Lib\\site-packages\\scipy\\optimize\\_linesearch.py:313: LineSearchWarning:\n",
      "\n",
      "The line search algorithm did not converge\n",
      "\n",
      "c:\\Python311\\Lib\\site-packages\\sklearn\\utils\\optimize.py:74: LineSearchWarning:\n",
      "\n",
      "The line search algorithm did not converge\n",
      "\n",
      "c:\\Python311\\Lib\\site-packages\\scipy\\optimize\\_linesearch.py:313: LineSearchWarning:\n",
      "\n",
      "Rounding errors prevent the line search from converging\n",
      "\n",
      "c:\\Python311\\Lib\\site-packages\\sklearn\\utils\\optimize.py:239: UserWarning:\n",
      "\n",
      "Line Search failed\n",
      "\n",
      "c:\\Python311\\Lib\\site-packages\\scipy\\optimize\\_linesearch.py:313: LineSearchWarning:\n",
      "\n",
      "The line search algorithm did not converge\n",
      "\n",
      "c:\\Python311\\Lib\\site-packages\\sklearn\\utils\\optimize.py:74: LineSearchWarning:\n",
      "\n",
      "The line search algorithm did not converge\n",
      "\n",
      "c:\\Python311\\Lib\\site-packages\\scipy\\optimize\\_linesearch.py:313: LineSearchWarning:\n",
      "\n",
      "Rounding errors prevent the line search from converging\n",
      "\n",
      "c:\\Python311\\Lib\\site-packages\\sklearn\\utils\\optimize.py:239: UserWarning:\n",
      "\n",
      "Line Search failed\n",
      "\n",
      "c:\\Python311\\Lib\\site-packages\\scipy\\optimize\\_linesearch.py:313: LineSearchWarning:\n",
      "\n",
      "The line search algorithm did not converge\n",
      "\n",
      "c:\\Python311\\Lib\\site-packages\\sklearn\\utils\\optimize.py:74: LineSearchWarning:\n",
      "\n",
      "The line search algorithm did not converge\n",
      "\n",
      "c:\\Python311\\Lib\\site-packages\\scipy\\optimize\\_linesearch.py:313: LineSearchWarning:\n",
      "\n",
      "Rounding errors prevent the line search from converging\n",
      "\n",
      "c:\\Python311\\Lib\\site-packages\\sklearn\\utils\\optimize.py:239: UserWarning:\n",
      "\n",
      "Line Search failed\n",
      "\n",
      "c:\\Python311\\Lib\\site-packages\\scipy\\optimize\\_linesearch.py:313: LineSearchWarning:\n",
      "\n",
      "The line search algorithm did not converge\n",
      "\n",
      "c:\\Python311\\Lib\\site-packages\\sklearn\\utils\\optimize.py:74: LineSearchWarning:\n",
      "\n",
      "The line search algorithm did not converge\n",
      "\n",
      "c:\\Python311\\Lib\\site-packages\\scipy\\optimize\\_linesearch.py:313: LineSearchWarning:\n",
      "\n",
      "Rounding errors prevent the line search from converging\n",
      "\n",
      "c:\\Python311\\Lib\\site-packages\\sklearn\\utils\\optimize.py:239: UserWarning:\n",
      "\n",
      "Line Search failed\n",
      "\n",
      "c:\\Python311\\Lib\\site-packages\\scipy\\optimize\\_linesearch.py:313: LineSearchWarning:\n",
      "\n",
      "The line search algorithm did not converge\n",
      "\n",
      "c:\\Python311\\Lib\\site-packages\\sklearn\\utils\\optimize.py:74: LineSearchWarning:\n",
      "\n",
      "The line search algorithm did not converge\n",
      "\n",
      "c:\\Python311\\Lib\\site-packages\\scipy\\optimize\\_linesearch.py:313: LineSearchWarning:\n",
      "\n",
      "Rounding errors prevent the line search from converging\n",
      "\n",
      "c:\\Python311\\Lib\\site-packages\\sklearn\\utils\\optimize.py:239: UserWarning:\n",
      "\n",
      "Line Search failed\n",
      "\n",
      "c:\\Python311\\Lib\\site-packages\\scipy\\optimize\\_linesearch.py:313: LineSearchWarning:\n",
      "\n",
      "The line search algorithm did not converge\n",
      "\n",
      "c:\\Python311\\Lib\\site-packages\\sklearn\\utils\\optimize.py:74: LineSearchWarning:\n",
      "\n",
      "The line search algorithm did not converge\n",
      "\n",
      "c:\\Python311\\Lib\\site-packages\\scipy\\optimize\\_linesearch.py:313: LineSearchWarning:\n",
      "\n",
      "Rounding errors prevent the line search from converging\n",
      "\n",
      "c:\\Python311\\Lib\\site-packages\\sklearn\\utils\\optimize.py:239: UserWarning:\n",
      "\n",
      "Line Search failed\n",
      "\n",
      "c:\\Python311\\Lib\\site-packages\\scipy\\optimize\\_linesearch.py:313: LineSearchWarning:\n",
      "\n",
      "The line search algorithm did not converge\n",
      "\n",
      "c:\\Python311\\Lib\\site-packages\\sklearn\\utils\\optimize.py:74: LineSearchWarning:\n",
      "\n",
      "The line search algorithm did not converge\n",
      "\n",
      "c:\\Python311\\Lib\\site-packages\\scipy\\optimize\\_linesearch.py:313: LineSearchWarning:\n",
      "\n",
      "Rounding errors prevent the line search from converging\n",
      "\n",
      "c:\\Python311\\Lib\\site-packages\\sklearn\\utils\\optimize.py:239: UserWarning:\n",
      "\n",
      "Line Search failed\n",
      "\n",
      "c:\\Python311\\Lib\\site-packages\\scipy\\optimize\\_linesearch.py:313: LineSearchWarning:\n",
      "\n",
      "The line search algorithm did not converge\n",
      "\n",
      "c:\\Python311\\Lib\\site-packages\\sklearn\\utils\\optimize.py:74: LineSearchWarning:\n",
      "\n",
      "The line search algorithm did not converge\n",
      "\n",
      "c:\\Python311\\Lib\\site-packages\\scipy\\optimize\\_linesearch.py:313: LineSearchWarning:\n",
      "\n",
      "Rounding errors prevent the line search from converging\n",
      "\n",
      "c:\\Python311\\Lib\\site-packages\\sklearn\\utils\\optimize.py:239: UserWarning:\n",
      "\n",
      "Line Search failed\n",
      "\n",
      "c:\\Python311\\Lib\\site-packages\\scipy\\optimize\\_linesearch.py:313: LineSearchWarning:\n",
      "\n",
      "The line search algorithm did not converge\n",
      "\n",
      "c:\\Python311\\Lib\\site-packages\\sklearn\\utils\\optimize.py:74: LineSearchWarning:\n",
      "\n",
      "The line search algorithm did not converge\n",
      "\n",
      "c:\\Python311\\Lib\\site-packages\\scipy\\optimize\\_linesearch.py:313: LineSearchWarning:\n",
      "\n",
      "Rounding errors prevent the line search from converging\n",
      "\n",
      "c:\\Python311\\Lib\\site-packages\\sklearn\\utils\\optimize.py:239: UserWarning:\n",
      "\n",
      "Line Search failed\n",
      "\n",
      "c:\\Python311\\Lib\\site-packages\\scipy\\optimize\\_linesearch.py:313: LineSearchWarning:\n",
      "\n",
      "The line search algorithm did not converge\n",
      "\n",
      "c:\\Python311\\Lib\\site-packages\\sklearn\\utils\\optimize.py:74: LineSearchWarning:\n",
      "\n",
      "The line search algorithm did not converge\n",
      "\n",
      "c:\\Python311\\Lib\\site-packages\\scipy\\optimize\\_linesearch.py:313: LineSearchWarning:\n",
      "\n",
      "Rounding errors prevent the line search from converging\n",
      "\n",
      "c:\\Python311\\Lib\\site-packages\\sklearn\\utils\\optimize.py:239: UserWarning:\n",
      "\n",
      "Line Search failed\n",
      "\n",
      "c:\\Python311\\Lib\\site-packages\\scipy\\optimize\\_linesearch.py:313: LineSearchWarning:\n",
      "\n",
      "The line search algorithm did not converge\n",
      "\n",
      "c:\\Python311\\Lib\\site-packages\\sklearn\\utils\\optimize.py:74: LineSearchWarning:\n",
      "\n",
      "The line search algorithm did not converge\n",
      "\n",
      "c:\\Python311\\Lib\\site-packages\\scipy\\optimize\\_linesearch.py:313: LineSearchWarning:\n",
      "\n",
      "Rounding errors prevent the line search from converging\n",
      "\n",
      "c:\\Python311\\Lib\\site-packages\\sklearn\\utils\\optimize.py:239: UserWarning:\n",
      "\n",
      "Line Search failed\n",
      "\n",
      "c:\\Python311\\Lib\\site-packages\\scipy\\optimize\\_linesearch.py:313: LineSearchWarning:\n",
      "\n",
      "The line search algorithm did not converge\n",
      "\n",
      "c:\\Python311\\Lib\\site-packages\\sklearn\\utils\\optimize.py:74: LineSearchWarning:\n",
      "\n",
      "The line search algorithm did not converge\n",
      "\n",
      "c:\\Python311\\Lib\\site-packages\\scipy\\optimize\\_linesearch.py:313: LineSearchWarning:\n",
      "\n",
      "Rounding errors prevent the line search from converging\n",
      "\n",
      "c:\\Python311\\Lib\\site-packages\\sklearn\\utils\\optimize.py:239: UserWarning:\n",
      "\n",
      "Line Search failed\n",
      "\n",
      "c:\\Python311\\Lib\\site-packages\\scipy\\optimize\\_linesearch.py:313: LineSearchWarning:\n",
      "\n",
      "The line search algorithm did not converge\n",
      "\n",
      "c:\\Python311\\Lib\\site-packages\\sklearn\\utils\\optimize.py:74: LineSearchWarning:\n",
      "\n",
      "The line search algorithm did not converge\n",
      "\n",
      "c:\\Python311\\Lib\\site-packages\\scipy\\optimize\\_linesearch.py:313: LineSearchWarning:\n",
      "\n",
      "Rounding errors prevent the line search from converging\n",
      "\n",
      "c:\\Python311\\Lib\\site-packages\\sklearn\\utils\\optimize.py:239: UserWarning:\n",
      "\n",
      "Line Search failed\n",
      "\n",
      "c:\\Python311\\Lib\\site-packages\\scipy\\optimize\\_linesearch.py:313: LineSearchWarning:\n",
      "\n",
      "The line search algorithm did not converge\n",
      "\n",
      "c:\\Python311\\Lib\\site-packages\\sklearn\\utils\\optimize.py:74: LineSearchWarning:\n",
      "\n",
      "The line search algorithm did not converge\n",
      "\n",
      "c:\\Python311\\Lib\\site-packages\\scipy\\optimize\\_linesearch.py:313: LineSearchWarning:\n",
      "\n",
      "Rounding errors prevent the line search from converging\n",
      "\n",
      "c:\\Python311\\Lib\\site-packages\\sklearn\\utils\\optimize.py:239: UserWarning:\n",
      "\n",
      "Line Search failed\n",
      "\n",
      "c:\\Python311\\Lib\\site-packages\\scipy\\optimize\\_linesearch.py:313: LineSearchWarning:\n",
      "\n",
      "The line search algorithm did not converge\n",
      "\n",
      "c:\\Python311\\Lib\\site-packages\\sklearn\\utils\\optimize.py:74: LineSearchWarning:\n",
      "\n",
      "The line search algorithm did not converge\n",
      "\n",
      "c:\\Python311\\Lib\\site-packages\\scipy\\optimize\\_linesearch.py:313: LineSearchWarning:\n",
      "\n",
      "Rounding errors prevent the line search from converging\n",
      "\n",
      "c:\\Python311\\Lib\\site-packages\\sklearn\\utils\\optimize.py:239: UserWarning:\n",
      "\n",
      "Line Search failed\n",
      "\n",
      "c:\\Python311\\Lib\\site-packages\\scipy\\optimize\\_linesearch.py:313: LineSearchWarning:\n",
      "\n",
      "The line search algorithm did not converge\n",
      "\n",
      "c:\\Python311\\Lib\\site-packages\\sklearn\\utils\\optimize.py:74: LineSearchWarning:\n",
      "\n",
      "The line search algorithm did not converge\n",
      "\n",
      "c:\\Python311\\Lib\\site-packages\\scipy\\optimize\\_linesearch.py:313: LineSearchWarning:\n",
      "\n",
      "Rounding errors prevent the line search from converging\n",
      "\n",
      "c:\\Python311\\Lib\\site-packages\\sklearn\\utils\\optimize.py:239: UserWarning:\n",
      "\n",
      "Line Search failed\n",
      "\n",
      "c:\\Python311\\Lib\\site-packages\\scipy\\optimize\\_linesearch.py:313: LineSearchWarning:\n",
      "\n",
      "The line search algorithm did not converge\n",
      "\n",
      "c:\\Python311\\Lib\\site-packages\\sklearn\\utils\\optimize.py:74: LineSearchWarning:\n",
      "\n",
      "The line search algorithm did not converge\n",
      "\n",
      "c:\\Python311\\Lib\\site-packages\\scipy\\optimize\\_linesearch.py:313: LineSearchWarning:\n",
      "\n",
      "Rounding errors prevent the line search from converging\n",
      "\n",
      "c:\\Python311\\Lib\\site-packages\\sklearn\\utils\\optimize.py:239: UserWarning:\n",
      "\n",
      "Line Search failed\n",
      "\n",
      "c:\\Python311\\Lib\\site-packages\\scipy\\optimize\\_linesearch.py:313: LineSearchWarning:\n",
      "\n",
      "The line search algorithm did not converge\n",
      "\n",
      "c:\\Python311\\Lib\\site-packages\\sklearn\\utils\\optimize.py:74: LineSearchWarning:\n",
      "\n",
      "The line search algorithm did not converge\n",
      "\n",
      "c:\\Python311\\Lib\\site-packages\\scipy\\optimize\\_linesearch.py:313: LineSearchWarning:\n",
      "\n",
      "Rounding errors prevent the line search from converging\n",
      "\n",
      "c:\\Python311\\Lib\\site-packages\\sklearn\\utils\\optimize.py:239: UserWarning:\n",
      "\n",
      "Line Search failed\n",
      "\n",
      "c:\\Python311\\Lib\\site-packages\\scipy\\optimize\\_linesearch.py:313: LineSearchWarning:\n",
      "\n",
      "The line search algorithm did not converge\n",
      "\n",
      "c:\\Python311\\Lib\\site-packages\\sklearn\\utils\\optimize.py:74: LineSearchWarning:\n",
      "\n",
      "The line search algorithm did not converge\n",
      "\n",
      "c:\\Python311\\Lib\\site-packages\\scipy\\optimize\\_linesearch.py:313: LineSearchWarning:\n",
      "\n",
      "Rounding errors prevent the line search from converging\n",
      "\n",
      "c:\\Python311\\Lib\\site-packages\\sklearn\\utils\\optimize.py:239: UserWarning:\n",
      "\n",
      "Line Search failed\n",
      "\n",
      "c:\\Python311\\Lib\\site-packages\\scipy\\optimize\\_linesearch.py:313: LineSearchWarning:\n",
      "\n",
      "The line search algorithm did not converge\n",
      "\n",
      "c:\\Python311\\Lib\\site-packages\\sklearn\\utils\\optimize.py:74: LineSearchWarning:\n",
      "\n",
      "The line search algorithm did not converge\n",
      "\n",
      "c:\\Python311\\Lib\\site-packages\\scipy\\optimize\\_linesearch.py:313: LineSearchWarning:\n",
      "\n",
      "Rounding errors prevent the line search from converging\n",
      "\n",
      "c:\\Python311\\Lib\\site-packages\\sklearn\\utils\\optimize.py:239: UserWarning:\n",
      "\n",
      "Line Search failed\n",
      "\n",
      "c:\\Python311\\Lib\\site-packages\\scipy\\optimize\\_linesearch.py:313: LineSearchWarning:\n",
      "\n",
      "The line search algorithm did not converge\n",
      "\n",
      "c:\\Python311\\Lib\\site-packages\\sklearn\\utils\\optimize.py:74: LineSearchWarning:\n",
      "\n",
      "The line search algorithm did not converge\n",
      "\n",
      "c:\\Python311\\Lib\\site-packages\\scipy\\optimize\\_linesearch.py:313: LineSearchWarning:\n",
      "\n",
      "Rounding errors prevent the line search from converging\n",
      "\n",
      "c:\\Python311\\Lib\\site-packages\\sklearn\\utils\\optimize.py:239: UserWarning:\n",
      "\n",
      "Line Search failed\n",
      "\n",
      "c:\\Python311\\Lib\\site-packages\\scipy\\optimize\\_linesearch.py:313: LineSearchWarning:\n",
      "\n",
      "The line search algorithm did not converge\n",
      "\n",
      "c:\\Python311\\Lib\\site-packages\\sklearn\\utils\\optimize.py:74: LineSearchWarning:\n",
      "\n",
      "The line search algorithm did not converge\n",
      "\n",
      "c:\\Python311\\Lib\\site-packages\\scipy\\optimize\\_linesearch.py:313: LineSearchWarning:\n",
      "\n",
      "Rounding errors prevent the line search from converging\n",
      "\n",
      "c:\\Python311\\Lib\\site-packages\\sklearn\\utils\\optimize.py:239: UserWarning:\n",
      "\n",
      "Line Search failed\n",
      "\n",
      "c:\\Python311\\Lib\\site-packages\\scipy\\optimize\\_linesearch.py:313: LineSearchWarning:\n",
      "\n",
      "The line search algorithm did not converge\n",
      "\n",
      "c:\\Python311\\Lib\\site-packages\\sklearn\\utils\\optimize.py:74: LineSearchWarning:\n",
      "\n",
      "The line search algorithm did not converge\n",
      "\n",
      "c:\\Python311\\Lib\\site-packages\\sklearn\\utils\\optimize.py:239: UserWarning:\n",
      "\n",
      "Line Search failed\n",
      "\n",
      "c:\\Python311\\Lib\\site-packages\\scipy\\optimize\\_linesearch.py:313: LineSearchWarning:\n",
      "\n",
      "The line search algorithm did not converge\n",
      "\n",
      "c:\\Python311\\Lib\\site-packages\\sklearn\\utils\\optimize.py:74: LineSearchWarning:\n",
      "\n",
      "The line search algorithm did not converge\n",
      "\n",
      "c:\\Python311\\Lib\\site-packages\\scipy\\optimize\\_linesearch.py:313: LineSearchWarning:\n",
      "\n",
      "Rounding errors prevent the line search from converging\n",
      "\n",
      "c:\\Python311\\Lib\\site-packages\\sklearn\\utils\\optimize.py:239: UserWarning:\n",
      "\n",
      "Line Search failed\n",
      "\n",
      "c:\\Python311\\Lib\\site-packages\\scipy\\optimize\\_linesearch.py:313: LineSearchWarning:\n",
      "\n",
      "The line search algorithm did not converge\n",
      "\n",
      "c:\\Python311\\Lib\\site-packages\\sklearn\\utils\\optimize.py:74: LineSearchWarning:\n",
      "\n",
      "The line search algorithm did not converge\n",
      "\n",
      "c:\\Python311\\Lib\\site-packages\\scipy\\optimize\\_linesearch.py:313: LineSearchWarning:\n",
      "\n",
      "Rounding errors prevent the line search from converging\n",
      "\n",
      "c:\\Python311\\Lib\\site-packages\\sklearn\\utils\\optimize.py:239: UserWarning:\n",
      "\n",
      "Line Search failed\n",
      "\n",
      "c:\\Python311\\Lib\\site-packages\\scipy\\optimize\\_linesearch.py:313: LineSearchWarning:\n",
      "\n",
      "The line search algorithm did not converge\n",
      "\n",
      "c:\\Python311\\Lib\\site-packages\\sklearn\\utils\\optimize.py:74: LineSearchWarning:\n",
      "\n",
      "The line search algorithm did not converge\n",
      "\n",
      "c:\\Python311\\Lib\\site-packages\\scipy\\optimize\\_linesearch.py:313: LineSearchWarning:\n",
      "\n",
      "Rounding errors prevent the line search from converging\n",
      "\n",
      "c:\\Python311\\Lib\\site-packages\\sklearn\\utils\\optimize.py:239: UserWarning:\n",
      "\n",
      "Line Search failed\n",
      "\n",
      "c:\\Python311\\Lib\\site-packages\\scipy\\optimize\\_linesearch.py:313: LineSearchWarning:\n",
      "\n",
      "The line search algorithm did not converge\n",
      "\n",
      "c:\\Python311\\Lib\\site-packages\\sklearn\\utils\\optimize.py:74: LineSearchWarning:\n",
      "\n",
      "The line search algorithm did not converge\n",
      "\n",
      "c:\\Python311\\Lib\\site-packages\\scipy\\optimize\\_linesearch.py:313: LineSearchWarning:\n",
      "\n",
      "Rounding errors prevent the line search from converging\n",
      "\n",
      "c:\\Python311\\Lib\\site-packages\\sklearn\\utils\\optimize.py:239: UserWarning:\n",
      "\n",
      "Line Search failed\n",
      "\n",
      "c:\\Python311\\Lib\\site-packages\\scipy\\optimize\\_linesearch.py:313: LineSearchWarning:\n",
      "\n",
      "The line search algorithm did not converge\n",
      "\n",
      "c:\\Python311\\Lib\\site-packages\\sklearn\\utils\\optimize.py:74: LineSearchWarning:\n",
      "\n",
      "The line search algorithm did not converge\n",
      "\n",
      "c:\\Python311\\Lib\\site-packages\\scipy\\optimize\\_linesearch.py:313: LineSearchWarning:\n",
      "\n",
      "Rounding errors prevent the line search from converging\n",
      "\n",
      "c:\\Python311\\Lib\\site-packages\\sklearn\\utils\\optimize.py:239: UserWarning:\n",
      "\n",
      "Line Search failed\n",
      "\n",
      "c:\\Python311\\Lib\\site-packages\\scipy\\optimize\\_linesearch.py:313: LineSearchWarning:\n",
      "\n",
      "The line search algorithm did not converge\n",
      "\n",
      "c:\\Python311\\Lib\\site-packages\\sklearn\\utils\\optimize.py:74: LineSearchWarning:\n",
      "\n",
      "The line search algorithm did not converge\n",
      "\n",
      "c:\\Python311\\Lib\\site-packages\\scipy\\optimize\\_linesearch.py:313: LineSearchWarning:\n",
      "\n",
      "Rounding errors prevent the line search from converging\n",
      "\n",
      "c:\\Python311\\Lib\\site-packages\\sklearn\\utils\\optimize.py:239: UserWarning:\n",
      "\n",
      "Line Search failed\n",
      "\n",
      "c:\\Python311\\Lib\\site-packages\\scipy\\optimize\\_linesearch.py:313: LineSearchWarning:\n",
      "\n",
      "The line search algorithm did not converge\n",
      "\n",
      "c:\\Python311\\Lib\\site-packages\\sklearn\\utils\\optimize.py:74: LineSearchWarning:\n",
      "\n",
      "The line search algorithm did not converge\n",
      "\n",
      "c:\\Python311\\Lib\\site-packages\\scipy\\optimize\\_linesearch.py:313: LineSearchWarning:\n",
      "\n",
      "Rounding errors prevent the line search from converging\n",
      "\n",
      "c:\\Python311\\Lib\\site-packages\\sklearn\\utils\\optimize.py:239: UserWarning:\n",
      "\n",
      "Line Search failed\n",
      "\n",
      "c:\\Python311\\Lib\\site-packages\\scipy\\optimize\\_linesearch.py:313: LineSearchWarning:\n",
      "\n",
      "The line search algorithm did not converge\n",
      "\n",
      "c:\\Python311\\Lib\\site-packages\\sklearn\\utils\\optimize.py:74: LineSearchWarning:\n",
      "\n",
      "The line search algorithm did not converge\n",
      "\n",
      "c:\\Python311\\Lib\\site-packages\\scipy\\optimize\\_linesearch.py:313: LineSearchWarning:\n",
      "\n",
      "Rounding errors prevent the line search from converging\n",
      "\n",
      "c:\\Python311\\Lib\\site-packages\\sklearn\\utils\\optimize.py:239: UserWarning:\n",
      "\n",
      "Line Search failed\n",
      "\n",
      "c:\\Python311\\Lib\\site-packages\\scipy\\optimize\\_linesearch.py:313: LineSearchWarning:\n",
      "\n",
      "The line search algorithm did not converge\n",
      "\n",
      "c:\\Python311\\Lib\\site-packages\\sklearn\\utils\\optimize.py:74: LineSearchWarning:\n",
      "\n",
      "The line search algorithm did not converge\n",
      "\n",
      "c:\\Python311\\Lib\\site-packages\\scipy\\optimize\\_linesearch.py:313: LineSearchWarning:\n",
      "\n",
      "Rounding errors prevent the line search from converging\n",
      "\n",
      "c:\\Python311\\Lib\\site-packages\\sklearn\\utils\\optimize.py:239: UserWarning:\n",
      "\n",
      "Line Search failed\n",
      "\n",
      "c:\\Python311\\Lib\\site-packages\\scipy\\optimize\\_linesearch.py:313: LineSearchWarning:\n",
      "\n",
      "The line search algorithm did not converge\n",
      "\n",
      "c:\\Python311\\Lib\\site-packages\\sklearn\\utils\\optimize.py:74: LineSearchWarning:\n",
      "\n",
      "The line search algorithm did not converge\n",
      "\n",
      "c:\\Python311\\Lib\\site-packages\\scipy\\optimize\\_linesearch.py:313: LineSearchWarning:\n",
      "\n",
      "Rounding errors prevent the line search from converging\n",
      "\n",
      "c:\\Python311\\Lib\\site-packages\\sklearn\\utils\\optimize.py:239: UserWarning:\n",
      "\n",
      "Line Search failed\n",
      "\n",
      "c:\\Python311\\Lib\\site-packages\\scipy\\optimize\\_linesearch.py:313: LineSearchWarning:\n",
      "\n",
      "The line search algorithm did not converge\n",
      "\n",
      "c:\\Python311\\Lib\\site-packages\\sklearn\\utils\\optimize.py:74: LineSearchWarning:\n",
      "\n",
      "The line search algorithm did not converge\n",
      "\n",
      "c:\\Python311\\Lib\\site-packages\\sklearn\\utils\\optimize.py:239: UserWarning:\n",
      "\n",
      "Line Search failed\n",
      "\n",
      "c:\\Python311\\Lib\\site-packages\\scipy\\optimize\\_linesearch.py:313: LineSearchWarning:\n",
      "\n",
      "The line search algorithm did not converge\n",
      "\n",
      "c:\\Python311\\Lib\\site-packages\\sklearn\\utils\\optimize.py:74: LineSearchWarning:\n",
      "\n",
      "The line search algorithm did not converge\n",
      "\n",
      "c:\\Python311\\Lib\\site-packages\\scipy\\optimize\\_linesearch.py:313: LineSearchWarning:\n",
      "\n",
      "Rounding errors prevent the line search from converging\n",
      "\n",
      "c:\\Python311\\Lib\\site-packages\\sklearn\\utils\\optimize.py:239: UserWarning:\n",
      "\n",
      "Line Search failed\n",
      "\n",
      "c:\\Python311\\Lib\\site-packages\\scipy\\optimize\\_linesearch.py:313: LineSearchWarning:\n",
      "\n",
      "The line search algorithm did not converge\n",
      "\n",
      "c:\\Python311\\Lib\\site-packages\\sklearn\\utils\\optimize.py:74: LineSearchWarning:\n",
      "\n",
      "The line search algorithm did not converge\n",
      "\n",
      "c:\\Python311\\Lib\\site-packages\\scipy\\optimize\\_linesearch.py:313: LineSearchWarning:\n",
      "\n",
      "Rounding errors prevent the line search from converging\n",
      "\n",
      "c:\\Python311\\Lib\\site-packages\\sklearn\\utils\\optimize.py:239: UserWarning:\n",
      "\n",
      "Line Search failed\n",
      "\n",
      "c:\\Python311\\Lib\\site-packages\\scipy\\optimize\\_linesearch.py:313: LineSearchWarning:\n",
      "\n",
      "The line search algorithm did not converge\n",
      "\n",
      "c:\\Python311\\Lib\\site-packages\\sklearn\\utils\\optimize.py:74: LineSearchWarning:\n",
      "\n",
      "The line search algorithm did not converge\n",
      "\n",
      "c:\\Python311\\Lib\\site-packages\\scipy\\optimize\\_linesearch.py:313: LineSearchWarning:\n",
      "\n",
      "Rounding errors prevent the line search from converging\n",
      "\n",
      "c:\\Python311\\Lib\\site-packages\\sklearn\\utils\\optimize.py:239: UserWarning:\n",
      "\n",
      "Line Search failed\n",
      "\n",
      "c:\\Python311\\Lib\\site-packages\\scipy\\optimize\\_linesearch.py:313: LineSearchWarning:\n",
      "\n",
      "The line search algorithm did not converge\n",
      "\n",
      "c:\\Python311\\Lib\\site-packages\\sklearn\\utils\\optimize.py:74: LineSearchWarning:\n",
      "\n",
      "The line search algorithm did not converge\n",
      "\n",
      "c:\\Python311\\Lib\\site-packages\\scipy\\optimize\\_linesearch.py:313: LineSearchWarning:\n",
      "\n",
      "Rounding errors prevent the line search from converging\n",
      "\n",
      "c:\\Python311\\Lib\\site-packages\\sklearn\\utils\\optimize.py:239: UserWarning:\n",
      "\n",
      "Line Search failed\n",
      "\n",
      "c:\\Python311\\Lib\\site-packages\\scipy\\optimize\\_linesearch.py:313: LineSearchWarning:\n",
      "\n",
      "The line search algorithm did not converge\n",
      "\n",
      "c:\\Python311\\Lib\\site-packages\\sklearn\\utils\\optimize.py:74: LineSearchWarning:\n",
      "\n",
      "The line search algorithm did not converge\n",
      "\n",
      "c:\\Python311\\Lib\\site-packages\\scipy\\optimize\\_linesearch.py:313: LineSearchWarning:\n",
      "\n",
      "Rounding errors prevent the line search from converging\n",
      "\n",
      "c:\\Python311\\Lib\\site-packages\\sklearn\\utils\\optimize.py:239: UserWarning:\n",
      "\n",
      "Line Search failed\n",
      "\n",
      "c:\\Python311\\Lib\\site-packages\\scipy\\optimize\\_linesearch.py:313: LineSearchWarning:\n",
      "\n",
      "The line search algorithm did not converge\n",
      "\n",
      "c:\\Python311\\Lib\\site-packages\\sklearn\\utils\\optimize.py:74: LineSearchWarning:\n",
      "\n",
      "The line search algorithm did not converge\n",
      "\n",
      "c:\\Python311\\Lib\\site-packages\\scipy\\optimize\\_linesearch.py:313: LineSearchWarning:\n",
      "\n",
      "Rounding errors prevent the line search from converging\n",
      "\n",
      "c:\\Python311\\Lib\\site-packages\\sklearn\\utils\\optimize.py:239: UserWarning:\n",
      "\n",
      "Line Search failed\n",
      "\n",
      "c:\\Python311\\Lib\\site-packages\\scipy\\optimize\\_linesearch.py:313: LineSearchWarning:\n",
      "\n",
      "The line search algorithm did not converge\n",
      "\n",
      "c:\\Python311\\Lib\\site-packages\\sklearn\\utils\\optimize.py:74: LineSearchWarning:\n",
      "\n",
      "The line search algorithm did not converge\n",
      "\n",
      "c:\\Python311\\Lib\\site-packages\\scipy\\optimize\\_linesearch.py:313: LineSearchWarning:\n",
      "\n",
      "Rounding errors prevent the line search from converging\n",
      "\n",
      "c:\\Python311\\Lib\\site-packages\\sklearn\\utils\\optimize.py:239: UserWarning:\n",
      "\n",
      "Line Search failed\n",
      "\n",
      "c:\\Python311\\Lib\\site-packages\\scipy\\optimize\\_linesearch.py:313: LineSearchWarning:\n",
      "\n",
      "The line search algorithm did not converge\n",
      "\n",
      "c:\\Python311\\Lib\\site-packages\\sklearn\\utils\\optimize.py:74: LineSearchWarning:\n",
      "\n",
      "The line search algorithm did not converge\n",
      "\n",
      "c:\\Python311\\Lib\\site-packages\\scipy\\optimize\\_linesearch.py:313: LineSearchWarning:\n",
      "\n",
      "Rounding errors prevent the line search from converging\n",
      "\n",
      "c:\\Python311\\Lib\\site-packages\\sklearn\\utils\\optimize.py:239: UserWarning:\n",
      "\n",
      "Line Search failed\n",
      "\n",
      "c:\\Python311\\Lib\\site-packages\\scipy\\optimize\\_linesearch.py:313: LineSearchWarning:\n",
      "\n",
      "The line search algorithm did not converge\n",
      "\n",
      "c:\\Python311\\Lib\\site-packages\\sklearn\\utils\\optimize.py:74: LineSearchWarning:\n",
      "\n",
      "The line search algorithm did not converge\n",
      "\n",
      "c:\\Python311\\Lib\\site-packages\\scipy\\optimize\\_linesearch.py:313: LineSearchWarning:\n",
      "\n",
      "Rounding errors prevent the line search from converging\n",
      "\n",
      "c:\\Python311\\Lib\\site-packages\\sklearn\\utils\\optimize.py:239: UserWarning:\n",
      "\n",
      "Line Search failed\n",
      "\n",
      "c:\\Python311\\Lib\\site-packages\\scipy\\optimize\\_linesearch.py:313: LineSearchWarning:\n",
      "\n",
      "The line search algorithm did not converge\n",
      "\n",
      "c:\\Python311\\Lib\\site-packages\\sklearn\\utils\\optimize.py:74: LineSearchWarning:\n",
      "\n",
      "The line search algorithm did not converge\n",
      "\n",
      "c:\\Python311\\Lib\\site-packages\\scipy\\optimize\\_linesearch.py:313: LineSearchWarning:\n",
      "\n",
      "Rounding errors prevent the line search from converging\n",
      "\n",
      "c:\\Python311\\Lib\\site-packages\\sklearn\\utils\\optimize.py:239: UserWarning:\n",
      "\n",
      "Line Search failed\n",
      "\n",
      "c:\\Python311\\Lib\\site-packages\\scipy\\optimize\\_linesearch.py:313: LineSearchWarning:\n",
      "\n",
      "The line search algorithm did not converge\n",
      "\n",
      "c:\\Python311\\Lib\\site-packages\\sklearn\\utils\\optimize.py:74: LineSearchWarning:\n",
      "\n",
      "The line search algorithm did not converge\n",
      "\n",
      "c:\\Python311\\Lib\\site-packages\\scipy\\optimize\\_linesearch.py:313: LineSearchWarning:\n",
      "\n",
      "Rounding errors prevent the line search from converging\n",
      "\n",
      "c:\\Python311\\Lib\\site-packages\\sklearn\\utils\\optimize.py:239: UserWarning:\n",
      "\n",
      "Line Search failed\n",
      "\n",
      "c:\\Python311\\Lib\\site-packages\\scipy\\optimize\\_linesearch.py:313: LineSearchWarning:\n",
      "\n",
      "The line search algorithm did not converge\n",
      "\n",
      "c:\\Python311\\Lib\\site-packages\\sklearn\\utils\\optimize.py:74: LineSearchWarning:\n",
      "\n",
      "The line search algorithm did not converge\n",
      "\n",
      "c:\\Python311\\Lib\\site-packages\\scipy\\optimize\\_linesearch.py:313: LineSearchWarning:\n",
      "\n",
      "Rounding errors prevent the line search from converging\n",
      "\n",
      "c:\\Python311\\Lib\\site-packages\\sklearn\\utils\\optimize.py:239: UserWarning:\n",
      "\n",
      "Line Search failed\n",
      "\n",
      "c:\\Python311\\Lib\\site-packages\\scipy\\optimize\\_linesearch.py:313: LineSearchWarning:\n",
      "\n",
      "The line search algorithm did not converge\n",
      "\n",
      "c:\\Python311\\Lib\\site-packages\\sklearn\\utils\\optimize.py:74: LineSearchWarning:\n",
      "\n",
      "The line search algorithm did not converge\n",
      "\n",
      "c:\\Python311\\Lib\\site-packages\\scipy\\optimize\\_linesearch.py:313: LineSearchWarning:\n",
      "\n",
      "Rounding errors prevent the line search from converging\n",
      "\n",
      "c:\\Python311\\Lib\\site-packages\\sklearn\\utils\\optimize.py:239: UserWarning:\n",
      "\n",
      "Line Search failed\n",
      "\n",
      "c:\\Python311\\Lib\\site-packages\\scipy\\optimize\\_linesearch.py:313: LineSearchWarning:\n",
      "\n",
      "The line search algorithm did not converge\n",
      "\n",
      "c:\\Python311\\Lib\\site-packages\\sklearn\\utils\\optimize.py:74: LineSearchWarning:\n",
      "\n",
      "The line search algorithm did not converge\n",
      "\n",
      "c:\\Python311\\Lib\\site-packages\\scipy\\optimize\\_linesearch.py:313: LineSearchWarning:\n",
      "\n",
      "Rounding errors prevent the line search from converging\n",
      "\n",
      "c:\\Python311\\Lib\\site-packages\\sklearn\\utils\\optimize.py:239: UserWarning:\n",
      "\n",
      "Line Search failed\n",
      "\n",
      "c:\\Python311\\Lib\\site-packages\\scipy\\optimize\\_linesearch.py:313: LineSearchWarning:\n",
      "\n",
      "The line search algorithm did not converge\n",
      "\n",
      "c:\\Python311\\Lib\\site-packages\\sklearn\\utils\\optimize.py:74: LineSearchWarning:\n",
      "\n",
      "The line search algorithm did not converge\n",
      "\n",
      "c:\\Python311\\Lib\\site-packages\\scipy\\optimize\\_linesearch.py:313: LineSearchWarning:\n",
      "\n",
      "Rounding errors prevent the line search from converging\n",
      "\n",
      "c:\\Python311\\Lib\\site-packages\\sklearn\\utils\\optimize.py:239: UserWarning:\n",
      "\n",
      "Line Search failed\n",
      "\n",
      "c:\\Python311\\Lib\\site-packages\\scipy\\optimize\\_linesearch.py:313: LineSearchWarning:\n",
      "\n",
      "The line search algorithm did not converge\n",
      "\n",
      "c:\\Python311\\Lib\\site-packages\\sklearn\\utils\\optimize.py:74: LineSearchWarning:\n",
      "\n",
      "The line search algorithm did not converge\n",
      "\n",
      "c:\\Python311\\Lib\\site-packages\\scipy\\optimize\\_linesearch.py:313: LineSearchWarning:\n",
      "\n",
      "Rounding errors prevent the line search from converging\n",
      "\n",
      "c:\\Python311\\Lib\\site-packages\\sklearn\\utils\\optimize.py:239: UserWarning:\n",
      "\n",
      "Line Search failed\n",
      "\n",
      "c:\\Python311\\Lib\\site-packages\\scipy\\optimize\\_linesearch.py:313: LineSearchWarning:\n",
      "\n",
      "The line search algorithm did not converge\n",
      "\n",
      "c:\\Python311\\Lib\\site-packages\\sklearn\\utils\\optimize.py:74: LineSearchWarning:\n",
      "\n",
      "The line search algorithm did not converge\n",
      "\n",
      "c:\\Python311\\Lib\\site-packages\\scipy\\optimize\\_linesearch.py:313: LineSearchWarning:\n",
      "\n",
      "Rounding errors prevent the line search from converging\n",
      "\n",
      "c:\\Python311\\Lib\\site-packages\\sklearn\\utils\\optimize.py:239: UserWarning:\n",
      "\n",
      "Line Search failed\n",
      "\n",
      "c:\\Python311\\Lib\\site-packages\\scipy\\optimize\\_linesearch.py:313: LineSearchWarning:\n",
      "\n",
      "The line search algorithm did not converge\n",
      "\n",
      "c:\\Python311\\Lib\\site-packages\\sklearn\\utils\\optimize.py:74: LineSearchWarning:\n",
      "\n",
      "The line search algorithm did not converge\n",
      "\n",
      "c:\\Python311\\Lib\\site-packages\\scipy\\optimize\\_linesearch.py:313: LineSearchWarning:\n",
      "\n",
      "Rounding errors prevent the line search from converging\n",
      "\n",
      "c:\\Python311\\Lib\\site-packages\\sklearn\\utils\\optimize.py:239: UserWarning:\n",
      "\n",
      "Line Search failed\n",
      "\n",
      "c:\\Python311\\Lib\\site-packages\\scipy\\optimize\\_linesearch.py:313: LineSearchWarning:\n",
      "\n",
      "The line search algorithm did not converge\n",
      "\n",
      "c:\\Python311\\Lib\\site-packages\\sklearn\\utils\\optimize.py:74: LineSearchWarning:\n",
      "\n",
      "The line search algorithm did not converge\n",
      "\n",
      "c:\\Python311\\Lib\\site-packages\\scipy\\optimize\\_linesearch.py:313: LineSearchWarning:\n",
      "\n",
      "Rounding errors prevent the line search from converging\n",
      "\n",
      "c:\\Python311\\Lib\\site-packages\\sklearn\\utils\\optimize.py:239: UserWarning:\n",
      "\n",
      "Line Search failed\n",
      "\n",
      "c:\\Python311\\Lib\\site-packages\\scipy\\optimize\\_linesearch.py:313: LineSearchWarning:\n",
      "\n",
      "The line search algorithm did not converge\n",
      "\n",
      "c:\\Python311\\Lib\\site-packages\\sklearn\\utils\\optimize.py:74: LineSearchWarning:\n",
      "\n",
      "The line search algorithm did not converge\n",
      "\n",
      "c:\\Python311\\Lib\\site-packages\\scipy\\optimize\\_linesearch.py:313: LineSearchWarning:\n",
      "\n",
      "Rounding errors prevent the line search from converging\n",
      "\n",
      "c:\\Python311\\Lib\\site-packages\\sklearn\\utils\\optimize.py:239: UserWarning:\n",
      "\n",
      "Line Search failed\n",
      "\n",
      "c:\\Python311\\Lib\\site-packages\\scipy\\optimize\\_linesearch.py:313: LineSearchWarning:\n",
      "\n",
      "The line search algorithm did not converge\n",
      "\n",
      "c:\\Python311\\Lib\\site-packages\\sklearn\\utils\\optimize.py:74: LineSearchWarning:\n",
      "\n",
      "The line search algorithm did not converge\n",
      "\n",
      "c:\\Python311\\Lib\\site-packages\\scipy\\optimize\\_linesearch.py:313: LineSearchWarning:\n",
      "\n",
      "Rounding errors prevent the line search from converging\n",
      "\n",
      "c:\\Python311\\Lib\\site-packages\\sklearn\\utils\\optimize.py:239: UserWarning:\n",
      "\n",
      "Line Search failed\n",
      "\n"
     ]
    },
    {
     "data": {
      "application/vnd.plotly.v1+json": {
       "config": {
        "plotlyServerURL": "https://plotly.com"
       },
       "data": [
        {
         "mode": "lines+markers",
         "name": "Train AUC",
         "type": "scatter",
         "x": [
          1,
          2,
          3,
          4,
          5,
          6,
          7,
          8,
          9,
          10,
          11,
          12,
          13,
          14,
          15,
          16,
          17,
          18,
          19,
          20,
          21,
          22,
          23,
          24,
          25,
          26,
          27,
          28,
          29,
          30,
          31,
          32,
          33,
          34,
          35,
          36,
          37,
          38,
          39,
          40,
          41,
          42,
          43,
          44,
          45,
          46,
          47,
          48,
          49,
          50,
          51,
          52,
          53,
          54,
          55,
          56,
          57,
          58,
          59,
          60,
          61,
          62,
          63,
          64,
          65,
          66,
          67,
          68,
          69,
          70,
          71,
          72,
          73,
          74,
          75,
          76,
          77,
          78,
          79,
          80,
          81,
          82,
          83,
          84,
          85,
          86,
          87,
          88,
          89,
          90,
          91,
          92,
          93,
          94,
          95,
          96,
          97,
          98,
          99,
          100,
          101,
          102,
          103,
          104,
          105,
          106,
          107,
          108,
          109,
          110,
          111
         ],
         "y": [
          0.7521380543197839,
          0.7544944847339874,
          0.7568001300099538,
          0.628059804578788,
          0.6341235500843033,
          0.6343673187478417,
          0.634164178194893,
          0.7525748065086233,
          0.7525748065086233,
          0.7543827574298657,
          0.7589940479817986,
          0.7543827574298657,
          0.7546062120381092,
          0.7544233855404555,
          0.7548296666463525,
          0.754504641761635,
          0.754504641761635,
          0.7551648485587178,
          0.7551242204481281,
          0.7551750055863652,
          0.7663477359985373,
          0.7550531212545961,
          0.7550531212545961,
          0.7552562618075446,
          0.755053121254596,
          0.7551140634204806,
          0.7550937493651858,
          0.7550937493651858,
          0.7551546915310703,
          0.7551546915310703,
          0.7594612712535804,
          0.7551343774757755,
          0.7556422288581468,
          0.7551343774757755,
          0.7553172039734292,
          0.7554797164157879,
          0.7563735348487618,
          0.7552562618075447,
          0.7552765758628396,
          0.7552765758628396,
          0.7552765758628396,
          0.7556625429134417,
          0.7557234850793264,
          0.7553375180287241,
          0.7552968899181344,
          0.7552968899181344,
          0.7552968899181344,
          0.755621914802852,
          0.7552968899181344,
          0.7552968899181344,
          0.7552968899181344,
          0.7553172039734292,
          0.7553172039734292,
          0.7553172039734292,
          0.7553172039734292,
          0.7553172039734292,
          0.7553172039734292,
          0.7553172039734292,
          0.7556219148028519,
          0.7556219148028519,
          0.7553172039734292,
          0.7553172039734292,
          0.7553172039734292,
          0.7553172039734292,
          0.7553172039734292,
          0.7553172039734292,
          0.7553172039734292,
          0.7553172039734292,
          0.7553172039734292,
          0.7553172039734292,
          0.7553172039734292,
          0.7553172039734292,
          0.7553172039734292,
          0.7553172039734292,
          0.7556422288581468,
          0.7553172039734292,
          0.7558250553558006,
          0.7555203445263778,
          0.7553172039734292,
          0.7553172039734292,
          0.7553172039734292,
          0.7553172039734292,
          0.7553172039734292,
          0.7553172039734292,
          0.7553172039734292,
          0.7556422288581468,
          0.7553172039734292,
          0.7556625429134418,
          0.7553172039734292,
          0.7556828569687366,
          0.7553172039734292,
          0.7553172039734292,
          0.7556828569687366,
          0.7553172039734292,
          0.7553172039734292,
          0.7555203445263778,
          0.7553172039734292,
          0.7555203445263778,
          0.7553172039734292,
          0.7553172039734292,
          0.7556828569687366,
          0.7555203445263778,
          0.7555203445263778,
          0.7553172039734292,
          0.7553172039734292,
          0.7558453694110956,
          0.7558453694110956,
          0.7553172039734292,
          0.7552968899181344,
          0.7552968899181344,
          0.7557234850793263
         ]
        },
        {
         "mode": "lines+markers",
         "name": "Test AUC",
         "type": "scatter",
         "x": [
          1,
          2,
          3,
          4,
          5,
          6,
          7,
          8,
          9,
          10,
          11,
          12,
          13,
          14,
          15,
          16,
          17,
          18,
          19,
          20,
          21,
          22,
          23,
          24,
          25,
          26,
          27,
          28,
          29,
          30,
          31,
          32,
          33,
          34,
          35,
          36,
          37,
          38,
          39,
          40,
          41,
          42,
          43,
          44,
          45,
          46,
          47,
          48,
          49,
          50,
          51,
          52,
          53,
          54,
          55,
          56,
          57,
          58,
          59,
          60,
          61,
          62,
          63,
          64,
          65,
          66,
          67,
          68,
          69,
          70,
          71,
          72,
          73,
          74,
          75,
          76,
          77,
          78,
          79,
          80,
          81,
          82,
          83,
          84,
          85,
          86,
          87,
          88,
          89,
          90,
          91,
          92,
          93,
          94,
          95,
          96,
          97,
          98,
          99,
          100,
          101,
          102,
          103,
          104,
          105,
          106,
          107,
          108,
          109,
          110,
          111
         ],
         "y": [
          0.7677733065057009,
          0.7422870556673373,
          0.7396042924211939,
          0.6264252179745138,
          0.6193829644533871,
          0.6193829644533871,
          0.6193829644533871,
          0.721327967806841,
          0.721327967806841,
          0.7052313883299799,
          0.704560697518444,
          0.7052313883299799,
          0.7052313883299799,
          0.7052313883299799,
          0.7055667337357479,
          0.7052313883299799,
          0.7052313883299799,
          0.703890006706908,
          0.704225352112676,
          0.703890006706908,
          0.7142857142857143,
          0.704225352112676,
          0.704225352112676,
          0.7038900067069082,
          0.7038900067069082,
          0.7038900067069082,
          0.7038900067069082,
          0.7038900067069082,
          0.7038900067069082,
          0.7038900067069082,
          0.7038900067069082,
          0.7038900067069082,
          0.703890006706908,
          0.7038900067069082,
          0.7038900067069082,
          0.704225352112676,
          0.704225352112676,
          0.7038900067069082,
          0.7038900067069082,
          0.7038900067069082,
          0.7038900067069082,
          0.704225352112676,
          0.704225352112676,
          0.7038900067069082,
          0.7048960429242119,
          0.7048960429242119,
          0.7048960429242119,
          0.7052313883299798,
          0.7048960429242119,
          0.7048960429242119,
          0.7048960429242119,
          0.7048960429242119,
          0.7048960429242119,
          0.7048960429242119,
          0.7048960429242119,
          0.7048960429242119,
          0.7048960429242119,
          0.7048960429242119,
          0.7052313883299798,
          0.7052313883299798,
          0.7048960429242119,
          0.7048960429242119,
          0.7048960429242119,
          0.7048960429242119,
          0.7048960429242119,
          0.7048960429242119,
          0.7048960429242119,
          0.7048960429242119,
          0.7048960429242119,
          0.7048960429242119,
          0.7048960429242119,
          0.7048960429242119,
          0.7048960429242119,
          0.7048960429242119,
          0.7052313883299798,
          0.7048960429242119,
          0.7048960429242119,
          0.7048960429242119,
          0.7048960429242119,
          0.7048960429242119,
          0.7048960429242119,
          0.7048960429242119,
          0.7048960429242119,
          0.7048960429242119,
          0.7048960429242119,
          0.7052313883299798,
          0.7048960429242119,
          0.7089201877934272,
          0.7048960429242119,
          0.7052313883299798,
          0.7048960429242119,
          0.7048960429242119,
          0.7052313883299798,
          0.7048960429242119,
          0.7048960429242119,
          0.7048960429242119,
          0.7048960429242119,
          0.7048960429242119,
          0.7048960429242119,
          0.7048960429242119,
          0.7052313883299798,
          0.7048960429242119,
          0.7048960429242119,
          0.7048960429242119,
          0.7048960429242119,
          0.7048960429242119,
          0.7048960429242119,
          0.7048960429242119,
          0.7048960429242119,
          0.7048960429242119,
          0.7052313883299798
         ]
        },
        {
         "line": {
          "dash": "dash"
         },
         "mode": "lines",
         "name": "RF AUC",
         "type": "scatter",
         "x": [
          1,
          2,
          3,
          4,
          5,
          6,
          7,
          8,
          9,
          10,
          11,
          12,
          13,
          14,
          15,
          16,
          17,
          18,
          19,
          20,
          21,
          22,
          23,
          24,
          25,
          26,
          27,
          28,
          29,
          30,
          31,
          32,
          33,
          34,
          35,
          36,
          37,
          38,
          39,
          40,
          41,
          42,
          43,
          44,
          45,
          46,
          47,
          48,
          49,
          50,
          51,
          52,
          53,
          54,
          55,
          56,
          57,
          58,
          59,
          60,
          61,
          62,
          63,
          64,
          65,
          66,
          67,
          68,
          69,
          70,
          71,
          72,
          73,
          74,
          75,
          76,
          77,
          78,
          79,
          80,
          81,
          82,
          83,
          84,
          85,
          86,
          87,
          88,
          89,
          90,
          91,
          92,
          93,
          94,
          95,
          96,
          97,
          98,
          99,
          100,
          101,
          102,
          103,
          104,
          105,
          106,
          107,
          108,
          109,
          110,
          111
         ],
         "y": [
          0.7654258886653253,
          0.7654258886653253,
          0.7654258886653253,
          0.7654258886653253,
          0.7654258886653253,
          0.7654258886653253,
          0.7654258886653253,
          0.7654258886653253,
          0.7654258886653253,
          0.7654258886653253,
          0.7654258886653253,
          0.7654258886653253,
          0.7654258886653253,
          0.7654258886653253,
          0.7654258886653253,
          0.7654258886653253,
          0.7654258886653253,
          0.7654258886653253,
          0.7654258886653253,
          0.7654258886653253,
          0.7654258886653253,
          0.7654258886653253,
          0.7654258886653253,
          0.7654258886653253,
          0.7654258886653253,
          0.7654258886653253,
          0.7654258886653253,
          0.7654258886653253,
          0.7654258886653253,
          0.7654258886653253,
          0.7654258886653253,
          0.7654258886653253,
          0.7654258886653253,
          0.7654258886653253,
          0.7654258886653253,
          0.7654258886653253,
          0.7654258886653253,
          0.7654258886653253,
          0.7654258886653253,
          0.7654258886653253,
          0.7654258886653253,
          0.7654258886653253,
          0.7654258886653253,
          0.7654258886653253,
          0.7654258886653253,
          0.7654258886653253,
          0.7654258886653253,
          0.7654258886653253,
          0.7654258886653253,
          0.7654258886653253,
          0.7654258886653253,
          0.7654258886653253,
          0.7654258886653253,
          0.7654258886653253,
          0.7654258886653253,
          0.7654258886653253,
          0.7654258886653253,
          0.7654258886653253,
          0.7654258886653253,
          0.7654258886653253,
          0.7654258886653253,
          0.7654258886653253,
          0.7654258886653253,
          0.7654258886653253,
          0.7654258886653253,
          0.7654258886653253,
          0.7654258886653253,
          0.7654258886653253,
          0.7654258886653253,
          0.7654258886653253,
          0.7654258886653253,
          0.7654258886653253,
          0.7654258886653253,
          0.7654258886653253,
          0.7654258886653253,
          0.7654258886653253,
          0.7654258886653253,
          0.7654258886653253,
          0.7654258886653253,
          0.7654258886653253,
          0.7654258886653253,
          0.7654258886653253,
          0.7654258886653253,
          0.7654258886653253,
          0.7654258886653253,
          0.7654258886653253,
          0.7654258886653253,
          0.7654258886653253,
          0.7654258886653253,
          0.7654258886653253,
          0.7654258886653253,
          0.7654258886653253,
          0.7654258886653253,
          0.7654258886653253,
          0.7654258886653253,
          0.7654258886653253,
          0.7654258886653253,
          0.7654258886653253,
          0.7654258886653253,
          0.7654258886653253,
          0.7654258886653253,
          0.7654258886653253,
          0.7654258886653253,
          0.7654258886653253,
          0.7654258886653253,
          0.7654258886653253,
          0.7654258886653253,
          0.7654258886653253,
          0.7654258886653253,
          0.7654258886653253,
          0.7654258886653253
         ]
        }
       ],
       "layout": {
        "legend": {
         "title": {
          "text": "Legend"
         }
        },
        "template": {
         "data": {
          "bar": [
           {
            "error_x": {
             "color": "#2a3f5f"
            },
            "error_y": {
             "color": "#2a3f5f"
            },
            "marker": {
             "line": {
              "color": "#E5ECF6",
              "width": 0.5
             },
             "pattern": {
              "fillmode": "overlay",
              "size": 10,
              "solidity": 0.2
             }
            },
            "type": "bar"
           }
          ],
          "barpolar": [
           {
            "marker": {
             "line": {
              "color": "#E5ECF6",
              "width": 0.5
             },
             "pattern": {
              "fillmode": "overlay",
              "size": 10,
              "solidity": 0.2
             }
            },
            "type": "barpolar"
           }
          ],
          "carpet": [
           {
            "aaxis": {
             "endlinecolor": "#2a3f5f",
             "gridcolor": "white",
             "linecolor": "white",
             "minorgridcolor": "white",
             "startlinecolor": "#2a3f5f"
            },
            "baxis": {
             "endlinecolor": "#2a3f5f",
             "gridcolor": "white",
             "linecolor": "white",
             "minorgridcolor": "white",
             "startlinecolor": "#2a3f5f"
            },
            "type": "carpet"
           }
          ],
          "choropleth": [
           {
            "colorbar": {
             "outlinewidth": 0,
             "ticks": ""
            },
            "type": "choropleth"
           }
          ],
          "contour": [
           {
            "colorbar": {
             "outlinewidth": 0,
             "ticks": ""
            },
            "colorscale": [
             [
              0,
              "#0d0887"
             ],
             [
              0.1111111111111111,
              "#46039f"
             ],
             [
              0.2222222222222222,
              "#7201a8"
             ],
             [
              0.3333333333333333,
              "#9c179e"
             ],
             [
              0.4444444444444444,
              "#bd3786"
             ],
             [
              0.5555555555555556,
              "#d8576b"
             ],
             [
              0.6666666666666666,
              "#ed7953"
             ],
             [
              0.7777777777777778,
              "#fb9f3a"
             ],
             [
              0.8888888888888888,
              "#fdca26"
             ],
             [
              1,
              "#f0f921"
             ]
            ],
            "type": "contour"
           }
          ],
          "contourcarpet": [
           {
            "colorbar": {
             "outlinewidth": 0,
             "ticks": ""
            },
            "type": "contourcarpet"
           }
          ],
          "heatmap": [
           {
            "colorbar": {
             "outlinewidth": 0,
             "ticks": ""
            },
            "colorscale": [
             [
              0,
              "#0d0887"
             ],
             [
              0.1111111111111111,
              "#46039f"
             ],
             [
              0.2222222222222222,
              "#7201a8"
             ],
             [
              0.3333333333333333,
              "#9c179e"
             ],
             [
              0.4444444444444444,
              "#bd3786"
             ],
             [
              0.5555555555555556,
              "#d8576b"
             ],
             [
              0.6666666666666666,
              "#ed7953"
             ],
             [
              0.7777777777777778,
              "#fb9f3a"
             ],
             [
              0.8888888888888888,
              "#fdca26"
             ],
             [
              1,
              "#f0f921"
             ]
            ],
            "type": "heatmap"
           }
          ],
          "heatmapgl": [
           {
            "colorbar": {
             "outlinewidth": 0,
             "ticks": ""
            },
            "colorscale": [
             [
              0,
              "#0d0887"
             ],
             [
              0.1111111111111111,
              "#46039f"
             ],
             [
              0.2222222222222222,
              "#7201a8"
             ],
             [
              0.3333333333333333,
              "#9c179e"
             ],
             [
              0.4444444444444444,
              "#bd3786"
             ],
             [
              0.5555555555555556,
              "#d8576b"
             ],
             [
              0.6666666666666666,
              "#ed7953"
             ],
             [
              0.7777777777777778,
              "#fb9f3a"
             ],
             [
              0.8888888888888888,
              "#fdca26"
             ],
             [
              1,
              "#f0f921"
             ]
            ],
            "type": "heatmapgl"
           }
          ],
          "histogram": [
           {
            "marker": {
             "pattern": {
              "fillmode": "overlay",
              "size": 10,
              "solidity": 0.2
             }
            },
            "type": "histogram"
           }
          ],
          "histogram2d": [
           {
            "colorbar": {
             "outlinewidth": 0,
             "ticks": ""
            },
            "colorscale": [
             [
              0,
              "#0d0887"
             ],
             [
              0.1111111111111111,
              "#46039f"
             ],
             [
              0.2222222222222222,
              "#7201a8"
             ],
             [
              0.3333333333333333,
              "#9c179e"
             ],
             [
              0.4444444444444444,
              "#bd3786"
             ],
             [
              0.5555555555555556,
              "#d8576b"
             ],
             [
              0.6666666666666666,
              "#ed7953"
             ],
             [
              0.7777777777777778,
              "#fb9f3a"
             ],
             [
              0.8888888888888888,
              "#fdca26"
             ],
             [
              1,
              "#f0f921"
             ]
            ],
            "type": "histogram2d"
           }
          ],
          "histogram2dcontour": [
           {
            "colorbar": {
             "outlinewidth": 0,
             "ticks": ""
            },
            "colorscale": [
             [
              0,
              "#0d0887"
             ],
             [
              0.1111111111111111,
              "#46039f"
             ],
             [
              0.2222222222222222,
              "#7201a8"
             ],
             [
              0.3333333333333333,
              "#9c179e"
             ],
             [
              0.4444444444444444,
              "#bd3786"
             ],
             [
              0.5555555555555556,
              "#d8576b"
             ],
             [
              0.6666666666666666,
              "#ed7953"
             ],
             [
              0.7777777777777778,
              "#fb9f3a"
             ],
             [
              0.8888888888888888,
              "#fdca26"
             ],
             [
              1,
              "#f0f921"
             ]
            ],
            "type": "histogram2dcontour"
           }
          ],
          "mesh3d": [
           {
            "colorbar": {
             "outlinewidth": 0,
             "ticks": ""
            },
            "type": "mesh3d"
           }
          ],
          "parcoords": [
           {
            "line": {
             "colorbar": {
              "outlinewidth": 0,
              "ticks": ""
             }
            },
            "type": "parcoords"
           }
          ],
          "pie": [
           {
            "automargin": true,
            "type": "pie"
           }
          ],
          "scatter": [
           {
            "fillpattern": {
             "fillmode": "overlay",
             "size": 10,
             "solidity": 0.2
            },
            "type": "scatter"
           }
          ],
          "scatter3d": [
           {
            "line": {
             "colorbar": {
              "outlinewidth": 0,
              "ticks": ""
             }
            },
            "marker": {
             "colorbar": {
              "outlinewidth": 0,
              "ticks": ""
             }
            },
            "type": "scatter3d"
           }
          ],
          "scattercarpet": [
           {
            "marker": {
             "colorbar": {
              "outlinewidth": 0,
              "ticks": ""
             }
            },
            "type": "scattercarpet"
           }
          ],
          "scattergeo": [
           {
            "marker": {
             "colorbar": {
              "outlinewidth": 0,
              "ticks": ""
             }
            },
            "type": "scattergeo"
           }
          ],
          "scattergl": [
           {
            "marker": {
             "colorbar": {
              "outlinewidth": 0,
              "ticks": ""
             }
            },
            "type": "scattergl"
           }
          ],
          "scattermapbox": [
           {
            "marker": {
             "colorbar": {
              "outlinewidth": 0,
              "ticks": ""
             }
            },
            "type": "scattermapbox"
           }
          ],
          "scatterpolar": [
           {
            "marker": {
             "colorbar": {
              "outlinewidth": 0,
              "ticks": ""
             }
            },
            "type": "scatterpolar"
           }
          ],
          "scatterpolargl": [
           {
            "marker": {
             "colorbar": {
              "outlinewidth": 0,
              "ticks": ""
             }
            },
            "type": "scatterpolargl"
           }
          ],
          "scatterternary": [
           {
            "marker": {
             "colorbar": {
              "outlinewidth": 0,
              "ticks": ""
             }
            },
            "type": "scatterternary"
           }
          ],
          "surface": [
           {
            "colorbar": {
             "outlinewidth": 0,
             "ticks": ""
            },
            "colorscale": [
             [
              0,
              "#0d0887"
             ],
             [
              0.1111111111111111,
              "#46039f"
             ],
             [
              0.2222222222222222,
              "#7201a8"
             ],
             [
              0.3333333333333333,
              "#9c179e"
             ],
             [
              0.4444444444444444,
              "#bd3786"
             ],
             [
              0.5555555555555556,
              "#d8576b"
             ],
             [
              0.6666666666666666,
              "#ed7953"
             ],
             [
              0.7777777777777778,
              "#fb9f3a"
             ],
             [
              0.8888888888888888,
              "#fdca26"
             ],
             [
              1,
              "#f0f921"
             ]
            ],
            "type": "surface"
           }
          ],
          "table": [
           {
            "cells": {
             "fill": {
              "color": "#EBF0F8"
             },
             "line": {
              "color": "white"
             }
            },
            "header": {
             "fill": {
              "color": "#C8D4E3"
             },
             "line": {
              "color": "white"
             }
            },
            "type": "table"
           }
          ]
         },
         "layout": {
          "annotationdefaults": {
           "arrowcolor": "#2a3f5f",
           "arrowhead": 0,
           "arrowwidth": 1
          },
          "autotypenumbers": "strict",
          "coloraxis": {
           "colorbar": {
            "outlinewidth": 0,
            "ticks": ""
           }
          },
          "colorscale": {
           "diverging": [
            [
             0,
             "#8e0152"
            ],
            [
             0.1,
             "#c51b7d"
            ],
            [
             0.2,
             "#de77ae"
            ],
            [
             0.3,
             "#f1b6da"
            ],
            [
             0.4,
             "#fde0ef"
            ],
            [
             0.5,
             "#f7f7f7"
            ],
            [
             0.6,
             "#e6f5d0"
            ],
            [
             0.7,
             "#b8e186"
            ],
            [
             0.8,
             "#7fbc41"
            ],
            [
             0.9,
             "#4d9221"
            ],
            [
             1,
             "#276419"
            ]
           ],
           "sequential": [
            [
             0,
             "#0d0887"
            ],
            [
             0.1111111111111111,
             "#46039f"
            ],
            [
             0.2222222222222222,
             "#7201a8"
            ],
            [
             0.3333333333333333,
             "#9c179e"
            ],
            [
             0.4444444444444444,
             "#bd3786"
            ],
            [
             0.5555555555555556,
             "#d8576b"
            ],
            [
             0.6666666666666666,
             "#ed7953"
            ],
            [
             0.7777777777777778,
             "#fb9f3a"
            ],
            [
             0.8888888888888888,
             "#fdca26"
            ],
            [
             1,
             "#f0f921"
            ]
           ],
           "sequentialminus": [
            [
             0,
             "#0d0887"
            ],
            [
             0.1111111111111111,
             "#46039f"
            ],
            [
             0.2222222222222222,
             "#7201a8"
            ],
            [
             0.3333333333333333,
             "#9c179e"
            ],
            [
             0.4444444444444444,
             "#bd3786"
            ],
            [
             0.5555555555555556,
             "#d8576b"
            ],
            [
             0.6666666666666666,
             "#ed7953"
            ],
            [
             0.7777777777777778,
             "#fb9f3a"
            ],
            [
             0.8888888888888888,
             "#fdca26"
            ],
            [
             1,
             "#f0f921"
            ]
           ]
          },
          "colorway": [
           "#636efa",
           "#EF553B",
           "#00cc96",
           "#ab63fa",
           "#FFA15A",
           "#19d3f3",
           "#FF6692",
           "#B6E880",
           "#FF97FF",
           "#FECB52"
          ],
          "font": {
           "color": "#2a3f5f"
          },
          "geo": {
           "bgcolor": "white",
           "lakecolor": "white",
           "landcolor": "#E5ECF6",
           "showlakes": true,
           "showland": true,
           "subunitcolor": "white"
          },
          "hoverlabel": {
           "align": "left"
          },
          "hovermode": "closest",
          "mapbox": {
           "style": "light"
          },
          "paper_bgcolor": "white",
          "plot_bgcolor": "#E5ECF6",
          "polar": {
           "angularaxis": {
            "gridcolor": "white",
            "linecolor": "white",
            "ticks": ""
           },
           "bgcolor": "#E5ECF6",
           "radialaxis": {
            "gridcolor": "white",
            "linecolor": "white",
            "ticks": ""
           }
          },
          "scene": {
           "xaxis": {
            "backgroundcolor": "#E5ECF6",
            "gridcolor": "white",
            "gridwidth": 2,
            "linecolor": "white",
            "showbackground": true,
            "ticks": "",
            "zerolinecolor": "white"
           },
           "yaxis": {
            "backgroundcolor": "#E5ECF6",
            "gridcolor": "white",
            "gridwidth": 2,
            "linecolor": "white",
            "showbackground": true,
            "ticks": "",
            "zerolinecolor": "white"
           },
           "zaxis": {
            "backgroundcolor": "#E5ECF6",
            "gridcolor": "white",
            "gridwidth": 2,
            "linecolor": "white",
            "showbackground": true,
            "ticks": "",
            "zerolinecolor": "white"
           }
          },
          "shapedefaults": {
           "line": {
            "color": "#2a3f5f"
           }
          },
          "ternary": {
           "aaxis": {
            "gridcolor": "white",
            "linecolor": "white",
            "ticks": ""
           },
           "baxis": {
            "gridcolor": "white",
            "linecolor": "white",
            "ticks": ""
           },
           "bgcolor": "#E5ECF6",
           "caxis": {
            "gridcolor": "white",
            "linecolor": "white",
            "ticks": ""
           }
          },
          "title": {
           "x": 0.05
          },
          "xaxis": {
           "automargin": true,
           "gridcolor": "white",
           "linecolor": "white",
           "ticks": "",
           "title": {
            "standoff": 15
           },
           "zerolinecolor": "white",
           "zerolinewidth": 2
          },
          "yaxis": {
           "automargin": true,
           "gridcolor": "white",
           "linecolor": "white",
           "ticks": "",
           "title": {
            "standoff": 15
           },
           "zerolinecolor": "white",
           "zerolinewidth": 2
          }
         }
        },
        "title": {
         "text": "AUC Scores for Top 111 Features"
        },
        "xaxis": {
         "title": {
          "text": "Number of Variables"
         }
        },
        "yaxis": {
         "title": {
          "text": "AUC"
         }
        }
       }
      }
     },
     "metadata": {},
     "output_type": "display_data"
    },
    {
     "data": {
      "application/vnd.plotly.v1+json": {
       "config": {
        "plotlyServerURL": "https://plotly.com"
       },
       "data": [
        {
         "type": "bar",
         "x": [
          "cumulative_reply_count",
          "Number_of_Vehicles__c",
          "reply_count",
          "avg_time_between_interactions",
          "first_action_date_month",
          "action_count_lag_1",
          "cumulative_action_count",
          "email_interaction_length_days",
          "action_count_lag_2",
          "days_since_last_action",
          "cumulative_click_count",
          "click_count",
          "total_actions",
          "last_action_date_month",
          "action_count_lag_5",
          "SegmentA1",
          "action_count_lag_7",
          "Has_Website",
          "Industry_Construction",
          "Industry_TransportationWarehousing",
          "SegmentA2",
          "Industry_FieldServices",
          "billingstatecode_FL",
          "org_size_1_99",
          "billingstatecode_TX",
          "billingstatecode_CA",
          "Industry_Unknown",
          "SegmentE3",
          "org_size_100_499",
          "billingstatecode_PA",
          "billingstatecode_CO",
          "billingstatecode_MD",
          "billingstatecode_MN",
          "Industry_Manufacturing",
          "Industry_ConsumerProducts",
          "billingstatecode_NC",
          "D&B_Score_HIGH",
          "billingstatecode_NY",
          "billingstatecode_OH",
          "billingstatecode_WA",
          "billingstatecode_OR",
          "Industry_FoodBeverage",
          "Industry_PassengerTransit",
          "billingstatecode_OK",
          "US_Country",
          "billingstatecode_IL",
          "Segment_E",
          "billingstatecode_CT",
          "D&B_Score_LOW",
          "billingstatecode_AR",
          "billingstatecode_GA",
          "billingstatecode_AZ",
          "Industry_WholesaleTrade",
          "Industry_MQOG",
          "Industry_RetailTrade",
          "billingstatecode_LA",
          "billingstatecode_NJ",
          "CA_Country",
          "billingstatecode_TN",
          "org_size_1000_4999",
          "billingstatecode_MI",
          "billingstatecode_ID",
          "billingstatecode_AK",
          "billingstatecode_SC",
          "billingstatecode_AL",
          "D&B_Score_MEDIUM",
          "billingstatecode_ON",
          "billingstatecode_MS",
          "billingstatecode_MB",
          "billingstatecode_Arizona",
          "billingstatecode_KS",
          "billingstatecode_ME",
          "org_size_greaterthan_5000",
          "billingstatecode_IN",
          "billingstatecode_VI",
          "billingstatecode_UT",
          "billingstatecode_DC",
          "billingstatecode_MO",
          "org_size_500_999",
          "billingstatecode_KY",
          "billingstatecode_NH",
          "Industry_Utilities",
          "billingstatecode_NE",
          "billingstatecode_NS",
          "billingstatecode_AB",
          "billingstatecode_WI",
          "billingstatecode_VA",
          "Industry_HealthCareSocialAssistance",
          "billingstatecode_QC",
          "billingstatecode_IA",
          "billingstatecode_BC",
          "billingstatecode_NM",
          "billingstatecode_RI",
          "billingstatecode_MA",
          "billingstatecode_NV",
          "billingstatecode_VT",
          "billingstatecode_WV",
          "Industry_EducationalServices",
          "billingstatecode_MT",
          "billingstatecode_ND",
          "billingstatecode_SK",
          "billingstatecode_WY",
          "billingstatecode_SD",
          "Industry_Government",
          "billingstatecode_PE",
          "billingstatecode_HI",
          "rolling_std_7",
          "rolling_median_7",
          "action_count_rolling_avg_7",
          "billingstatecode_DE",
          "weekly_interaction_rate"
         ],
         "y": [
          0.000046749222294903516,
          -3.906495073052764e-14,
          0.00010299782434822043,
          -0.002229112353933859,
          -0.0000846319007377067,
          0.0000017197696822775578,
          0.00004025707709186327,
          0.0009273380680571713,
          0.000004409398511233574,
          -0.0012005058191706824,
          -0.0000064921452030402635,
          -0.000011803773056302556,
          0.00009119405129191786,
          -0.00007451041987388475,
          0.000004041942511316844,
          0.000003958255499287982,
          0.000003032082179138494,
          -0.000011560672380932764,
          -0.0000023496062295915665,
          -0.0000012719631425964658,
          -0.0000020818156762237703,
          -0.0000017226494679950903,
          3.46034537805366e-7,
          -0.000006502131353889699,
          -0.0000013049159285015805,
          -9.504381114005186e-7,
          2.4234341730188333e-7,
          5.670797217569015e-7,
          -0.000003315736435981074,
          -3.8050668610302986e-7,
          3.37040922075801e-7,
          2.623597183046136e-7,
          -4.3279164682917187e-7,
          -6.845589657164176e-7,
          -4.925633844967877e-7,
          1.5247559568638175e-7,
          -0.000011083603338340743,
          -0.0000010529626078518713,
          -0.000001021361666333819,
          5.3519039544540806e-8,
          -6.298749139423872e-9,
          -0.00000123162441572384,
          3.94428683030928e-7,
          -9.568683370265537e-8,
          -0.000010351848933991971,
          -1.1920585556176077e-8,
          -2.81894427156256e-7,
          2.234010183054748e-7,
          2.746136432787768e-7,
          2.028765910934812e-8,
          -7.981378083207487e-7,
          -6.076411890562577e-7,
          -7.164934426309044e-7,
          -2.790688711414261e-7,
          -0.0000013649209844818797,
          1.4472809167336394e-7,
          9.664124803330088e-9,
          -3.2804817419936437e-7,
          -3.661247214198721e-7,
          -7.861928807153322e-7,
          -0.0000013242115255382102,
          3.5528649397524476e-7,
          -2.0891497094713243e-7,
          -2.834057086099611e-7,
          -2.902336922871949e-7,
          1.290925868706287e-7,
          7.099824731269877e-7,
          -1.262873523256687e-7,
          -4.732412733533206e-7,
          1.3831593881929343e-7,
          -3.910152241157245e-7,
          1.2625906051174409e-7,
          -2.7902352309104846e-7,
          -5.183411087975185e-7,
          1.3386240953043221e-7,
          -3.4195095304400053e-8,
          -1.341727167571639e-7,
          -3.668493080869109e-7,
          2.0318708548581196e-7,
          -4.940311443190766e-7,
          2.5144668129675584e-7,
          -4.7469760100603645e-7,
          -2.4144505845125543e-7,
          -4.715855574017451e-8,
          8.100402170303367e-8,
          -0.0000010521112802923008,
          -2.7563629719519267e-7,
          -6.179495769028635e-7,
          2.8446367358857237e-8,
          3.317880120953316e-7,
          -5.037762136373488e-7,
          -2.524439423739774e-7,
          -2.4112991696786497e-8,
          -3.773177381842909e-8,
          2.4025801789959713e-7,
          -2.360094211034215e-7,
          -4.983242334712514e-8,
          -2.3603132862336202e-7,
          -1.1802848652320436e-7,
          -7.071925762239849e-8,
          -5.253780704779722e-9,
          1.9905482791768197e-7,
          -1.1805057446224392e-7,
          1.254582023824905e-7,
          -1.1805121295261913e-7,
          -1.065195155852925e-9,
          0,
          -0.000010679897108191336,
          -0.000010679897108191336,
          0,
          -0.000010679897108191336
         ]
        }
       ],
       "layout": {
        "template": {
         "data": {
          "bar": [
           {
            "error_x": {
             "color": "#2a3f5f"
            },
            "error_y": {
             "color": "#2a3f5f"
            },
            "marker": {
             "line": {
              "color": "#E5ECF6",
              "width": 0.5
             },
             "pattern": {
              "fillmode": "overlay",
              "size": 10,
              "solidity": 0.2
             }
            },
            "type": "bar"
           }
          ],
          "barpolar": [
           {
            "marker": {
             "line": {
              "color": "#E5ECF6",
              "width": 0.5
             },
             "pattern": {
              "fillmode": "overlay",
              "size": 10,
              "solidity": 0.2
             }
            },
            "type": "barpolar"
           }
          ],
          "carpet": [
           {
            "aaxis": {
             "endlinecolor": "#2a3f5f",
             "gridcolor": "white",
             "linecolor": "white",
             "minorgridcolor": "white",
             "startlinecolor": "#2a3f5f"
            },
            "baxis": {
             "endlinecolor": "#2a3f5f",
             "gridcolor": "white",
             "linecolor": "white",
             "minorgridcolor": "white",
             "startlinecolor": "#2a3f5f"
            },
            "type": "carpet"
           }
          ],
          "choropleth": [
           {
            "colorbar": {
             "outlinewidth": 0,
             "ticks": ""
            },
            "type": "choropleth"
           }
          ],
          "contour": [
           {
            "colorbar": {
             "outlinewidth": 0,
             "ticks": ""
            },
            "colorscale": [
             [
              0,
              "#0d0887"
             ],
             [
              0.1111111111111111,
              "#46039f"
             ],
             [
              0.2222222222222222,
              "#7201a8"
             ],
             [
              0.3333333333333333,
              "#9c179e"
             ],
             [
              0.4444444444444444,
              "#bd3786"
             ],
             [
              0.5555555555555556,
              "#d8576b"
             ],
             [
              0.6666666666666666,
              "#ed7953"
             ],
             [
              0.7777777777777778,
              "#fb9f3a"
             ],
             [
              0.8888888888888888,
              "#fdca26"
             ],
             [
              1,
              "#f0f921"
             ]
            ],
            "type": "contour"
           }
          ],
          "contourcarpet": [
           {
            "colorbar": {
             "outlinewidth": 0,
             "ticks": ""
            },
            "type": "contourcarpet"
           }
          ],
          "heatmap": [
           {
            "colorbar": {
             "outlinewidth": 0,
             "ticks": ""
            },
            "colorscale": [
             [
              0,
              "#0d0887"
             ],
             [
              0.1111111111111111,
              "#46039f"
             ],
             [
              0.2222222222222222,
              "#7201a8"
             ],
             [
              0.3333333333333333,
              "#9c179e"
             ],
             [
              0.4444444444444444,
              "#bd3786"
             ],
             [
              0.5555555555555556,
              "#d8576b"
             ],
             [
              0.6666666666666666,
              "#ed7953"
             ],
             [
              0.7777777777777778,
              "#fb9f3a"
             ],
             [
              0.8888888888888888,
              "#fdca26"
             ],
             [
              1,
              "#f0f921"
             ]
            ],
            "type": "heatmap"
           }
          ],
          "heatmapgl": [
           {
            "colorbar": {
             "outlinewidth": 0,
             "ticks": ""
            },
            "colorscale": [
             [
              0,
              "#0d0887"
             ],
             [
              0.1111111111111111,
              "#46039f"
             ],
             [
              0.2222222222222222,
              "#7201a8"
             ],
             [
              0.3333333333333333,
              "#9c179e"
             ],
             [
              0.4444444444444444,
              "#bd3786"
             ],
             [
              0.5555555555555556,
              "#d8576b"
             ],
             [
              0.6666666666666666,
              "#ed7953"
             ],
             [
              0.7777777777777778,
              "#fb9f3a"
             ],
             [
              0.8888888888888888,
              "#fdca26"
             ],
             [
              1,
              "#f0f921"
             ]
            ],
            "type": "heatmapgl"
           }
          ],
          "histogram": [
           {
            "marker": {
             "pattern": {
              "fillmode": "overlay",
              "size": 10,
              "solidity": 0.2
             }
            },
            "type": "histogram"
           }
          ],
          "histogram2d": [
           {
            "colorbar": {
             "outlinewidth": 0,
             "ticks": ""
            },
            "colorscale": [
             [
              0,
              "#0d0887"
             ],
             [
              0.1111111111111111,
              "#46039f"
             ],
             [
              0.2222222222222222,
              "#7201a8"
             ],
             [
              0.3333333333333333,
              "#9c179e"
             ],
             [
              0.4444444444444444,
              "#bd3786"
             ],
             [
              0.5555555555555556,
              "#d8576b"
             ],
             [
              0.6666666666666666,
              "#ed7953"
             ],
             [
              0.7777777777777778,
              "#fb9f3a"
             ],
             [
              0.8888888888888888,
              "#fdca26"
             ],
             [
              1,
              "#f0f921"
             ]
            ],
            "type": "histogram2d"
           }
          ],
          "histogram2dcontour": [
           {
            "colorbar": {
             "outlinewidth": 0,
             "ticks": ""
            },
            "colorscale": [
             [
              0,
              "#0d0887"
             ],
             [
              0.1111111111111111,
              "#46039f"
             ],
             [
              0.2222222222222222,
              "#7201a8"
             ],
             [
              0.3333333333333333,
              "#9c179e"
             ],
             [
              0.4444444444444444,
              "#bd3786"
             ],
             [
              0.5555555555555556,
              "#d8576b"
             ],
             [
              0.6666666666666666,
              "#ed7953"
             ],
             [
              0.7777777777777778,
              "#fb9f3a"
             ],
             [
              0.8888888888888888,
              "#fdca26"
             ],
             [
              1,
              "#f0f921"
             ]
            ],
            "type": "histogram2dcontour"
           }
          ],
          "mesh3d": [
           {
            "colorbar": {
             "outlinewidth": 0,
             "ticks": ""
            },
            "type": "mesh3d"
           }
          ],
          "parcoords": [
           {
            "line": {
             "colorbar": {
              "outlinewidth": 0,
              "ticks": ""
             }
            },
            "type": "parcoords"
           }
          ],
          "pie": [
           {
            "automargin": true,
            "type": "pie"
           }
          ],
          "scatter": [
           {
            "fillpattern": {
             "fillmode": "overlay",
             "size": 10,
             "solidity": 0.2
            },
            "type": "scatter"
           }
          ],
          "scatter3d": [
           {
            "line": {
             "colorbar": {
              "outlinewidth": 0,
              "ticks": ""
             }
            },
            "marker": {
             "colorbar": {
              "outlinewidth": 0,
              "ticks": ""
             }
            },
            "type": "scatter3d"
           }
          ],
          "scattercarpet": [
           {
            "marker": {
             "colorbar": {
              "outlinewidth": 0,
              "ticks": ""
             }
            },
            "type": "scattercarpet"
           }
          ],
          "scattergeo": [
           {
            "marker": {
             "colorbar": {
              "outlinewidth": 0,
              "ticks": ""
             }
            },
            "type": "scattergeo"
           }
          ],
          "scattergl": [
           {
            "marker": {
             "colorbar": {
              "outlinewidth": 0,
              "ticks": ""
             }
            },
            "type": "scattergl"
           }
          ],
          "scattermapbox": [
           {
            "marker": {
             "colorbar": {
              "outlinewidth": 0,
              "ticks": ""
             }
            },
            "type": "scattermapbox"
           }
          ],
          "scatterpolar": [
           {
            "marker": {
             "colorbar": {
              "outlinewidth": 0,
              "ticks": ""
             }
            },
            "type": "scatterpolar"
           }
          ],
          "scatterpolargl": [
           {
            "marker": {
             "colorbar": {
              "outlinewidth": 0,
              "ticks": ""
             }
            },
            "type": "scatterpolargl"
           }
          ],
          "scatterternary": [
           {
            "marker": {
             "colorbar": {
              "outlinewidth": 0,
              "ticks": ""
             }
            },
            "type": "scatterternary"
           }
          ],
          "surface": [
           {
            "colorbar": {
             "outlinewidth": 0,
             "ticks": ""
            },
            "colorscale": [
             [
              0,
              "#0d0887"
             ],
             [
              0.1111111111111111,
              "#46039f"
             ],
             [
              0.2222222222222222,
              "#7201a8"
             ],
             [
              0.3333333333333333,
              "#9c179e"
             ],
             [
              0.4444444444444444,
              "#bd3786"
             ],
             [
              0.5555555555555556,
              "#d8576b"
             ],
             [
              0.6666666666666666,
              "#ed7953"
             ],
             [
              0.7777777777777778,
              "#fb9f3a"
             ],
             [
              0.8888888888888888,
              "#fdca26"
             ],
             [
              1,
              "#f0f921"
             ]
            ],
            "type": "surface"
           }
          ],
          "table": [
           {
            "cells": {
             "fill": {
              "color": "#EBF0F8"
             },
             "line": {
              "color": "white"
             }
            },
            "header": {
             "fill": {
              "color": "#C8D4E3"
             },
             "line": {
              "color": "white"
             }
            },
            "type": "table"
           }
          ]
         },
         "layout": {
          "annotationdefaults": {
           "arrowcolor": "#2a3f5f",
           "arrowhead": 0,
           "arrowwidth": 1
          },
          "autotypenumbers": "strict",
          "coloraxis": {
           "colorbar": {
            "outlinewidth": 0,
            "ticks": ""
           }
          },
          "colorscale": {
           "diverging": [
            [
             0,
             "#8e0152"
            ],
            [
             0.1,
             "#c51b7d"
            ],
            [
             0.2,
             "#de77ae"
            ],
            [
             0.3,
             "#f1b6da"
            ],
            [
             0.4,
             "#fde0ef"
            ],
            [
             0.5,
             "#f7f7f7"
            ],
            [
             0.6,
             "#e6f5d0"
            ],
            [
             0.7,
             "#b8e186"
            ],
            [
             0.8,
             "#7fbc41"
            ],
            [
             0.9,
             "#4d9221"
            ],
            [
             1,
             "#276419"
            ]
           ],
           "sequential": [
            [
             0,
             "#0d0887"
            ],
            [
             0.1111111111111111,
             "#46039f"
            ],
            [
             0.2222222222222222,
             "#7201a8"
            ],
            [
             0.3333333333333333,
             "#9c179e"
            ],
            [
             0.4444444444444444,
             "#bd3786"
            ],
            [
             0.5555555555555556,
             "#d8576b"
            ],
            [
             0.6666666666666666,
             "#ed7953"
            ],
            [
             0.7777777777777778,
             "#fb9f3a"
            ],
            [
             0.8888888888888888,
             "#fdca26"
            ],
            [
             1,
             "#f0f921"
            ]
           ],
           "sequentialminus": [
            [
             0,
             "#0d0887"
            ],
            [
             0.1111111111111111,
             "#46039f"
            ],
            [
             0.2222222222222222,
             "#7201a8"
            ],
            [
             0.3333333333333333,
             "#9c179e"
            ],
            [
             0.4444444444444444,
             "#bd3786"
            ],
            [
             0.5555555555555556,
             "#d8576b"
            ],
            [
             0.6666666666666666,
             "#ed7953"
            ],
            [
             0.7777777777777778,
             "#fb9f3a"
            ],
            [
             0.8888888888888888,
             "#fdca26"
            ],
            [
             1,
             "#f0f921"
            ]
           ]
          },
          "colorway": [
           "#636efa",
           "#EF553B",
           "#00cc96",
           "#ab63fa",
           "#FFA15A",
           "#19d3f3",
           "#FF6692",
           "#B6E880",
           "#FF97FF",
           "#FECB52"
          ],
          "font": {
           "color": "#2a3f5f"
          },
          "geo": {
           "bgcolor": "white",
           "lakecolor": "white",
           "landcolor": "#E5ECF6",
           "showlakes": true,
           "showland": true,
           "subunitcolor": "white"
          },
          "hoverlabel": {
           "align": "left"
          },
          "hovermode": "closest",
          "mapbox": {
           "style": "light"
          },
          "paper_bgcolor": "white",
          "plot_bgcolor": "#E5ECF6",
          "polar": {
           "angularaxis": {
            "gridcolor": "white",
            "linecolor": "white",
            "ticks": ""
           },
           "bgcolor": "#E5ECF6",
           "radialaxis": {
            "gridcolor": "white",
            "linecolor": "white",
            "ticks": ""
           }
          },
          "scene": {
           "xaxis": {
            "backgroundcolor": "#E5ECF6",
            "gridcolor": "white",
            "gridwidth": 2,
            "linecolor": "white",
            "showbackground": true,
            "ticks": "",
            "zerolinecolor": "white"
           },
           "yaxis": {
            "backgroundcolor": "#E5ECF6",
            "gridcolor": "white",
            "gridwidth": 2,
            "linecolor": "white",
            "showbackground": true,
            "ticks": "",
            "zerolinecolor": "white"
           },
           "zaxis": {
            "backgroundcolor": "#E5ECF6",
            "gridcolor": "white",
            "gridwidth": 2,
            "linecolor": "white",
            "showbackground": true,
            "ticks": "",
            "zerolinecolor": "white"
           }
          },
          "shapedefaults": {
           "line": {
            "color": "#2a3f5f"
           }
          },
          "ternary": {
           "aaxis": {
            "gridcolor": "white",
            "linecolor": "white",
            "ticks": ""
           },
           "baxis": {
            "gridcolor": "white",
            "linecolor": "white",
            "ticks": ""
           },
           "bgcolor": "#E5ECF6",
           "caxis": {
            "gridcolor": "white",
            "linecolor": "white",
            "ticks": ""
           }
          },
          "title": {
           "x": 0.05
          },
          "xaxis": {
           "automargin": true,
           "gridcolor": "white",
           "linecolor": "white",
           "ticks": "",
           "title": {
            "standoff": 15
           },
           "zerolinecolor": "white",
           "zerolinewidth": 2
          },
          "yaxis": {
           "automargin": true,
           "gridcolor": "white",
           "linecolor": "white",
           "ticks": "",
           "title": {
            "standoff": 15
           },
           "zerolinecolor": "white",
           "zerolinewidth": 2
          }
         }
        },
        "title": {
         "text": "LR Coefficients for Top 111 Features"
        },
        "xaxis": {
         "tickangle": 45,
         "title": {
          "text": "Feature"
         }
        },
        "yaxis": {
         "title": {
          "text": "Coefficient (Log Odds)"
         }
        }
       }
      }
     },
     "metadata": {},
     "output_type": "display_data"
    }
   ],
   "source": [
    "# Example usage\n",
    "plot_results(X_train, y_train, 5)\n",
    "plot_results(X_train, y_train, len(X_train.columns))"
   ]
  },
  {
   "cell_type": "markdown",
   "metadata": {},
   "source": [
    "**Same plots but in seaborn**"
   ]
  },
  {
   "cell_type": "code",
   "execution_count": 14,
   "metadata": {},
   "outputs": [
    {
     "name": "stderr",
     "output_type": "stream",
     "text": [
      "c:\\Python311\\Lib\\site-packages\\scipy\\optimize\\_linesearch.py:313: LineSearchWarning:\n",
      "\n",
      "The line search algorithm did not converge\n",
      "\n",
      "c:\\Python311\\Lib\\site-packages\\sklearn\\utils\\optimize.py:74: LineSearchWarning:\n",
      "\n",
      "The line search algorithm did not converge\n",
      "\n",
      "c:\\Python311\\Lib\\site-packages\\scipy\\optimize\\_linesearch.py:313: LineSearchWarning:\n",
      "\n",
      "Rounding errors prevent the line search from converging\n",
      "\n",
      "c:\\Python311\\Lib\\site-packages\\sklearn\\utils\\optimize.py:239: UserWarning:\n",
      "\n",
      "Line Search failed\n",
      "\n",
      "c:\\Python311\\Lib\\site-packages\\scipy\\optimize\\_linesearch.py:313: LineSearchWarning:\n",
      "\n",
      "The line search algorithm did not converge\n",
      "\n",
      "c:\\Python311\\Lib\\site-packages\\sklearn\\utils\\optimize.py:74: LineSearchWarning:\n",
      "\n",
      "The line search algorithm did not converge\n",
      "\n",
      "c:\\Python311\\Lib\\site-packages\\scipy\\optimize\\_linesearch.py:313: LineSearchWarning:\n",
      "\n",
      "Rounding errors prevent the line search from converging\n",
      "\n",
      "c:\\Python311\\Lib\\site-packages\\sklearn\\utils\\optimize.py:239: UserWarning:\n",
      "\n",
      "Line Search failed\n",
      "\n",
      "c:\\Python311\\Lib\\site-packages\\scipy\\optimize\\_linesearch.py:313: LineSearchWarning:\n",
      "\n",
      "The line search algorithm did not converge\n",
      "\n",
      "c:\\Python311\\Lib\\site-packages\\sklearn\\utils\\optimize.py:74: LineSearchWarning:\n",
      "\n",
      "The line search algorithm did not converge\n",
      "\n",
      "c:\\Python311\\Lib\\site-packages\\scipy\\optimize\\_linesearch.py:313: LineSearchWarning:\n",
      "\n",
      "Rounding errors prevent the line search from converging\n",
      "\n",
      "c:\\Python311\\Lib\\site-packages\\sklearn\\utils\\optimize.py:239: UserWarning:\n",
      "\n",
      "Line Search failed\n",
      "\n",
      "c:\\Python311\\Lib\\site-packages\\scipy\\optimize\\_linesearch.py:313: LineSearchWarning:\n",
      "\n",
      "The line search algorithm did not converge\n",
      "\n",
      "c:\\Python311\\Lib\\site-packages\\sklearn\\utils\\optimize.py:74: LineSearchWarning:\n",
      "\n",
      "The line search algorithm did not converge\n",
      "\n",
      "c:\\Python311\\Lib\\site-packages\\scipy\\optimize\\_linesearch.py:313: LineSearchWarning:\n",
      "\n",
      "Rounding errors prevent the line search from converging\n",
      "\n",
      "c:\\Python311\\Lib\\site-packages\\sklearn\\utils\\optimize.py:239: UserWarning:\n",
      "\n",
      "Line Search failed\n",
      "\n"
     ]
    },
    {
     "data": {
      "image/png": "[encoded data removed]",
      "text/plain": [
       "<Figure size 1000x600 with 1 Axes>"
      ]
     },
     "metadata": {},
     "output_type": "display_data"
    },
    {
     "data": {
      "image/png": "[encoded data removed]",
      "text/plain": [
       "<Figure size 1200x600 with 1 Axes>"
      ]
     },
     "metadata": {},
     "output_type": "display_data"
    },
    {
     "name": "stderr",
     "output_type": "stream",
     "text": [
      "c:\\Python311\\Lib\\site-packages\\scipy\\optimize\\_linesearch.py:313: LineSearchWarning:\n",
      "\n",
      "The line search algorithm did not converge\n",
      "\n",
      "c:\\Python311\\Lib\\site-packages\\sklearn\\utils\\optimize.py:74: LineSearchWarning:\n",
      "\n",
      "The line search algorithm did not converge\n",
      "\n",
      "c:\\Python311\\Lib\\site-packages\\scipy\\optimize\\_linesearch.py:313: LineSearchWarning:\n",
      "\n",
      "Rounding errors prevent the line search from converging\n",
      "\n",
      "c:\\Python311\\Lib\\site-packages\\sklearn\\utils\\optimize.py:239: UserWarning:\n",
      "\n",
      "Line Search failed\n",
      "\n",
      "c:\\Python311\\Lib\\site-packages\\scipy\\optimize\\_linesearch.py:313: LineSearchWarning:\n",
      "\n",
      "The line search algorithm did not converge\n",
      "\n",
      "c:\\Python311\\Lib\\site-packages\\sklearn\\utils\\optimize.py:74: LineSearchWarning:\n",
      "\n",
      "The line search algorithm did not converge\n",
      "\n",
      "c:\\Python311\\Lib\\site-packages\\scipy\\optimize\\_linesearch.py:313: LineSearchWarning:\n",
      "\n",
      "Rounding errors prevent the line search from converging\n",
      "\n",
      "c:\\Python311\\Lib\\site-packages\\sklearn\\utils\\optimize.py:239: UserWarning:\n",
      "\n",
      "Line Search failed\n",
      "\n",
      "c:\\Python311\\Lib\\site-packages\\scipy\\optimize\\_linesearch.py:313: LineSearchWarning:\n",
      "\n",
      "The line search algorithm did not converge\n",
      "\n",
      "c:\\Python311\\Lib\\site-packages\\sklearn\\utils\\optimize.py:74: LineSearchWarning:\n",
      "\n",
      "The line search algorithm did not converge\n",
      "\n",
      "c:\\Python311\\Lib\\site-packages\\scipy\\optimize\\_linesearch.py:313: LineSearchWarning:\n",
      "\n",
      "Rounding errors prevent the line search from converging\n",
      "\n",
      "c:\\Python311\\Lib\\site-packages\\sklearn\\utils\\optimize.py:239: UserWarning:\n",
      "\n",
      "Line Search failed\n",
      "\n",
      "c:\\Python311\\Lib\\site-packages\\scipy\\optimize\\_linesearch.py:313: LineSearchWarning:\n",
      "\n",
      "The line search algorithm did not converge\n",
      "\n",
      "c:\\Python311\\Lib\\site-packages\\sklearn\\utils\\optimize.py:74: LineSearchWarning:\n",
      "\n",
      "The line search algorithm did not converge\n",
      "\n",
      "c:\\Python311\\Lib\\site-packages\\scipy\\optimize\\_linesearch.py:313: LineSearchWarning:\n",
      "\n",
      "Rounding errors prevent the line search from converging\n",
      "\n",
      "c:\\Python311\\Lib\\site-packages\\sklearn\\utils\\optimize.py:239: UserWarning:\n",
      "\n",
      "Line Search failed\n",
      "\n",
      "c:\\Python311\\Lib\\site-packages\\scipy\\optimize\\_linesearch.py:313: LineSearchWarning:\n",
      "\n",
      "The line search algorithm did not converge\n",
      "\n",
      "c:\\Python311\\Lib\\site-packages\\sklearn\\utils\\optimize.py:74: LineSearchWarning:\n",
      "\n",
      "The line search algorithm did not converge\n",
      "\n",
      "c:\\Python311\\Lib\\site-packages\\scipy\\optimize\\_linesearch.py:313: LineSearchWarning:\n",
      "\n",
      "Rounding errors prevent the line search from converging\n",
      "\n",
      "c:\\Python311\\Lib\\site-packages\\sklearn\\utils\\optimize.py:239: UserWarning:\n",
      "\n",
      "Line Search failed\n",
      "\n",
      "c:\\Python311\\Lib\\site-packages\\scipy\\optimize\\_linesearch.py:313: LineSearchWarning:\n",
      "\n",
      "The line search algorithm did not converge\n",
      "\n",
      "c:\\Python311\\Lib\\site-packages\\sklearn\\utils\\optimize.py:74: LineSearchWarning:\n",
      "\n",
      "The line search algorithm did not converge\n",
      "\n",
      "c:\\Python311\\Lib\\site-packages\\scipy\\optimize\\_linesearch.py:313: LineSearchWarning:\n",
      "\n",
      "Rounding errors prevent the line search from converging\n",
      "\n",
      "c:\\Python311\\Lib\\site-packages\\sklearn\\utils\\optimize.py:239: UserWarning:\n",
      "\n",
      "Line Search failed\n",
      "\n",
      "c:\\Python311\\Lib\\site-packages\\scipy\\optimize\\_linesearch.py:313: LineSearchWarning:\n",
      "\n",
      "The line search algorithm did not converge\n",
      "\n",
      "c:\\Python311\\Lib\\site-packages\\sklearn\\utils\\optimize.py:74: LineSearchWarning:\n",
      "\n",
      "The line search algorithm did not converge\n",
      "\n",
      "c:\\Python311\\Lib\\site-packages\\scipy\\optimize\\_linesearch.py:313: LineSearchWarning:\n",
      "\n",
      "Rounding errors prevent the line search from converging\n",
      "\n",
      "c:\\Python311\\Lib\\site-packages\\sklearn\\utils\\optimize.py:239: UserWarning:\n",
      "\n",
      "Line Search failed\n",
      "\n",
      "c:\\Python311\\Lib\\site-packages\\scipy\\optimize\\_linesearch.py:313: LineSearchWarning:\n",
      "\n",
      "The line search algorithm did not converge\n",
      "\n",
      "c:\\Python311\\Lib\\site-packages\\sklearn\\utils\\optimize.py:74: LineSearchWarning:\n",
      "\n",
      "The line search algorithm did not converge\n",
      "\n",
      "c:\\Python311\\Lib\\site-packages\\sklearn\\utils\\optimize.py:239: UserWarning:\n",
      "\n",
      "Line Search failed\n",
      "\n",
      "c:\\Python311\\Lib\\site-packages\\scipy\\optimize\\_linesearch.py:313: LineSearchWarning:\n",
      "\n",
      "The line search algorithm did not converge\n",
      "\n",
      "c:\\Python311\\Lib\\site-packages\\sklearn\\utils\\optimize.py:74: LineSearchWarning:\n",
      "\n",
      "The line search algorithm did not converge\n",
      "\n",
      "c:\\Python311\\Lib\\site-packages\\scipy\\optimize\\_linesearch.py:313: LineSearchWarning:\n",
      "\n",
      "Rounding errors prevent the line search from converging\n",
      "\n",
      "c:\\Python311\\Lib\\site-packages\\sklearn\\utils\\optimize.py:239: UserWarning:\n",
      "\n",
      "Line Search failed\n",
      "\n",
      "c:\\Python311\\Lib\\site-packages\\scipy\\optimize\\_linesearch.py:313: LineSearchWarning:\n",
      "\n",
      "The line search algorithm did not converge\n",
      "\n",
      "c:\\Python311\\Lib\\site-packages\\sklearn\\utils\\optimize.py:74: LineSearchWarning:\n",
      "\n",
      "The line search algorithm did not converge\n",
      "\n",
      "c:\\Python311\\Lib\\site-packages\\scipy\\optimize\\_linesearch.py:313: LineSearchWarning:\n",
      "\n",
      "Rounding errors prevent the line search from converging\n",
      "\n",
      "c:\\Python311\\Lib\\site-packages\\sklearn\\utils\\optimize.py:239: UserWarning:\n",
      "\n",
      "Line Search failed\n",
      "\n",
      "c:\\Python311\\Lib\\site-packages\\scipy\\optimize\\_linesearch.py:313: LineSearchWarning:\n",
      "\n",
      "The line search algorithm did not converge\n",
      "\n",
      "c:\\Python311\\Lib\\site-packages\\sklearn\\utils\\optimize.py:74: LineSearchWarning:\n",
      "\n",
      "The line search algorithm did not converge\n",
      "\n",
      "c:\\Python311\\Lib\\site-packages\\scipy\\optimize\\_linesearch.py:313: LineSearchWarning:\n",
      "\n",
      "Rounding errors prevent the line search from converging\n",
      "\n",
      "c:\\Python311\\Lib\\site-packages\\sklearn\\utils\\optimize.py:239: UserWarning:\n",
      "\n",
      "Line Search failed\n",
      "\n",
      "c:\\Python311\\Lib\\site-packages\\scipy\\optimize\\_linesearch.py:313: LineSearchWarning:\n",
      "\n",
      "The line search algorithm did not converge\n",
      "\n",
      "c:\\Python311\\Lib\\site-packages\\sklearn\\utils\\optimize.py:74: LineSearchWarning:\n",
      "\n",
      "The line search algorithm did not converge\n",
      "\n",
      "c:\\Python311\\Lib\\site-packages\\scipy\\optimize\\_linesearch.py:313: LineSearchWarning:\n",
      "\n",
      "Rounding errors prevent the line search from converging\n",
      "\n",
      "c:\\Python311\\Lib\\site-packages\\sklearn\\utils\\optimize.py:239: UserWarning:\n",
      "\n",
      "Line Search failed\n",
      "\n",
      "c:\\Python311\\Lib\\site-packages\\scipy\\optimize\\_linesearch.py:313: LineSearchWarning:\n",
      "\n",
      "The line search algorithm did not converge\n",
      "\n",
      "c:\\Python311\\Lib\\site-packages\\sklearn\\utils\\optimize.py:74: LineSearchWarning:\n",
      "\n",
      "The line search algorithm did not converge\n",
      "\n",
      "c:\\Python311\\Lib\\site-packages\\scipy\\optimize\\_linesearch.py:313: LineSearchWarning:\n",
      "\n",
      "Rounding errors prevent the line search from converging\n",
      "\n",
      "c:\\Python311\\Lib\\site-packages\\sklearn\\utils\\optimize.py:239: UserWarning:\n",
      "\n",
      "Line Search failed\n",
      "\n",
      "c:\\Python311\\Lib\\site-packages\\scipy\\optimize\\_linesearch.py:313: LineSearchWarning:\n",
      "\n",
      "The line search algorithm did not converge\n",
      "\n",
      "c:\\Python311\\Lib\\site-packages\\sklearn\\utils\\optimize.py:74: LineSearchWarning:\n",
      "\n",
      "The line search algorithm did not converge\n",
      "\n",
      "c:\\Python311\\Lib\\site-packages\\scipy\\optimize\\_linesearch.py:313: LineSearchWarning:\n",
      "\n",
      "Rounding errors prevent the line search from converging\n",
      "\n",
      "c:\\Python311\\Lib\\site-packages\\sklearn\\utils\\optimize.py:239: UserWarning:\n",
      "\n",
      "Line Search failed\n",
      "\n",
      "c:\\Python311\\Lib\\site-packages\\scipy\\optimize\\_linesearch.py:313: LineSearchWarning:\n",
      "\n",
      "The line search algorithm did not converge\n",
      "\n",
      "c:\\Python311\\Lib\\site-packages\\sklearn\\utils\\optimize.py:74: LineSearchWarning:\n",
      "\n",
      "The line search algorithm did not converge\n",
      "\n",
      "c:\\Python311\\Lib\\site-packages\\scipy\\optimize\\_linesearch.py:313: LineSearchWarning:\n",
      "\n",
      "Rounding errors prevent the line search from converging\n",
      "\n",
      "c:\\Python311\\Lib\\site-packages\\sklearn\\utils\\optimize.py:239: UserWarning:\n",
      "\n",
      "Line Search failed\n",
      "\n",
      "c:\\Python311\\Lib\\site-packages\\scipy\\optimize\\_linesearch.py:313: LineSearchWarning:\n",
      "\n",
      "The line search algorithm did not converge\n",
      "\n",
      "c:\\Python311\\Lib\\site-packages\\sklearn\\utils\\optimize.py:74: LineSearchWarning:\n",
      "\n",
      "The line search algorithm did not converge\n",
      "\n",
      "c:\\Python311\\Lib\\site-packages\\scipy\\optimize\\_linesearch.py:313: LineSearchWarning:\n",
      "\n",
      "Rounding errors prevent the line search from converging\n",
      "\n",
      "c:\\Python311\\Lib\\site-packages\\sklearn\\utils\\optimize.py:239: UserWarning:\n",
      "\n",
      "Line Search failed\n",
      "\n",
      "c:\\Python311\\Lib\\site-packages\\scipy\\optimize\\_linesearch.py:313: LineSearchWarning:\n",
      "\n",
      "The line search algorithm did not converge\n",
      "\n",
      "c:\\Python311\\Lib\\site-packages\\sklearn\\utils\\optimize.py:74: LineSearchWarning:\n",
      "\n",
      "The line search algorithm did not converge\n",
      "\n",
      "c:\\Python311\\Lib\\site-packages\\scipy\\optimize\\_linesearch.py:313: LineSearchWarning:\n",
      "\n",
      "Rounding errors prevent the line search from converging\n",
      "\n",
      "c:\\Python311\\Lib\\site-packages\\sklearn\\utils\\optimize.py:239: UserWarning:\n",
      "\n",
      "Line Search failed\n",
      "\n",
      "c:\\Python311\\Lib\\site-packages\\scipy\\optimize\\_linesearch.py:313: LineSearchWarning:\n",
      "\n",
      "The line search algorithm did not converge\n",
      "\n",
      "c:\\Python311\\Lib\\site-packages\\sklearn\\utils\\optimize.py:74: LineSearchWarning:\n",
      "\n",
      "The line search algorithm did not converge\n",
      "\n",
      "c:\\Python311\\Lib\\site-packages\\scipy\\optimize\\_linesearch.py:313: LineSearchWarning:\n",
      "\n",
      "Rounding errors prevent the line search from converging\n",
      "\n",
      "c:\\Python311\\Lib\\site-packages\\sklearn\\utils\\optimize.py:239: UserWarning:\n",
      "\n",
      "Line Search failed\n",
      "\n",
      "c:\\Python311\\Lib\\site-packages\\scipy\\optimize\\_linesearch.py:313: LineSearchWarning:\n",
      "\n",
      "The line search algorithm did not converge\n",
      "\n",
      "c:\\Python311\\Lib\\site-packages\\sklearn\\utils\\optimize.py:74: LineSearchWarning:\n",
      "\n",
      "The line search algorithm did not converge\n",
      "\n",
      "c:\\Python311\\Lib\\site-packages\\scipy\\optimize\\_linesearch.py:313: LineSearchWarning:\n",
      "\n",
      "Rounding errors prevent the line search from converging\n",
      "\n",
      "c:\\Python311\\Lib\\site-packages\\sklearn\\utils\\optimize.py:239: UserWarning:\n",
      "\n",
      "Line Search failed\n",
      "\n",
      "c:\\Python311\\Lib\\site-packages\\scipy\\optimize\\_linesearch.py:313: LineSearchWarning:\n",
      "\n",
      "The line search algorithm did not converge\n",
      "\n",
      "c:\\Python311\\Lib\\site-packages\\sklearn\\utils\\optimize.py:74: LineSearchWarning:\n",
      "\n",
      "The line search algorithm did not converge\n",
      "\n",
      "c:\\Python311\\Lib\\site-packages\\scipy\\optimize\\_linesearch.py:313: LineSearchWarning:\n",
      "\n",
      "Rounding errors prevent the line search from converging\n",
      "\n",
      "c:\\Python311\\Lib\\site-packages\\sklearn\\utils\\optimize.py:239: UserWarning:\n",
      "\n",
      "Line Search failed\n",
      "\n",
      "c:\\Python311\\Lib\\site-packages\\scipy\\optimize\\_linesearch.py:313: LineSearchWarning:\n",
      "\n",
      "The line search algorithm did not converge\n",
      "\n",
      "c:\\Python311\\Lib\\site-packages\\sklearn\\utils\\optimize.py:74: LineSearchWarning:\n",
      "\n",
      "The line search algorithm did not converge\n",
      "\n",
      "c:\\Python311\\Lib\\site-packages\\scipy\\optimize\\_linesearch.py:313: LineSearchWarning:\n",
      "\n",
      "Rounding errors prevent the line search from converging\n",
      "\n",
      "c:\\Python311\\Lib\\site-packages\\sklearn\\utils\\optimize.py:239: UserWarning:\n",
      "\n",
      "Line Search failed\n",
      "\n",
      "c:\\Python311\\Lib\\site-packages\\scipy\\optimize\\_linesearch.py:313: LineSearchWarning:\n",
      "\n",
      "The line search algorithm did not converge\n",
      "\n",
      "c:\\Python311\\Lib\\site-packages\\sklearn\\utils\\optimize.py:74: LineSearchWarning:\n",
      "\n",
      "The line search algorithm did not converge\n",
      "\n",
      "c:\\Python311\\Lib\\site-packages\\scipy\\optimize\\_linesearch.py:313: LineSearchWarning:\n",
      "\n",
      "Rounding errors prevent the line search from converging\n",
      "\n",
      "c:\\Python311\\Lib\\site-packages\\sklearn\\utils\\optimize.py:239: UserWarning:\n",
      "\n",
      "Line Search failed\n",
      "\n",
      "c:\\Python311\\Lib\\site-packages\\scipy\\optimize\\_linesearch.py:313: LineSearchWarning:\n",
      "\n",
      "The line search algorithm did not converge\n",
      "\n",
      "c:\\Python311\\Lib\\site-packages\\sklearn\\utils\\optimize.py:74: LineSearchWarning:\n",
      "\n",
      "The line search algorithm did not converge\n",
      "\n",
      "c:\\Python311\\Lib\\site-packages\\scipy\\optimize\\_linesearch.py:313: LineSearchWarning:\n",
      "\n",
      "Rounding errors prevent the line search from converging\n",
      "\n",
      "c:\\Python311\\Lib\\site-packages\\sklearn\\utils\\optimize.py:239: UserWarning:\n",
      "\n",
      "Line Search failed\n",
      "\n",
      "c:\\Python311\\Lib\\site-packages\\scipy\\optimize\\_linesearch.py:313: LineSearchWarning:\n",
      "\n",
      "The line search algorithm did not converge\n",
      "\n",
      "c:\\Python311\\Lib\\site-packages\\sklearn\\utils\\optimize.py:74: LineSearchWarning:\n",
      "\n",
      "The line search algorithm did not converge\n",
      "\n",
      "c:\\Python311\\Lib\\site-packages\\scipy\\optimize\\_linesearch.py:313: LineSearchWarning:\n",
      "\n",
      "Rounding errors prevent the line search from converging\n",
      "\n",
      "c:\\Python311\\Lib\\site-packages\\sklearn\\utils\\optimize.py:239: UserWarning:\n",
      "\n",
      "Line Search failed\n",
      "\n",
      "c:\\Python311\\Lib\\site-packages\\scipy\\optimize\\_linesearch.py:313: LineSearchWarning:\n",
      "\n",
      "The line search algorithm did not converge\n",
      "\n",
      "c:\\Python311\\Lib\\site-packages\\sklearn\\utils\\optimize.py:74: LineSearchWarning:\n",
      "\n",
      "The line search algorithm did not converge\n",
      "\n",
      "c:\\Python311\\Lib\\site-packages\\scipy\\optimize\\_linesearch.py:313: LineSearchWarning:\n",
      "\n",
      "Rounding errors prevent the line search from converging\n",
      "\n",
      "c:\\Python311\\Lib\\site-packages\\sklearn\\utils\\optimize.py:239: UserWarning:\n",
      "\n",
      "Line Search failed\n",
      "\n",
      "c:\\Python311\\Lib\\site-packages\\scipy\\optimize\\_linesearch.py:313: LineSearchWarning:\n",
      "\n",
      "The line search algorithm did not converge\n",
      "\n",
      "c:\\Python311\\Lib\\site-packages\\sklearn\\utils\\optimize.py:74: LineSearchWarning:\n",
      "\n",
      "The line search algorithm did not converge\n",
      "\n",
      "c:\\Python311\\Lib\\site-packages\\scipy\\optimize\\_linesearch.py:313: LineSearchWarning:\n",
      "\n",
      "Rounding errors prevent the line search from converging\n",
      "\n",
      "c:\\Python311\\Lib\\site-packages\\sklearn\\utils\\optimize.py:239: UserWarning:\n",
      "\n",
      "Line Search failed\n",
      "\n",
      "c:\\Python311\\Lib\\site-packages\\scipy\\optimize\\_linesearch.py:313: LineSearchWarning:\n",
      "\n",
      "The line search algorithm did not converge\n",
      "\n",
      "c:\\Python311\\Lib\\site-packages\\sklearn\\utils\\optimize.py:74: LineSearchWarning:\n",
      "\n",
      "The line search algorithm did not converge\n",
      "\n",
      "c:\\Python311\\Lib\\site-packages\\scipy\\optimize\\_linesearch.py:313: LineSearchWarning:\n",
      "\n",
      "Rounding errors prevent the line search from converging\n",
      "\n",
      "c:\\Python311\\Lib\\site-packages\\sklearn\\utils\\optimize.py:239: UserWarning:\n",
      "\n",
      "Line Search failed\n",
      "\n",
      "c:\\Python311\\Lib\\site-packages\\scipy\\optimize\\_linesearch.py:313: LineSearchWarning:\n",
      "\n",
      "The line search algorithm did not converge\n",
      "\n",
      "c:\\Python311\\Lib\\site-packages\\sklearn\\utils\\optimize.py:74: LineSearchWarning:\n",
      "\n",
      "The line search algorithm did not converge\n",
      "\n",
      "c:\\Python311\\Lib\\site-packages\\scipy\\optimize\\_linesearch.py:313: LineSearchWarning:\n",
      "\n",
      "Rounding errors prevent the line search from converging\n",
      "\n",
      "c:\\Python311\\Lib\\site-packages\\sklearn\\utils\\optimize.py:239: UserWarning:\n",
      "\n",
      "Line Search failed\n",
      "\n",
      "c:\\Python311\\Lib\\site-packages\\scipy\\optimize\\_linesearch.py:313: LineSearchWarning:\n",
      "\n",
      "The line search algorithm did not converge\n",
      "\n",
      "c:\\Python311\\Lib\\site-packages\\sklearn\\utils\\optimize.py:74: LineSearchWarning:\n",
      "\n",
      "The line search algorithm did not converge\n",
      "\n",
      "c:\\Python311\\Lib\\site-packages\\scipy\\optimize\\_linesearch.py:313: LineSearchWarning:\n",
      "\n",
      "Rounding errors prevent the line search from converging\n",
      "\n",
      "c:\\Python311\\Lib\\site-packages\\sklearn\\utils\\optimize.py:239: UserWarning:\n",
      "\n",
      "Line Search failed\n",
      "\n",
      "c:\\Python311\\Lib\\site-packages\\scipy\\optimize\\_linesearch.py:313: LineSearchWarning:\n",
      "\n",
      "The line search algorithm did not converge\n",
      "\n",
      "c:\\Python311\\Lib\\site-packages\\sklearn\\utils\\optimize.py:74: LineSearchWarning:\n",
      "\n",
      "The line search algorithm did not converge\n",
      "\n",
      "c:\\Python311\\Lib\\site-packages\\scipy\\optimize\\_linesearch.py:313: LineSearchWarning:\n",
      "\n",
      "Rounding errors prevent the line search from converging\n",
      "\n",
      "c:\\Python311\\Lib\\site-packages\\sklearn\\utils\\optimize.py:239: UserWarning:\n",
      "\n",
      "Line Search failed\n",
      "\n",
      "c:\\Python311\\Lib\\site-packages\\scipy\\optimize\\_linesearch.py:313: LineSearchWarning:\n",
      "\n",
      "The line search algorithm did not converge\n",
      "\n",
      "c:\\Python311\\Lib\\site-packages\\sklearn\\utils\\optimize.py:74: LineSearchWarning:\n",
      "\n",
      "The line search algorithm did not converge\n",
      "\n",
      "c:\\Python311\\Lib\\site-packages\\scipy\\optimize\\_linesearch.py:313: LineSearchWarning:\n",
      "\n",
      "Rounding errors prevent the line search from converging\n",
      "\n",
      "c:\\Python311\\Lib\\site-packages\\sklearn\\utils\\optimize.py:239: UserWarning:\n",
      "\n",
      "Line Search failed\n",
      "\n",
      "c:\\Python311\\Lib\\site-packages\\scipy\\optimize\\_linesearch.py:313: LineSearchWarning:\n",
      "\n",
      "The line search algorithm did not converge\n",
      "\n",
      "c:\\Python311\\Lib\\site-packages\\sklearn\\utils\\optimize.py:74: LineSearchWarning:\n",
      "\n",
      "The line search algorithm did not converge\n",
      "\n",
      "c:\\Python311\\Lib\\site-packages\\scipy\\optimize\\_linesearch.py:313: LineSearchWarning:\n",
      "\n",
      "Rounding errors prevent the line search from converging\n",
      "\n",
      "c:\\Python311\\Lib\\site-packages\\sklearn\\utils\\optimize.py:239: UserWarning:\n",
      "\n",
      "Line Search failed\n",
      "\n",
      "c:\\Python311\\Lib\\site-packages\\scipy\\optimize\\_linesearch.py:313: LineSearchWarning:\n",
      "\n",
      "The line search algorithm did not converge\n",
      "\n",
      "c:\\Python311\\Lib\\site-packages\\sklearn\\utils\\optimize.py:74: LineSearchWarning:\n",
      "\n",
      "The line search algorithm did not converge\n",
      "\n",
      "c:\\Python311\\Lib\\site-packages\\scipy\\optimize\\_linesearch.py:313: LineSearchWarning:\n",
      "\n",
      "Rounding errors prevent the line search from converging\n",
      "\n",
      "c:\\Python311\\Lib\\site-packages\\sklearn\\utils\\optimize.py:239: UserWarning:\n",
      "\n",
      "Line Search failed\n",
      "\n",
      "c:\\Python311\\Lib\\site-packages\\scipy\\optimize\\_linesearch.py:313: LineSearchWarning:\n",
      "\n",
      "The line search algorithm did not converge\n",
      "\n",
      "c:\\Python311\\Lib\\site-packages\\sklearn\\utils\\optimize.py:74: LineSearchWarning:\n",
      "\n",
      "The line search algorithm did not converge\n",
      "\n",
      "c:\\Python311\\Lib\\site-packages\\scipy\\optimize\\_linesearch.py:313: LineSearchWarning:\n",
      "\n",
      "Rounding errors prevent the line search from converging\n",
      "\n",
      "c:\\Python311\\Lib\\site-packages\\sklearn\\utils\\optimize.py:239: UserWarning:\n",
      "\n",
      "Line Search failed\n",
      "\n",
      "c:\\Python311\\Lib\\site-packages\\scipy\\optimize\\_linesearch.py:313: LineSearchWarning:\n",
      "\n",
      "The line search algorithm did not converge\n",
      "\n",
      "c:\\Python311\\Lib\\site-packages\\sklearn\\utils\\optimize.py:74: LineSearchWarning:\n",
      "\n",
      "The line search algorithm did not converge\n",
      "\n",
      "c:\\Python311\\Lib\\site-packages\\scipy\\optimize\\_linesearch.py:313: LineSearchWarning:\n",
      "\n",
      "Rounding errors prevent the line search from converging\n",
      "\n",
      "c:\\Python311\\Lib\\site-packages\\sklearn\\utils\\optimize.py:239: UserWarning:\n",
      "\n",
      "Line Search failed\n",
      "\n",
      "c:\\Python311\\Lib\\site-packages\\scipy\\optimize\\_linesearch.py:313: LineSearchWarning:\n",
      "\n",
      "The line search algorithm did not converge\n",
      "\n",
      "c:\\Python311\\Lib\\site-packages\\sklearn\\utils\\optimize.py:74: LineSearchWarning:\n",
      "\n",
      "The line search algorithm did not converge\n",
      "\n",
      "c:\\Python311\\Lib\\site-packages\\scipy\\optimize\\_linesearch.py:313: LineSearchWarning:\n",
      "\n",
      "Rounding errors prevent the line search from converging\n",
      "\n",
      "c:\\Python311\\Lib\\site-packages\\sklearn\\utils\\optimize.py:239: UserWarning:\n",
      "\n",
      "Line Search failed\n",
      "\n",
      "c:\\Python311\\Lib\\site-packages\\scipy\\optimize\\_linesearch.py:313: LineSearchWarning:\n",
      "\n",
      "The line search algorithm did not converge\n",
      "\n",
      "c:\\Python311\\Lib\\site-packages\\sklearn\\utils\\optimize.py:74: LineSearchWarning:\n",
      "\n",
      "The line search algorithm did not converge\n",
      "\n",
      "c:\\Python311\\Lib\\site-packages\\scipy\\optimize\\_linesearch.py:313: LineSearchWarning:\n",
      "\n",
      "Rounding errors prevent the line search from converging\n",
      "\n",
      "c:\\Python311\\Lib\\site-packages\\sklearn\\utils\\optimize.py:239: UserWarning:\n",
      "\n",
      "Line Search failed\n",
      "\n",
      "c:\\Python311\\Lib\\site-packages\\scipy\\optimize\\_linesearch.py:313: LineSearchWarning:\n",
      "\n",
      "The line search algorithm did not converge\n",
      "\n",
      "c:\\Python311\\Lib\\site-packages\\sklearn\\utils\\optimize.py:74: LineSearchWarning:\n",
      "\n",
      "The line search algorithm did not converge\n",
      "\n",
      "c:\\Python311\\Lib\\site-packages\\scipy\\optimize\\_linesearch.py:313: LineSearchWarning:\n",
      "\n",
      "Rounding errors prevent the line search from converging\n",
      "\n",
      "c:\\Python311\\Lib\\site-packages\\sklearn\\utils\\optimize.py:239: UserWarning:\n",
      "\n",
      "Line Search failed\n",
      "\n",
      "c:\\Python311\\Lib\\site-packages\\scipy\\optimize\\_linesearch.py:313: LineSearchWarning:\n",
      "\n",
      "The line search algorithm did not converge\n",
      "\n",
      "c:\\Python311\\Lib\\site-packages\\sklearn\\utils\\optimize.py:74: LineSearchWarning:\n",
      "\n",
      "The line search algorithm did not converge\n",
      "\n",
      "c:\\Python311\\Lib\\site-packages\\scipy\\optimize\\_linesearch.py:313: LineSearchWarning:\n",
      "\n",
      "Rounding errors prevent the line search from converging\n",
      "\n",
      "c:\\Python311\\Lib\\site-packages\\sklearn\\utils\\optimize.py:239: UserWarning:\n",
      "\n",
      "Line Search failed\n",
      "\n",
      "c:\\Python311\\Lib\\site-packages\\scipy\\optimize\\_linesearch.py:313: LineSearchWarning:\n",
      "\n",
      "The line search algorithm did not converge\n",
      "\n",
      "c:\\Python311\\Lib\\site-packages\\sklearn\\utils\\optimize.py:74: LineSearchWarning:\n",
      "\n",
      "The line search algorithm did not converge\n",
      "\n",
      "c:\\Python311\\Lib\\site-packages\\scipy\\optimize\\_linesearch.py:313: LineSearchWarning:\n",
      "\n",
      "Rounding errors prevent the line search from converging\n",
      "\n",
      "c:\\Python311\\Lib\\site-packages\\sklearn\\utils\\optimize.py:239: UserWarning:\n",
      "\n",
      "Line Search failed\n",
      "\n",
      "c:\\Python311\\Lib\\site-packages\\scipy\\optimize\\_linesearch.py:313: LineSearchWarning:\n",
      "\n",
      "The line search algorithm did not converge\n",
      "\n",
      "c:\\Python311\\Lib\\site-packages\\sklearn\\utils\\optimize.py:74: LineSearchWarning:\n",
      "\n",
      "The line search algorithm did not converge\n",
      "\n",
      "c:\\Python311\\Lib\\site-packages\\scipy\\optimize\\_linesearch.py:313: LineSearchWarning:\n",
      "\n",
      "Rounding errors prevent the line search from converging\n",
      "\n",
      "c:\\Python311\\Lib\\site-packages\\sklearn\\utils\\optimize.py:239: UserWarning:\n",
      "\n",
      "Line Search failed\n",
      "\n",
      "c:\\Python311\\Lib\\site-packages\\scipy\\optimize\\_linesearch.py:313: LineSearchWarning:\n",
      "\n",
      "The line search algorithm did not converge\n",
      "\n",
      "c:\\Python311\\Lib\\site-packages\\sklearn\\utils\\optimize.py:74: LineSearchWarning:\n",
      "\n",
      "The line search algorithm did not converge\n",
      "\n",
      "c:\\Python311\\Lib\\site-packages\\scipy\\optimize\\_linesearch.py:313: LineSearchWarning:\n",
      "\n",
      "Rounding errors prevent the line search from converging\n",
      "\n",
      "c:\\Python311\\Lib\\site-packages\\sklearn\\utils\\optimize.py:239: UserWarning:\n",
      "\n",
      "Line Search failed\n",
      "\n",
      "c:\\Python311\\Lib\\site-packages\\scipy\\optimize\\_linesearch.py:313: LineSearchWarning:\n",
      "\n",
      "The line search algorithm did not converge\n",
      "\n",
      "c:\\Python311\\Lib\\site-packages\\sklearn\\utils\\optimize.py:74: LineSearchWarning:\n",
      "\n",
      "The line search algorithm did not converge\n",
      "\n",
      "c:\\Python311\\Lib\\site-packages\\scipy\\optimize\\_linesearch.py:313: LineSearchWarning:\n",
      "\n",
      "Rounding errors prevent the line search from converging\n",
      "\n",
      "c:\\Python311\\Lib\\site-packages\\sklearn\\utils\\optimize.py:239: UserWarning:\n",
      "\n",
      "Line Search failed\n",
      "\n",
      "c:\\Python311\\Lib\\site-packages\\scipy\\optimize\\_linesearch.py:313: LineSearchWarning:\n",
      "\n",
      "The line search algorithm did not converge\n",
      "\n",
      "c:\\Python311\\Lib\\site-packages\\sklearn\\utils\\optimize.py:74: LineSearchWarning:\n",
      "\n",
      "The line search algorithm did not converge\n",
      "\n",
      "c:\\Python311\\Lib\\site-packages\\scipy\\optimize\\_linesearch.py:313: LineSearchWarning:\n",
      "\n",
      "Rounding errors prevent the line search from converging\n",
      "\n",
      "c:\\Python311\\Lib\\site-packages\\sklearn\\utils\\optimize.py:239: UserWarning:\n",
      "\n",
      "Line Search failed\n",
      "\n",
      "c:\\Python311\\Lib\\site-packages\\scipy\\optimize\\_linesearch.py:313: LineSearchWarning:\n",
      "\n",
      "The line search algorithm did not converge\n",
      "\n",
      "c:\\Python311\\Lib\\site-packages\\sklearn\\utils\\optimize.py:74: LineSearchWarning:\n",
      "\n",
      "The line search algorithm did not converge\n",
      "\n",
      "c:\\Python311\\Lib\\site-packages\\scipy\\optimize\\_linesearch.py:313: LineSearchWarning:\n",
      "\n",
      "Rounding errors prevent the line search from converging\n",
      "\n",
      "c:\\Python311\\Lib\\site-packages\\sklearn\\utils\\optimize.py:239: UserWarning:\n",
      "\n",
      "Line Search failed\n",
      "\n",
      "c:\\Python311\\Lib\\site-packages\\scipy\\optimize\\_linesearch.py:313: LineSearchWarning:\n",
      "\n",
      "The line search algorithm did not converge\n",
      "\n",
      "c:\\Python311\\Lib\\site-packages\\sklearn\\utils\\optimize.py:74: LineSearchWarning:\n",
      "\n",
      "The line search algorithm did not converge\n",
      "\n",
      "c:\\Python311\\Lib\\site-packages\\scipy\\optimize\\_linesearch.py:313: LineSearchWarning:\n",
      "\n",
      "Rounding errors prevent the line search from converging\n",
      "\n",
      "c:\\Python311\\Lib\\site-packages\\sklearn\\utils\\optimize.py:239: UserWarning:\n",
      "\n",
      "Line Search failed\n",
      "\n",
      "c:\\Python311\\Lib\\site-packages\\scipy\\optimize\\_linesearch.py:313: LineSearchWarning:\n",
      "\n",
      "The line search algorithm did not converge\n",
      "\n",
      "c:\\Python311\\Lib\\site-packages\\sklearn\\utils\\optimize.py:74: LineSearchWarning:\n",
      "\n",
      "The line search algorithm did not converge\n",
      "\n",
      "c:\\Python311\\Lib\\site-packages\\scipy\\optimize\\_linesearch.py:313: LineSearchWarning:\n",
      "\n",
      "Rounding errors prevent the line search from converging\n",
      "\n",
      "c:\\Python311\\Lib\\site-packages\\sklearn\\utils\\optimize.py:239: UserWarning:\n",
      "\n",
      "Line Search failed\n",
      "\n",
      "c:\\Python311\\Lib\\site-packages\\scipy\\optimize\\_linesearch.py:313: LineSearchWarning:\n",
      "\n",
      "The line search algorithm did not converge\n",
      "\n",
      "c:\\Python311\\Lib\\site-packages\\sklearn\\utils\\optimize.py:74: LineSearchWarning:\n",
      "\n",
      "The line search algorithm did not converge\n",
      "\n",
      "c:\\Python311\\Lib\\site-packages\\scipy\\optimize\\_linesearch.py:313: LineSearchWarning:\n",
      "\n",
      "Rounding errors prevent the line search from converging\n",
      "\n",
      "c:\\Python311\\Lib\\site-packages\\sklearn\\utils\\optimize.py:239: UserWarning:\n",
      "\n",
      "Line Search failed\n",
      "\n",
      "c:\\Python311\\Lib\\site-packages\\scipy\\optimize\\_linesearch.py:313: LineSearchWarning:\n",
      "\n",
      "The line search algorithm did not converge\n",
      "\n",
      "c:\\Python311\\Lib\\site-packages\\sklearn\\utils\\optimize.py:74: LineSearchWarning:\n",
      "\n",
      "The line search algorithm did not converge\n",
      "\n",
      "c:\\Python311\\Lib\\site-packages\\scipy\\optimize\\_linesearch.py:313: LineSearchWarning:\n",
      "\n",
      "Rounding errors prevent the line search from converging\n",
      "\n",
      "c:\\Python311\\Lib\\site-packages\\sklearn\\utils\\optimize.py:239: UserWarning:\n",
      "\n",
      "Line Search failed\n",
      "\n",
      "c:\\Python311\\Lib\\site-packages\\scipy\\optimize\\_linesearch.py:313: LineSearchWarning:\n",
      "\n",
      "The line search algorithm did not converge\n",
      "\n",
      "c:\\Python311\\Lib\\site-packages\\sklearn\\utils\\optimize.py:74: LineSearchWarning:\n",
      "\n",
      "The line search algorithm did not converge\n",
      "\n",
      "c:\\Python311\\Lib\\site-packages\\scipy\\optimize\\_linesearch.py:313: LineSearchWarning:\n",
      "\n",
      "Rounding errors prevent the line search from converging\n",
      "\n",
      "c:\\Python311\\Lib\\site-packages\\sklearn\\utils\\optimize.py:239: UserWarning:\n",
      "\n",
      "Line Search failed\n",
      "\n",
      "c:\\Python311\\Lib\\site-packages\\scipy\\optimize\\_linesearch.py:313: LineSearchWarning:\n",
      "\n",
      "The line search algorithm did not converge\n",
      "\n",
      "c:\\Python311\\Lib\\site-packages\\sklearn\\utils\\optimize.py:74: LineSearchWarning:\n",
      "\n",
      "The line search algorithm did not converge\n",
      "\n",
      "c:\\Python311\\Lib\\site-packages\\scipy\\optimize\\_linesearch.py:313: LineSearchWarning:\n",
      "\n",
      "Rounding errors prevent the line search from converging\n",
      "\n",
      "c:\\Python311\\Lib\\site-packages\\sklearn\\utils\\optimize.py:239: UserWarning:\n",
      "\n",
      "Line Search failed\n",
      "\n",
      "c:\\Python311\\Lib\\site-packages\\scipy\\optimize\\_linesearch.py:313: LineSearchWarning:\n",
      "\n",
      "The line search algorithm did not converge\n",
      "\n",
      "c:\\Python311\\Lib\\site-packages\\sklearn\\utils\\optimize.py:74: LineSearchWarning:\n",
      "\n",
      "The line search algorithm did not converge\n",
      "\n",
      "c:\\Python311\\Lib\\site-packages\\scipy\\optimize\\_linesearch.py:313: LineSearchWarning:\n",
      "\n",
      "Rounding errors prevent the line search from converging\n",
      "\n",
      "c:\\Python311\\Lib\\site-packages\\sklearn\\utils\\optimize.py:239: UserWarning:\n",
      "\n",
      "Line Search failed\n",
      "\n",
      "c:\\Python311\\Lib\\site-packages\\scipy\\optimize\\_linesearch.py:313: LineSearchWarning:\n",
      "\n",
      "The line search algorithm did not converge\n",
      "\n",
      "c:\\Python311\\Lib\\site-packages\\sklearn\\utils\\optimize.py:74: LineSearchWarning:\n",
      "\n",
      "The line search algorithm did not converge\n",
      "\n",
      "c:\\Python311\\Lib\\site-packages\\scipy\\optimize\\_linesearch.py:313: LineSearchWarning:\n",
      "\n",
      "Rounding errors prevent the line search from converging\n",
      "\n",
      "c:\\Python311\\Lib\\site-packages\\sklearn\\utils\\optimize.py:239: UserWarning:\n",
      "\n",
      "Line Search failed\n",
      "\n",
      "c:\\Python311\\Lib\\site-packages\\scipy\\optimize\\_linesearch.py:313: LineSearchWarning:\n",
      "\n",
      "The line search algorithm did not converge\n",
      "\n",
      "c:\\Python311\\Lib\\site-packages\\sklearn\\utils\\optimize.py:74: LineSearchWarning:\n",
      "\n",
      "The line search algorithm did not converge\n",
      "\n",
      "c:\\Python311\\Lib\\site-packages\\scipy\\optimize\\_linesearch.py:313: LineSearchWarning:\n",
      "\n",
      "Rounding errors prevent the line search from converging\n",
      "\n",
      "c:\\Python311\\Lib\\site-packages\\sklearn\\utils\\optimize.py:239: UserWarning:\n",
      "\n",
      "Line Search failed\n",
      "\n",
      "c:\\Python311\\Lib\\site-packages\\scipy\\optimize\\_linesearch.py:313: LineSearchWarning:\n",
      "\n",
      "The line search algorithm did not converge\n",
      "\n",
      "c:\\Python311\\Lib\\site-packages\\sklearn\\utils\\optimize.py:74: LineSearchWarning:\n",
      "\n",
      "The line search algorithm did not converge\n",
      "\n",
      "c:\\Python311\\Lib\\site-packages\\scipy\\optimize\\_linesearch.py:313: LineSearchWarning:\n",
      "\n",
      "Rounding errors prevent the line search from converging\n",
      "\n",
      "c:\\Python311\\Lib\\site-packages\\sklearn\\utils\\optimize.py:239: UserWarning:\n",
      "\n",
      "Line Search failed\n",
      "\n",
      "c:\\Python311\\Lib\\site-packages\\scipy\\optimize\\_linesearch.py:313: LineSearchWarning:\n",
      "\n",
      "The line search algorithm did not converge\n",
      "\n",
      "c:\\Python311\\Lib\\site-packages\\sklearn\\utils\\optimize.py:74: LineSearchWarning:\n",
      "\n",
      "The line search algorithm did not converge\n",
      "\n",
      "c:\\Python311\\Lib\\site-packages\\scipy\\optimize\\_linesearch.py:313: LineSearchWarning:\n",
      "\n",
      "Rounding errors prevent the line search from converging\n",
      "\n",
      "c:\\Python311\\Lib\\site-packages\\sklearn\\utils\\optimize.py:239: UserWarning:\n",
      "\n",
      "Line Search failed\n",
      "\n",
      "c:\\Python311\\Lib\\site-packages\\scipy\\optimize\\_linesearch.py:313: LineSearchWarning:\n",
      "\n",
      "The line search algorithm did not converge\n",
      "\n",
      "c:\\Python311\\Lib\\site-packages\\sklearn\\utils\\optimize.py:74: LineSearchWarning:\n",
      "\n",
      "The line search algorithm did not converge\n",
      "\n",
      "c:\\Python311\\Lib\\site-packages\\scipy\\optimize\\_linesearch.py:313: LineSearchWarning:\n",
      "\n",
      "Rounding errors prevent the line search from converging\n",
      "\n",
      "c:\\Python311\\Lib\\site-packages\\sklearn\\utils\\optimize.py:239: UserWarning:\n",
      "\n",
      "Line Search failed\n",
      "\n",
      "c:\\Python311\\Lib\\site-packages\\scipy\\optimize\\_linesearch.py:313: LineSearchWarning:\n",
      "\n",
      "The line search algorithm did not converge\n",
      "\n",
      "c:\\Python311\\Lib\\site-packages\\sklearn\\utils\\optimize.py:74: LineSearchWarning:\n",
      "\n",
      "The line search algorithm did not converge\n",
      "\n",
      "c:\\Python311\\Lib\\site-packages\\scipy\\optimize\\_linesearch.py:313: LineSearchWarning:\n",
      "\n",
      "Rounding errors prevent the line search from converging\n",
      "\n",
      "c:\\Python311\\Lib\\site-packages\\sklearn\\utils\\optimize.py:239: UserWarning:\n",
      "\n",
      "Line Search failed\n",
      "\n",
      "c:\\Python311\\Lib\\site-packages\\scipy\\optimize\\_linesearch.py:313: LineSearchWarning:\n",
      "\n",
      "The line search algorithm did not converge\n",
      "\n",
      "c:\\Python311\\Lib\\site-packages\\sklearn\\utils\\optimize.py:74: LineSearchWarning:\n",
      "\n",
      "The line search algorithm did not converge\n",
      "\n",
      "c:\\Python311\\Lib\\site-packages\\scipy\\optimize\\_linesearch.py:313: LineSearchWarning:\n",
      "\n",
      "Rounding errors prevent the line search from converging\n",
      "\n",
      "c:\\Python311\\Lib\\site-packages\\sklearn\\utils\\optimize.py:239: UserWarning:\n",
      "\n",
      "Line Search failed\n",
      "\n",
      "c:\\Python311\\Lib\\site-packages\\scipy\\optimize\\_linesearch.py:313: LineSearchWarning:\n",
      "\n",
      "The line search algorithm did not converge\n",
      "\n",
      "c:\\Python311\\Lib\\site-packages\\sklearn\\utils\\optimize.py:74: LineSearchWarning:\n",
      "\n",
      "The line search algorithm did not converge\n",
      "\n",
      "c:\\Python311\\Lib\\site-packages\\scipy\\optimize\\_linesearch.py:313: LineSearchWarning:\n",
      "\n",
      "Rounding errors prevent the line search from converging\n",
      "\n",
      "c:\\Python311\\Lib\\site-packages\\sklearn\\utils\\optimize.py:239: UserWarning:\n",
      "\n",
      "Line Search failed\n",
      "\n",
      "c:\\Python311\\Lib\\site-packages\\scipy\\optimize\\_linesearch.py:313: LineSearchWarning:\n",
      "\n",
      "The line search algorithm did not converge\n",
      "\n",
      "c:\\Python311\\Lib\\site-packages\\sklearn\\utils\\optimize.py:74: LineSearchWarning:\n",
      "\n",
      "The line search algorithm did not converge\n",
      "\n",
      "c:\\Python311\\Lib\\site-packages\\scipy\\optimize\\_linesearch.py:313: LineSearchWarning:\n",
      "\n",
      "Rounding errors prevent the line search from converging\n",
      "\n",
      "c:\\Python311\\Lib\\site-packages\\sklearn\\utils\\optimize.py:239: UserWarning:\n",
      "\n",
      "Line Search failed\n",
      "\n",
      "c:\\Python311\\Lib\\site-packages\\scipy\\optimize\\_linesearch.py:313: LineSearchWarning:\n",
      "\n",
      "The line search algorithm did not converge\n",
      "\n",
      "c:\\Python311\\Lib\\site-packages\\sklearn\\utils\\optimize.py:74: LineSearchWarning:\n",
      "\n",
      "The line search algorithm did not converge\n",
      "\n",
      "c:\\Python311\\Lib\\site-packages\\scipy\\optimize\\_linesearch.py:313: LineSearchWarning:\n",
      "\n",
      "Rounding errors prevent the line search from converging\n",
      "\n",
      "c:\\Python311\\Lib\\site-packages\\sklearn\\utils\\optimize.py:239: UserWarning:\n",
      "\n",
      "Line Search failed\n",
      "\n",
      "c:\\Python311\\Lib\\site-packages\\scipy\\optimize\\_linesearch.py:313: LineSearchWarning:\n",
      "\n",
      "The line search algorithm did not converge\n",
      "\n",
      "c:\\Python311\\Lib\\site-packages\\sklearn\\utils\\optimize.py:74: LineSearchWarning:\n",
      "\n",
      "The line search algorithm did not converge\n",
      "\n",
      "c:\\Python311\\Lib\\site-packages\\scipy\\optimize\\_linesearch.py:313: LineSearchWarning:\n",
      "\n",
      "Rounding errors prevent the line search from converging\n",
      "\n",
      "c:\\Python311\\Lib\\site-packages\\sklearn\\utils\\optimize.py:239: UserWarning:\n",
      "\n",
      "Line Search failed\n",
      "\n",
      "c:\\Python311\\Lib\\site-packages\\scipy\\optimize\\_linesearch.py:313: LineSearchWarning:\n",
      "\n",
      "The line search algorithm did not converge\n",
      "\n",
      "c:\\Python311\\Lib\\site-packages\\sklearn\\utils\\optimize.py:74: LineSearchWarning:\n",
      "\n",
      "The line search algorithm did not converge\n",
      "\n",
      "c:\\Python311\\Lib\\site-packages\\scipy\\optimize\\_linesearch.py:313: LineSearchWarning:\n",
      "\n",
      "Rounding errors prevent the line search from converging\n",
      "\n",
      "c:\\Python311\\Lib\\site-packages\\sklearn\\utils\\optimize.py:239: UserWarning:\n",
      "\n",
      "Line Search failed\n",
      "\n",
      "c:\\Python311\\Lib\\site-packages\\scipy\\optimize\\_linesearch.py:313: LineSearchWarning:\n",
      "\n",
      "The line search algorithm did not converge\n",
      "\n",
      "c:\\Python311\\Lib\\site-packages\\sklearn\\utils\\optimize.py:74: LineSearchWarning:\n",
      "\n",
      "The line search algorithm did not converge\n",
      "\n",
      "c:\\Python311\\Lib\\site-packages\\scipy\\optimize\\_linesearch.py:313: LineSearchWarning:\n",
      "\n",
      "Rounding errors prevent the line search from converging\n",
      "\n",
      "c:\\Python311\\Lib\\site-packages\\sklearn\\utils\\optimize.py:239: UserWarning:\n",
      "\n",
      "Line Search failed\n",
      "\n",
      "c:\\Python311\\Lib\\site-packages\\scipy\\optimize\\_linesearch.py:313: LineSearchWarning:\n",
      "\n",
      "The line search algorithm did not converge\n",
      "\n",
      "c:\\Python311\\Lib\\site-packages\\sklearn\\utils\\optimize.py:74: LineSearchWarning:\n",
      "\n",
      "The line search algorithm did not converge\n",
      "\n",
      "c:\\Python311\\Lib\\site-packages\\scipy\\optimize\\_linesearch.py:313: LineSearchWarning:\n",
      "\n",
      "Rounding errors prevent the line search from converging\n",
      "\n",
      "c:\\Python311\\Lib\\site-packages\\sklearn\\utils\\optimize.py:239: UserWarning:\n",
      "\n",
      "Line Search failed\n",
      "\n",
      "c:\\Python311\\Lib\\site-packages\\scipy\\optimize\\_linesearch.py:313: LineSearchWarning:\n",
      "\n",
      "The line search algorithm did not converge\n",
      "\n",
      "c:\\Python311\\Lib\\site-packages\\sklearn\\utils\\optimize.py:74: LineSearchWarning:\n",
      "\n",
      "The line search algorithm did not converge\n",
      "\n",
      "c:\\Python311\\Lib\\site-packages\\scipy\\optimize\\_linesearch.py:313: LineSearchWarning:\n",
      "\n",
      "Rounding errors prevent the line search from converging\n",
      "\n",
      "c:\\Python311\\Lib\\site-packages\\sklearn\\utils\\optimize.py:239: UserWarning:\n",
      "\n",
      "Line Search failed\n",
      "\n",
      "c:\\Python311\\Lib\\site-packages\\scipy\\optimize\\_linesearch.py:313: LineSearchWarning:\n",
      "\n",
      "The line search algorithm did not converge\n",
      "\n",
      "c:\\Python311\\Lib\\site-packages\\sklearn\\utils\\optimize.py:74: LineSearchWarning:\n",
      "\n",
      "The line search algorithm did not converge\n",
      "\n",
      "c:\\Python311\\Lib\\site-packages\\scipy\\optimize\\_linesearch.py:313: LineSearchWarning:\n",
      "\n",
      "Rounding errors prevent the line search from converging\n",
      "\n",
      "c:\\Python311\\Lib\\site-packages\\sklearn\\utils\\optimize.py:239: UserWarning:\n",
      "\n",
      "Line Search failed\n",
      "\n",
      "c:\\Python311\\Lib\\site-packages\\scipy\\optimize\\_linesearch.py:313: LineSearchWarning:\n",
      "\n",
      "The line search algorithm did not converge\n",
      "\n",
      "c:\\Python311\\Lib\\site-packages\\sklearn\\utils\\optimize.py:74: LineSearchWarning:\n",
      "\n",
      "The line search algorithm did not converge\n",
      "\n",
      "c:\\Python311\\Lib\\site-packages\\scipy\\optimize\\_linesearch.py:313: LineSearchWarning:\n",
      "\n",
      "Rounding errors prevent the line search from converging\n",
      "\n",
      "c:\\Python311\\Lib\\site-packages\\sklearn\\utils\\optimize.py:239: UserWarning:\n",
      "\n",
      "Line Search failed\n",
      "\n",
      "c:\\Python311\\Lib\\site-packages\\scipy\\optimize\\_linesearch.py:313: LineSearchWarning:\n",
      "\n",
      "The line search algorithm did not converge\n",
      "\n",
      "c:\\Python311\\Lib\\site-packages\\sklearn\\utils\\optimize.py:74: LineSearchWarning:\n",
      "\n",
      "The line search algorithm did not converge\n",
      "\n",
      "c:\\Python311\\Lib\\site-packages\\scipy\\optimize\\_linesearch.py:313: LineSearchWarning:\n",
      "\n",
      "Rounding errors prevent the line search from converging\n",
      "\n",
      "c:\\Python311\\Lib\\site-packages\\sklearn\\utils\\optimize.py:239: UserWarning:\n",
      "\n",
      "Line Search failed\n",
      "\n",
      "c:\\Python311\\Lib\\site-packages\\scipy\\optimize\\_linesearch.py:313: LineSearchWarning:\n",
      "\n",
      "The line search algorithm did not converge\n",
      "\n",
      "c:\\Python311\\Lib\\site-packages\\sklearn\\utils\\optimize.py:74: LineSearchWarning:\n",
      "\n",
      "The line search algorithm did not converge\n",
      "\n",
      "c:\\Python311\\Lib\\site-packages\\scipy\\optimize\\_linesearch.py:313: LineSearchWarning:\n",
      "\n",
      "Rounding errors prevent the line search from converging\n",
      "\n",
      "c:\\Python311\\Lib\\site-packages\\sklearn\\utils\\optimize.py:239: UserWarning:\n",
      "\n",
      "Line Search failed\n",
      "\n",
      "c:\\Python311\\Lib\\site-packages\\scipy\\optimize\\_linesearch.py:313: LineSearchWarning:\n",
      "\n",
      "The line search algorithm did not converge\n",
      "\n",
      "c:\\Python311\\Lib\\site-packages\\sklearn\\utils\\optimize.py:74: LineSearchWarning:\n",
      "\n",
      "The line search algorithm did not converge\n",
      "\n",
      "c:\\Python311\\Lib\\site-packages\\scipy\\optimize\\_linesearch.py:313: LineSearchWarning:\n",
      "\n",
      "Rounding errors prevent the line search from converging\n",
      "\n",
      "c:\\Python311\\Lib\\site-packages\\sklearn\\utils\\optimize.py:239: UserWarning:\n",
      "\n",
      "Line Search failed\n",
      "\n",
      "c:\\Python311\\Lib\\site-packages\\scipy\\optimize\\_linesearch.py:313: LineSearchWarning:\n",
      "\n",
      "The line search algorithm did not converge\n",
      "\n",
      "c:\\Python311\\Lib\\site-packages\\sklearn\\utils\\optimize.py:74: LineSearchWarning:\n",
      "\n",
      "The line search algorithm did not converge\n",
      "\n",
      "c:\\Python311\\Lib\\site-packages\\scipy\\optimize\\_linesearch.py:313: LineSearchWarning:\n",
      "\n",
      "Rounding errors prevent the line search from converging\n",
      "\n",
      "c:\\Python311\\Lib\\site-packages\\sklearn\\utils\\optimize.py:239: UserWarning:\n",
      "\n",
      "Line Search failed\n",
      "\n",
      "c:\\Python311\\Lib\\site-packages\\scipy\\optimize\\_linesearch.py:313: LineSearchWarning:\n",
      "\n",
      "The line search algorithm did not converge\n",
      "\n",
      "c:\\Python311\\Lib\\site-packages\\sklearn\\utils\\optimize.py:74: LineSearchWarning:\n",
      "\n",
      "The line search algorithm did not converge\n",
      "\n",
      "c:\\Python311\\Lib\\site-packages\\scipy\\optimize\\_linesearch.py:313: LineSearchWarning:\n",
      "\n",
      "Rounding errors prevent the line search from converging\n",
      "\n",
      "c:\\Python311\\Lib\\site-packages\\sklearn\\utils\\optimize.py:239: UserWarning:\n",
      "\n",
      "Line Search failed\n",
      "\n",
      "c:\\Python311\\Lib\\site-packages\\scipy\\optimize\\_linesearch.py:313: LineSearchWarning:\n",
      "\n",
      "The line search algorithm did not converge\n",
      "\n",
      "c:\\Python311\\Lib\\site-packages\\sklearn\\utils\\optimize.py:74: LineSearchWarning:\n",
      "\n",
      "The line search algorithm did not converge\n",
      "\n",
      "c:\\Python311\\Lib\\site-packages\\scipy\\optimize\\_linesearch.py:313: LineSearchWarning:\n",
      "\n",
      "Rounding errors prevent the line search from converging\n",
      "\n",
      "c:\\Python311\\Lib\\site-packages\\sklearn\\utils\\optimize.py:239: UserWarning:\n",
      "\n",
      "Line Search failed\n",
      "\n",
      "c:\\Python311\\Lib\\site-packages\\scipy\\optimize\\_linesearch.py:313: LineSearchWarning:\n",
      "\n",
      "The line search algorithm did not converge\n",
      "\n",
      "c:\\Python311\\Lib\\site-packages\\sklearn\\utils\\optimize.py:74: LineSearchWarning:\n",
      "\n",
      "The line search algorithm did not converge\n",
      "\n",
      "c:\\Python311\\Lib\\site-packages\\scipy\\optimize\\_linesearch.py:313: LineSearchWarning:\n",
      "\n",
      "Rounding errors prevent the line search from converging\n",
      "\n",
      "c:\\Python311\\Lib\\site-packages\\sklearn\\utils\\optimize.py:239: UserWarning:\n",
      "\n",
      "Line Search failed\n",
      "\n",
      "c:\\Python311\\Lib\\site-packages\\scipy\\optimize\\_linesearch.py:313: LineSearchWarning:\n",
      "\n",
      "The line search algorithm did not converge\n",
      "\n",
      "c:\\Python311\\Lib\\site-packages\\sklearn\\utils\\optimize.py:74: LineSearchWarning:\n",
      "\n",
      "The line search algorithm did not converge\n",
      "\n",
      "c:\\Python311\\Lib\\site-packages\\scipy\\optimize\\_linesearch.py:313: LineSearchWarning:\n",
      "\n",
      "Rounding errors prevent the line search from converging\n",
      "\n",
      "c:\\Python311\\Lib\\site-packages\\sklearn\\utils\\optimize.py:239: UserWarning:\n",
      "\n",
      "Line Search failed\n",
      "\n",
      "c:\\Python311\\Lib\\site-packages\\scipy\\optimize\\_linesearch.py:313: LineSearchWarning:\n",
      "\n",
      "The line search algorithm did not converge\n",
      "\n",
      "c:\\Python311\\Lib\\site-packages\\sklearn\\utils\\optimize.py:74: LineSearchWarning:\n",
      "\n",
      "The line search algorithm did not converge\n",
      "\n",
      "c:\\Python311\\Lib\\site-packages\\sklearn\\utils\\optimize.py:239: UserWarning:\n",
      "\n",
      "Line Search failed\n",
      "\n",
      "c:\\Python311\\Lib\\site-packages\\scipy\\optimize\\_linesearch.py:313: LineSearchWarning:\n",
      "\n",
      "The line search algorithm did not converge\n",
      "\n",
      "c:\\Python311\\Lib\\site-packages\\sklearn\\utils\\optimize.py:74: LineSearchWarning:\n",
      "\n",
      "The line search algorithm did not converge\n",
      "\n",
      "c:\\Python311\\Lib\\site-packages\\scipy\\optimize\\_linesearch.py:313: LineSearchWarning:\n",
      "\n",
      "Rounding errors prevent the line search from converging\n",
      "\n",
      "c:\\Python311\\Lib\\site-packages\\sklearn\\utils\\optimize.py:239: UserWarning:\n",
      "\n",
      "Line Search failed\n",
      "\n",
      "c:\\Python311\\Lib\\site-packages\\scipy\\optimize\\_linesearch.py:313: LineSearchWarning:\n",
      "\n",
      "The line search algorithm did not converge\n",
      "\n",
      "c:\\Python311\\Lib\\site-packages\\sklearn\\utils\\optimize.py:74: LineSearchWarning:\n",
      "\n",
      "The line search algorithm did not converge\n",
      "\n",
      "c:\\Python311\\Lib\\site-packages\\scipy\\optimize\\_linesearch.py:313: LineSearchWarning:\n",
      "\n",
      "Rounding errors prevent the line search from converging\n",
      "\n",
      "c:\\Python311\\Lib\\site-packages\\sklearn\\utils\\optimize.py:239: UserWarning:\n",
      "\n",
      "Line Search failed\n",
      "\n",
      "c:\\Python311\\Lib\\site-packages\\scipy\\optimize\\_linesearch.py:313: LineSearchWarning:\n",
      "\n",
      "The line search algorithm did not converge\n",
      "\n",
      "c:\\Python311\\Lib\\site-packages\\sklearn\\utils\\optimize.py:74: LineSearchWarning:\n",
      "\n",
      "The line search algorithm did not converge\n",
      "\n",
      "c:\\Python311\\Lib\\site-packages\\scipy\\optimize\\_linesearch.py:313: LineSearchWarning:\n",
      "\n",
      "Rounding errors prevent the line search from converging\n",
      "\n",
      "c:\\Python311\\Lib\\site-packages\\sklearn\\utils\\optimize.py:239: UserWarning:\n",
      "\n",
      "Line Search failed\n",
      "\n",
      "c:\\Python311\\Lib\\site-packages\\scipy\\optimize\\_linesearch.py:313: LineSearchWarning:\n",
      "\n",
      "The line search algorithm did not converge\n",
      "\n",
      "c:\\Python311\\Lib\\site-packages\\sklearn\\utils\\optimize.py:74: LineSearchWarning:\n",
      "\n",
      "The line search algorithm did not converge\n",
      "\n",
      "c:\\Python311\\Lib\\site-packages\\scipy\\optimize\\_linesearch.py:313: LineSearchWarning:\n",
      "\n",
      "Rounding errors prevent the line search from converging\n",
      "\n",
      "c:\\Python311\\Lib\\site-packages\\sklearn\\utils\\optimize.py:239: UserWarning:\n",
      "\n",
      "Line Search failed\n",
      "\n",
      "c:\\Python311\\Lib\\site-packages\\scipy\\optimize\\_linesearch.py:313: LineSearchWarning:\n",
      "\n",
      "The line search algorithm did not converge\n",
      "\n",
      "c:\\Python311\\Lib\\site-packages\\sklearn\\utils\\optimize.py:74: LineSearchWarning:\n",
      "\n",
      "The line search algorithm did not converge\n",
      "\n",
      "c:\\Python311\\Lib\\site-packages\\scipy\\optimize\\_linesearch.py:313: LineSearchWarning:\n",
      "\n",
      "Rounding errors prevent the line search from converging\n",
      "\n",
      "c:\\Python311\\Lib\\site-packages\\sklearn\\utils\\optimize.py:239: UserWarning:\n",
      "\n",
      "Line Search failed\n",
      "\n",
      "c:\\Python311\\Lib\\site-packages\\scipy\\optimize\\_linesearch.py:313: LineSearchWarning:\n",
      "\n",
      "The line search algorithm did not converge\n",
      "\n",
      "c:\\Python311\\Lib\\site-packages\\sklearn\\utils\\optimize.py:74: LineSearchWarning:\n",
      "\n",
      "The line search algorithm did not converge\n",
      "\n",
      "c:\\Python311\\Lib\\site-packages\\scipy\\optimize\\_linesearch.py:313: LineSearchWarning:\n",
      "\n",
      "Rounding errors prevent the line search from converging\n",
      "\n",
      "c:\\Python311\\Lib\\site-packages\\sklearn\\utils\\optimize.py:239: UserWarning:\n",
      "\n",
      "Line Search failed\n",
      "\n",
      "c:\\Python311\\Lib\\site-packages\\scipy\\optimize\\_linesearch.py:313: LineSearchWarning:\n",
      "\n",
      "The line search algorithm did not converge\n",
      "\n",
      "c:\\Python311\\Lib\\site-packages\\sklearn\\utils\\optimize.py:74: LineSearchWarning:\n",
      "\n",
      "The line search algorithm did not converge\n",
      "\n",
      "c:\\Python311\\Lib\\site-packages\\scipy\\optimize\\_linesearch.py:313: LineSearchWarning:\n",
      "\n",
      "Rounding errors prevent the line search from converging\n",
      "\n",
      "c:\\Python311\\Lib\\site-packages\\sklearn\\utils\\optimize.py:239: UserWarning:\n",
      "\n",
      "Line Search failed\n",
      "\n",
      "c:\\Python311\\Lib\\site-packages\\scipy\\optimize\\_linesearch.py:313: LineSearchWarning:\n",
      "\n",
      "The line search algorithm did not converge\n",
      "\n",
      "c:\\Python311\\Lib\\site-packages\\sklearn\\utils\\optimize.py:74: LineSearchWarning:\n",
      "\n",
      "The line search algorithm did not converge\n",
      "\n",
      "c:\\Python311\\Lib\\site-packages\\scipy\\optimize\\_linesearch.py:313: LineSearchWarning:\n",
      "\n",
      "Rounding errors prevent the line search from converging\n",
      "\n",
      "c:\\Python311\\Lib\\site-packages\\sklearn\\utils\\optimize.py:239: UserWarning:\n",
      "\n",
      "Line Search failed\n",
      "\n",
      "c:\\Python311\\Lib\\site-packages\\scipy\\optimize\\_linesearch.py:313: LineSearchWarning:\n",
      "\n",
      "The line search algorithm did not converge\n",
      "\n",
      "c:\\Python311\\Lib\\site-packages\\sklearn\\utils\\optimize.py:74: LineSearchWarning:\n",
      "\n",
      "The line search algorithm did not converge\n",
      "\n",
      "c:\\Python311\\Lib\\site-packages\\scipy\\optimize\\_linesearch.py:313: LineSearchWarning:\n",
      "\n",
      "Rounding errors prevent the line search from converging\n",
      "\n",
      "c:\\Python311\\Lib\\site-packages\\sklearn\\utils\\optimize.py:239: UserWarning:\n",
      "\n",
      "Line Search failed\n",
      "\n",
      "c:\\Python311\\Lib\\site-packages\\scipy\\optimize\\_linesearch.py:313: LineSearchWarning:\n",
      "\n",
      "The line search algorithm did not converge\n",
      "\n",
      "c:\\Python311\\Lib\\site-packages\\sklearn\\utils\\optimize.py:74: LineSearchWarning:\n",
      "\n",
      "The line search algorithm did not converge\n",
      "\n",
      "c:\\Python311\\Lib\\site-packages\\scipy\\optimize\\_linesearch.py:313: LineSearchWarning:\n",
      "\n",
      "Rounding errors prevent the line search from converging\n",
      "\n",
      "c:\\Python311\\Lib\\site-packages\\sklearn\\utils\\optimize.py:239: UserWarning:\n",
      "\n",
      "Line Search failed\n",
      "\n",
      "c:\\Python311\\Lib\\site-packages\\scipy\\optimize\\_linesearch.py:313: LineSearchWarning:\n",
      "\n",
      "The line search algorithm did not converge\n",
      "\n",
      "c:\\Python311\\Lib\\site-packages\\sklearn\\utils\\optimize.py:74: LineSearchWarning:\n",
      "\n",
      "The line search algorithm did not converge\n",
      "\n",
      "c:\\Python311\\Lib\\site-packages\\sklearn\\utils\\optimize.py:239: UserWarning:\n",
      "\n",
      "Line Search failed\n",
      "\n",
      "c:\\Python311\\Lib\\site-packages\\scipy\\optimize\\_linesearch.py:313: LineSearchWarning:\n",
      "\n",
      "The line search algorithm did not converge\n",
      "\n",
      "c:\\Python311\\Lib\\site-packages\\sklearn\\utils\\optimize.py:74: LineSearchWarning:\n",
      "\n",
      "The line search algorithm did not converge\n",
      "\n",
      "c:\\Python311\\Lib\\site-packages\\scipy\\optimize\\_linesearch.py:313: LineSearchWarning:\n",
      "\n",
      "Rounding errors prevent the line search from converging\n",
      "\n",
      "c:\\Python311\\Lib\\site-packages\\sklearn\\utils\\optimize.py:239: UserWarning:\n",
      "\n",
      "Line Search failed\n",
      "\n",
      "c:\\Python311\\Lib\\site-packages\\scipy\\optimize\\_linesearch.py:313: LineSearchWarning:\n",
      "\n",
      "The line search algorithm did not converge\n",
      "\n",
      "c:\\Python311\\Lib\\site-packages\\sklearn\\utils\\optimize.py:74: LineSearchWarning:\n",
      "\n",
      "The line search algorithm did not converge\n",
      "\n",
      "c:\\Python311\\Lib\\site-packages\\scipy\\optimize\\_linesearch.py:313: LineSearchWarning:\n",
      "\n",
      "Rounding errors prevent the line search from converging\n",
      "\n",
      "c:\\Python311\\Lib\\site-packages\\sklearn\\utils\\optimize.py:239: UserWarning:\n",
      "\n",
      "Line Search failed\n",
      "\n",
      "c:\\Python311\\Lib\\site-packages\\scipy\\optimize\\_linesearch.py:313: LineSearchWarning:\n",
      "\n",
      "The line search algorithm did not converge\n",
      "\n",
      "c:\\Python311\\Lib\\site-packages\\sklearn\\utils\\optimize.py:74: LineSearchWarning:\n",
      "\n",
      "The line search algorithm did not converge\n",
      "\n",
      "c:\\Python311\\Lib\\site-packages\\scipy\\optimize\\_linesearch.py:313: LineSearchWarning:\n",
      "\n",
      "Rounding errors prevent the line search from converging\n",
      "\n",
      "c:\\Python311\\Lib\\site-packages\\sklearn\\utils\\optimize.py:239: UserWarning:\n",
      "\n",
      "Line Search failed\n",
      "\n",
      "c:\\Python311\\Lib\\site-packages\\scipy\\optimize\\_linesearch.py:313: LineSearchWarning:\n",
      "\n",
      "The line search algorithm did not converge\n",
      "\n",
      "c:\\Python311\\Lib\\site-packages\\sklearn\\utils\\optimize.py:74: LineSearchWarning:\n",
      "\n",
      "The line search algorithm did not converge\n",
      "\n",
      "c:\\Python311\\Lib\\site-packages\\scipy\\optimize\\_linesearch.py:313: LineSearchWarning:\n",
      "\n",
      "Rounding errors prevent the line search from converging\n",
      "\n",
      "c:\\Python311\\Lib\\site-packages\\sklearn\\utils\\optimize.py:239: UserWarning:\n",
      "\n",
      "Line Search failed\n",
      "\n",
      "c:\\Python311\\Lib\\site-packages\\scipy\\optimize\\_linesearch.py:313: LineSearchWarning:\n",
      "\n",
      "The line search algorithm did not converge\n",
      "\n",
      "c:\\Python311\\Lib\\site-packages\\sklearn\\utils\\optimize.py:74: LineSearchWarning:\n",
      "\n",
      "The line search algorithm did not converge\n",
      "\n",
      "c:\\Python311\\Lib\\site-packages\\scipy\\optimize\\_linesearch.py:313: LineSearchWarning:\n",
      "\n",
      "Rounding errors prevent the line search from converging\n",
      "\n",
      "c:\\Python311\\Lib\\site-packages\\sklearn\\utils\\optimize.py:239: UserWarning:\n",
      "\n",
      "Line Search failed\n",
      "\n",
      "c:\\Python311\\Lib\\site-packages\\scipy\\optimize\\_linesearch.py:313: LineSearchWarning:\n",
      "\n",
      "The line search algorithm did not converge\n",
      "\n",
      "c:\\Python311\\Lib\\site-packages\\sklearn\\utils\\optimize.py:74: LineSearchWarning:\n",
      "\n",
      "The line search algorithm did not converge\n",
      "\n",
      "c:\\Python311\\Lib\\site-packages\\scipy\\optimize\\_linesearch.py:313: LineSearchWarning:\n",
      "\n",
      "Rounding errors prevent the line search from converging\n",
      "\n",
      "c:\\Python311\\Lib\\site-packages\\sklearn\\utils\\optimize.py:239: UserWarning:\n",
      "\n",
      "Line Search failed\n",
      "\n",
      "c:\\Python311\\Lib\\site-packages\\scipy\\optimize\\_linesearch.py:313: LineSearchWarning:\n",
      "\n",
      "The line search algorithm did not converge\n",
      "\n",
      "c:\\Python311\\Lib\\site-packages\\sklearn\\utils\\optimize.py:74: LineSearchWarning:\n",
      "\n",
      "The line search algorithm did not converge\n",
      "\n",
      "c:\\Python311\\Lib\\site-packages\\scipy\\optimize\\_linesearch.py:313: LineSearchWarning:\n",
      "\n",
      "Rounding errors prevent the line search from converging\n",
      "\n",
      "c:\\Python311\\Lib\\site-packages\\sklearn\\utils\\optimize.py:239: UserWarning:\n",
      "\n",
      "Line Search failed\n",
      "\n",
      "c:\\Python311\\Lib\\site-packages\\scipy\\optimize\\_linesearch.py:313: LineSearchWarning:\n",
      "\n",
      "The line search algorithm did not converge\n",
      "\n",
      "c:\\Python311\\Lib\\site-packages\\sklearn\\utils\\optimize.py:74: LineSearchWarning:\n",
      "\n",
      "The line search algorithm did not converge\n",
      "\n",
      "c:\\Python311\\Lib\\site-packages\\scipy\\optimize\\_linesearch.py:313: LineSearchWarning:\n",
      "\n",
      "Rounding errors prevent the line search from converging\n",
      "\n",
      "c:\\Python311\\Lib\\site-packages\\sklearn\\utils\\optimize.py:239: UserWarning:\n",
      "\n",
      "Line Search failed\n",
      "\n",
      "c:\\Python311\\Lib\\site-packages\\scipy\\optimize\\_linesearch.py:313: LineSearchWarning:\n",
      "\n",
      "The line search algorithm did not converge\n",
      "\n",
      "c:\\Python311\\Lib\\site-packages\\sklearn\\utils\\optimize.py:74: LineSearchWarning:\n",
      "\n",
      "The line search algorithm did not converge\n",
      "\n",
      "c:\\Python311\\Lib\\site-packages\\scipy\\optimize\\_linesearch.py:313: LineSearchWarning:\n",
      "\n",
      "Rounding errors prevent the line search from converging\n",
      "\n",
      "c:\\Python311\\Lib\\site-packages\\sklearn\\utils\\optimize.py:239: UserWarning:\n",
      "\n",
      "Line Search failed\n",
      "\n",
      "c:\\Python311\\Lib\\site-packages\\scipy\\optimize\\_linesearch.py:313: LineSearchWarning:\n",
      "\n",
      "The line search algorithm did not converge\n",
      "\n",
      "c:\\Python311\\Lib\\site-packages\\sklearn\\utils\\optimize.py:74: LineSearchWarning:\n",
      "\n",
      "The line search algorithm did not converge\n",
      "\n",
      "c:\\Python311\\Lib\\site-packages\\scipy\\optimize\\_linesearch.py:313: LineSearchWarning:\n",
      "\n",
      "Rounding errors prevent the line search from converging\n",
      "\n",
      "c:\\Python311\\Lib\\site-packages\\sklearn\\utils\\optimize.py:239: UserWarning:\n",
      "\n",
      "Line Search failed\n",
      "\n",
      "c:\\Python311\\Lib\\site-packages\\scipy\\optimize\\_linesearch.py:313: LineSearchWarning:\n",
      "\n",
      "The line search algorithm did not converge\n",
      "\n",
      "c:\\Python311\\Lib\\site-packages\\sklearn\\utils\\optimize.py:74: LineSearchWarning:\n",
      "\n",
      "The line search algorithm did not converge\n",
      "\n",
      "c:\\Python311\\Lib\\site-packages\\scipy\\optimize\\_linesearch.py:313: LineSearchWarning:\n",
      "\n",
      "Rounding errors prevent the line search from converging\n",
      "\n",
      "c:\\Python311\\Lib\\site-packages\\sklearn\\utils\\optimize.py:239: UserWarning:\n",
      "\n",
      "Line Search failed\n",
      "\n",
      "c:\\Python311\\Lib\\site-packages\\scipy\\optimize\\_linesearch.py:313: LineSearchWarning:\n",
      "\n",
      "The line search algorithm did not converge\n",
      "\n",
      "c:\\Python311\\Lib\\site-packages\\sklearn\\utils\\optimize.py:74: LineSearchWarning:\n",
      "\n",
      "The line search algorithm did not converge\n",
      "\n",
      "c:\\Python311\\Lib\\site-packages\\scipy\\optimize\\_linesearch.py:313: LineSearchWarning:\n",
      "\n",
      "Rounding errors prevent the line search from converging\n",
      "\n",
      "c:\\Python311\\Lib\\site-packages\\sklearn\\utils\\optimize.py:239: UserWarning:\n",
      "\n",
      "Line Search failed\n",
      "\n",
      "c:\\Python311\\Lib\\site-packages\\scipy\\optimize\\_linesearch.py:313: LineSearchWarning:\n",
      "\n",
      "The line search algorithm did not converge\n",
      "\n",
      "c:\\Python311\\Lib\\site-packages\\sklearn\\utils\\optimize.py:74: LineSearchWarning:\n",
      "\n",
      "The line search algorithm did not converge\n",
      "\n",
      "c:\\Python311\\Lib\\site-packages\\scipy\\optimize\\_linesearch.py:313: LineSearchWarning:\n",
      "\n",
      "Rounding errors prevent the line search from converging\n",
      "\n",
      "c:\\Python311\\Lib\\site-packages\\sklearn\\utils\\optimize.py:239: UserWarning:\n",
      "\n",
      "Line Search failed\n",
      "\n",
      "c:\\Python311\\Lib\\site-packages\\scipy\\optimize\\_linesearch.py:313: LineSearchWarning:\n",
      "\n",
      "The line search algorithm did not converge\n",
      "\n",
      "c:\\Python311\\Lib\\site-packages\\sklearn\\utils\\optimize.py:74: LineSearchWarning:\n",
      "\n",
      "The line search algorithm did not converge\n",
      "\n",
      "c:\\Python311\\Lib\\site-packages\\scipy\\optimize\\_linesearch.py:313: LineSearchWarning:\n",
      "\n",
      "Rounding errors prevent the line search from converging\n",
      "\n",
      "c:\\Python311\\Lib\\site-packages\\sklearn\\utils\\optimize.py:239: UserWarning:\n",
      "\n",
      "Line Search failed\n",
      "\n",
      "c:\\Python311\\Lib\\site-packages\\scipy\\optimize\\_linesearch.py:313: LineSearchWarning:\n",
      "\n",
      "The line search algorithm did not converge\n",
      "\n",
      "c:\\Python311\\Lib\\site-packages\\sklearn\\utils\\optimize.py:74: LineSearchWarning:\n",
      "\n",
      "The line search algorithm did not converge\n",
      "\n",
      "c:\\Python311\\Lib\\site-packages\\scipy\\optimize\\_linesearch.py:313: LineSearchWarning:\n",
      "\n",
      "Rounding errors prevent the line search from converging\n",
      "\n",
      "c:\\Python311\\Lib\\site-packages\\sklearn\\utils\\optimize.py:239: UserWarning:\n",
      "\n",
      "Line Search failed\n",
      "\n",
      "c:\\Python311\\Lib\\site-packages\\scipy\\optimize\\_linesearch.py:313: LineSearchWarning:\n",
      "\n",
      "The line search algorithm did not converge\n",
      "\n",
      "c:\\Python311\\Lib\\site-packages\\sklearn\\utils\\optimize.py:74: LineSearchWarning:\n",
      "\n",
      "The line search algorithm did not converge\n",
      "\n",
      "c:\\Python311\\Lib\\site-packages\\scipy\\optimize\\_linesearch.py:313: LineSearchWarning:\n",
      "\n",
      "Rounding errors prevent the line search from converging\n",
      "\n",
      "c:\\Python311\\Lib\\site-packages\\sklearn\\utils\\optimize.py:239: UserWarning:\n",
      "\n",
      "Line Search failed\n",
      "\n",
      "c:\\Python311\\Lib\\site-packages\\scipy\\optimize\\_linesearch.py:313: LineSearchWarning:\n",
      "\n",
      "The line search algorithm did not converge\n",
      "\n",
      "c:\\Python311\\Lib\\site-packages\\sklearn\\utils\\optimize.py:74: LineSearchWarning:\n",
      "\n",
      "The line search algorithm did not converge\n",
      "\n",
      "c:\\Python311\\Lib\\site-packages\\scipy\\optimize\\_linesearch.py:313: LineSearchWarning:\n",
      "\n",
      "Rounding errors prevent the line search from converging\n",
      "\n",
      "c:\\Python311\\Lib\\site-packages\\sklearn\\utils\\optimize.py:239: UserWarning:\n",
      "\n",
      "Line Search failed\n",
      "\n",
      "c:\\Python311\\Lib\\site-packages\\scipy\\optimize\\_linesearch.py:313: LineSearchWarning:\n",
      "\n",
      "The line search algorithm did not converge\n",
      "\n",
      "c:\\Python311\\Lib\\site-packages\\sklearn\\utils\\optimize.py:74: LineSearchWarning:\n",
      "\n",
      "The line search algorithm did not converge\n",
      "\n",
      "c:\\Python311\\Lib\\site-packages\\scipy\\optimize\\_linesearch.py:313: LineSearchWarning:\n",
      "\n",
      "Rounding errors prevent the line search from converging\n",
      "\n",
      "c:\\Python311\\Lib\\site-packages\\sklearn\\utils\\optimize.py:239: UserWarning:\n",
      "\n",
      "Line Search failed\n",
      "\n",
      "c:\\Python311\\Lib\\site-packages\\scipy\\optimize\\_linesearch.py:313: LineSearchWarning:\n",
      "\n",
      "The line search algorithm did not converge\n",
      "\n",
      "c:\\Python311\\Lib\\site-packages\\sklearn\\utils\\optimize.py:74: LineSearchWarning:\n",
      "\n",
      "The line search algorithm did not converge\n",
      "\n",
      "c:\\Python311\\Lib\\site-packages\\scipy\\optimize\\_linesearch.py:313: LineSearchWarning:\n",
      "\n",
      "Rounding errors prevent the line search from converging\n",
      "\n",
      "c:\\Python311\\Lib\\site-packages\\sklearn\\utils\\optimize.py:239: UserWarning:\n",
      "\n",
      "Line Search failed\n",
      "\n",
      "c:\\Python311\\Lib\\site-packages\\scipy\\optimize\\_linesearch.py:313: LineSearchWarning:\n",
      "\n",
      "The line search algorithm did not converge\n",
      "\n",
      "c:\\Python311\\Lib\\site-packages\\sklearn\\utils\\optimize.py:74: LineSearchWarning:\n",
      "\n",
      "The line search algorithm did not converge\n",
      "\n",
      "c:\\Python311\\Lib\\site-packages\\scipy\\optimize\\_linesearch.py:313: LineSearchWarning:\n",
      "\n",
      "Rounding errors prevent the line search from converging\n",
      "\n",
      "c:\\Python311\\Lib\\site-packages\\sklearn\\utils\\optimize.py:239: UserWarning:\n",
      "\n",
      "Line Search failed\n",
      "\n",
      "c:\\Python311\\Lib\\site-packages\\scipy\\optimize\\_linesearch.py:313: LineSearchWarning:\n",
      "\n",
      "The line search algorithm did not converge\n",
      "\n",
      "c:\\Python311\\Lib\\site-packages\\sklearn\\utils\\optimize.py:74: LineSearchWarning:\n",
      "\n",
      "The line search algorithm did not converge\n",
      "\n",
      "c:\\Python311\\Lib\\site-packages\\scipy\\optimize\\_linesearch.py:313: LineSearchWarning:\n",
      "\n",
      "Rounding errors prevent the line search from converging\n",
      "\n",
      "c:\\Python311\\Lib\\site-packages\\sklearn\\utils\\optimize.py:239: UserWarning:\n",
      "\n",
      "Line Search failed\n",
      "\n"
     ]
    },
    {
     "data": {
      "image/png": "[encoded data removed]",
      "text/plain": [
       "<Figure size 1000x600 with 1 Axes>"
      ]
     },
     "metadata": {},
     "output_type": "display_data"
    },
    {
     "data": {
      "image/png": "[encoded data removed]",
      "text/plain": [
       "<Figure size 1200x600 with 1 Axes>"
      ]
     },
     "metadata": {},
     "output_type": "display_data"
    }
   ],
   "source": [
    "import pandas as pd\n",
    "import numpy as np\n",
    "import matplotlib.pyplot as plt\n",
    "import seaborn as sns\n",
    "from sklearn.model_selection import train_test_split\n",
    "from sklearn.ensemble import RandomForestClassifier\n",
    "from sklearn.linear_model import LogisticRegression\n",
    "from sklearn.metrics import roc_auc_score\n",
    "\n",
    "# Assuming X and y are already defined\n",
    "# If X and y are not defined, you need to load and preprocess your data accordingly\n",
    "\n",
    "# Function to streamline the process for the entire dataset\n",
    "def model_for_entire_dataset(X, y, num_features):\n",
    "    results = {}\n",
    "    \n",
    "    # Train-test split\n",
    "    X_train, X_val, y_train, y_val = train_test_split(X, y, test_size=0.2, random_state=42)\n",
    "    \n",
    "    # Train RandomForestClassifier\n",
    "    clf = RandomForestClassifier(random_state=0)\n",
    "    clf = clf.fit(X_train, y_train)\n",
    "    \n",
    "    # Calculate AUC score on validation set\n",
    "    rf_auc_val = roc_auc_score(y_val, clf.predict_proba(X_val)[:, 1])\n",
    "    \n",
    "    # Get feature importances\n",
    "    feature_importances = pd.Series(clf.feature_importances_, index=X_train.columns)\n",
    "    feature_importances_sorted = feature_importances.sort_values(ascending=False)\n",
    "    \n",
    "    # Initialize lists\n",
    "    base_clf_list = []\n",
    "    train_auc_list = []\n",
    "    test_auc_list = []\n",
    "    \n",
    "    for i in range(num_features):  # Limiting to the first num_features most important features\n",
    "        feature_names = list(feature_importances_sorted.index[:i+1])\n",
    "        \n",
    "        base_clf = LogisticRegression(random_state=0, solver='newton-cg', penalty='l2', C=1.0)\n",
    "        base_clf.fit(X_train[feature_names], y_train)\n",
    "        \n",
    "        # Calculate AUC scores\n",
    "        train_auc = roc_auc_score(y_train, base_clf.predict_proba(X_train[feature_names])[:, 1])\n",
    "        val_auc = roc_auc_score(y_val, base_clf.predict_proba(X_val[feature_names])[:, 1])\n",
    "        \n",
    "        base_clf_list.append(base_clf)\n",
    "        train_auc_list.append(train_auc)\n",
    "        test_auc_list.append(val_auc)\n",
    "    \n",
    "    # Store results\n",
    "    results['feature_importances_sorted'] = feature_importances_sorted\n",
    "    results['base_clf_list'] = base_clf_list\n",
    "    results['train_auc_list'] = train_auc_list\n",
    "    results['test_auc_list'] = test_auc_list\n",
    "    results['rf_auc_val'] = rf_auc_val\n",
    "    \n",
    "    return results\n",
    "\n",
    "def plot_results(X, y, num_features):\n",
    "    # Train models and get results\n",
    "    results = model_for_entire_dataset(X, y, num_features)\n",
    "    \n",
    "    # Plotting the results using Seaborn and Matplotlib\n",
    "    def plot_auc_scores(results, num_features):\n",
    "        x_axis = list(range(1, num_features + 1))\n",
    "        plt.figure(figsize=(10, 6))\n",
    "        plt.plot(x_axis, results['train_auc_list'], marker='o', label='Train AUC')\n",
    "        plt.plot(x_axis, results['test_auc_list'], marker='o', label='Test AUC')\n",
    "        plt.axhline(y=results['rf_auc_val'], color='r', linestyle='--', label='RF AUC')\n",
    "        plt.title(f'AUC Scores for Top {num_features} Features')\n",
    "        plt.xlabel('Number of Variables')\n",
    "        plt.ylabel('AUC')\n",
    "        plt.legend()\n",
    "        plt.show()\n",
    "\n",
    "    def plot_lr_coefficients(results, num_features):\n",
    "        coef = results['base_clf_list'][num_features - 1].coef_[0]\n",
    "        features = list(results['feature_importances_sorted'].index[:num_features])\n",
    "        plt.figure(figsize=(12, 6))\n",
    "        sns.barplot(x=features, y=coef)\n",
    "        plt.title(f'LR Coefficients for Top {num_features} Features')\n",
    "        plt.xlabel('Feature')\n",
    "        plt.ylabel('Coefficient (Log Odds)')\n",
    "        plt.xticks(rotation=45)\n",
    "        plt.show()\n",
    "\n",
    "    plot_auc_scores(results, num_features)\n",
    "    plot_lr_coefficients(results, num_features)\n",
    "\n",
    "# Example usage\n",
    "# plot_results(X_train, y_train, 10)\n",
    "plot_results(X_train, y_train, 5)\n",
    "# plot_results(X_train, y_train, 20)\n",
    "plot_results(X_train, y_train, len(X_train.columns))"
   ]
  },
  {
   "cell_type": "markdown",
   "metadata": {},
   "source": [
    "**End of Notebook**"
   ]
  },
  {
   "cell_type": "markdown",
   "metadata": {},
   "source": []
  }
 ],
 "metadata": {
  "kernelspec": {
   "display_name": "Python 3",
   "language": "python",
   "name": "python3"
  },
  "language_info": {
   "codemirror_mode": {
    "name": "ipython",
    "version": 3
   },
   "file_extension": ".py",
   "mimetype": "text/x-python",
   "name": "python",
   "nbconvert_exporter": "python",
   "pygments_lexer": "ipython3",
   "version": "3.11.4"
  }
 },
 "nbformat": 4,
 "nbformat_minor": 2
}
